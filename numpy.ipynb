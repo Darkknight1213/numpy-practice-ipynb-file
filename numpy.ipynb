{
 "cells": [
  {
   "cell_type": "markdown",
   "id": "c345c333",
   "metadata": {},
   "source": [
    "## Fundamentals of Numpy\n",
    "1. .."
   ]
  },
  {
   "cell_type": "code",
   "execution_count": null,
   "id": "82248e6a",
   "metadata": {},
   "outputs": [],
   "source": [
    "#1. ..\n"
   ]
  },
  {
   "cell_type": "markdown",
   "id": "a279a128",
   "metadata": {},
   "source": [
    "## Array creation\n",
    "2. creating 1d array, 2d, 3d, using np.zeros, np.ones, np.empty, np.arange, np.linspace, np.random.random, np.random,randint"
   ]
  },
  {
   "cell_type": "code",
   "execution_count": null,
   "id": "a1bad78c",
   "metadata": {},
   "outputs": [],
   "source": [
    "#2. creating 1d array, 2d, 3d, using np.zeros, np.ones, np.empty, np.arange, np.linspace, np.random.random, np.random,randint\n"
   ]
  },
  {
   "cell_type": "markdown",
   "id": "a9fcd605",
   "metadata": {},
   "source": [
    "## Create 1D Array\n",
    "3. Create a 1D array using `np.array()`. Use a list of integers for the elements."
   ]
  },
  {
   "cell_type": "code",
   "execution_count": null,
   "id": "67628831",
   "metadata": {},
   "outputs": [],
   "source": [
    "#3. Create a 1D array using `np.array()`. Use a list of integers for the elements.\n"
   ]
  },
  {
   "cell_type": "markdown",
   "id": "720edd20",
   "metadata": {},
   "source": [
    "## Create 2D Array\n",
    "4. Create a 2D array using `np.array()`. Use nested lists for rows."
   ]
  },
  {
   "cell_type": "code",
   "execution_count": null,
   "id": "581ee74f",
   "metadata": {},
   "outputs": [],
   "source": [
    "#4. Create a 2D array using `np.array()`. Use nested lists for rows.\n"
   ]
  },
  {
   "cell_type": "markdown",
   "id": "28325459",
   "metadata": {},
   "source": [
    "## Create 3D Array\n",
    "5. Create a 3D array using `np.array()`. Use nested lists for higher dimensions."
   ]
  },
  {
   "cell_type": "code",
   "execution_count": null,
   "id": "69f892a0",
   "metadata": {},
   "outputs": [],
   "source": [
    "#5. Create a 3D array using `np.array()`. Use nested lists for higher dimensions.\n"
   ]
  },
  {
   "cell_type": "markdown",
   "id": "4eeb079f",
   "metadata": {},
   "source": [
    "## Using np.zeros\n",
    "6. Create a 3x3 matrix filled with zeros."
   ]
  },
  {
   "cell_type": "code",
   "execution_count": null,
   "id": "f097a5bd",
   "metadata": {},
   "outputs": [],
   "source": [
    "#6. Create a 3x3 matrix filled with zeros.\n"
   ]
  },
  {
   "cell_type": "markdown",
   "id": "e4e33611",
   "metadata": {},
   "source": [
    "## Using np.ones\n",
    "7. Create a 4x4 matrix filled with ones."
   ]
  },
  {
   "cell_type": "code",
   "execution_count": null,
   "id": "713d89f2",
   "metadata": {},
   "outputs": [],
   "source": [
    "#7. Create a 4x4 matrix filled with ones.\n"
   ]
  },
  {
   "cell_type": "markdown",
   "id": "0c898e23",
   "metadata": {},
   "source": [
    "## Using np.empty\n",
    "8. Create an uninitialized array of shape (2, 3). Observe the random values it contains."
   ]
  },
  {
   "cell_type": "code",
   "execution_count": null,
   "id": "e6005657",
   "metadata": {},
   "outputs": [],
   "source": [
    "#8. Create an uninitialized array of shape (2, 3). Observe the random values it contains.\n"
   ]
  },
  {
   "cell_type": "markdown",
   "id": "316d2c76",
   "metadata": {},
   "source": [
    "## Using np.arange\n",
    "9. Generate a 1D array of numbers from 10 to 50 with a step of 5."
   ]
  },
  {
   "cell_type": "code",
   "execution_count": null,
   "id": "b7b776c8",
   "metadata": {},
   "outputs": [],
   "source": [
    "#9. Generate a 1D array of numbers from 10 to 50 with a step of 5.\n"
   ]
  },
  {
   "cell_type": "markdown",
   "id": "e9207f72",
   "metadata": {},
   "source": [
    "## Using np.linspace\n",
    "10. Create an array of 10 equally spaced numbers between 0 and 1."
   ]
  },
  {
   "cell_type": "code",
   "execution_count": null,
   "id": "4e51293d",
   "metadata": {},
   "outputs": [],
   "source": [
    "#10. Create an array of 10 equally spaced numbers between 0 and 1.\n"
   ]
  },
  {
   "cell_type": "markdown",
   "id": "4add7992",
   "metadata": {},
   "source": [
    "## Using np.random.random\n",
    "11. Generate a 5x5 matrix of random float numbers between 0 and 1."
   ]
  },
  {
   "cell_type": "code",
   "execution_count": null,
   "id": "b0e8f3c1",
   "metadata": {},
   "outputs": [],
   "source": [
    "#11. Generate a 5x5 matrix of random float numbers between 0 and 1.\n"
   ]
  },
  {
   "cell_type": "markdown",
   "id": "97597661",
   "metadata": {},
   "source": [
    "## Using np.random.randint\n",
    "12. Create a 2x3 matrix with random integers between 10 and 50."
   ]
  },
  {
   "cell_type": "code",
   "execution_count": null,
   "id": "7f327394",
   "metadata": {},
   "outputs": [],
   "source": [
    "#12. Create a 2x3 matrix with random integers between 10 and 50.\n"
   ]
  },
  {
   "cell_type": "markdown",
   "id": "8d1a76eb",
   "metadata": {},
   "source": [
    "## Basic Indexing\n",
    "13. Access the 3rd element in a 1D array."
   ]
  },
  {
   "cell_type": "code",
   "execution_count": null,
   "id": "f663f80d",
   "metadata": {},
   "outputs": [],
   "source": [
    "#13. Access the 3rd element in a 1D array.\n"
   ]
  },
  {
   "cell_type": "markdown",
   "id": "2708855f",
   "metadata": {},
   "source": [
    "## 2D Array Indexing\n",
    "14. Access the element at row 2, column 3 in a 2D array."
   ]
  },
  {
   "cell_type": "code",
   "execution_count": null,
   "id": "abf62f0e",
   "metadata": {},
   "outputs": [],
   "source": [
    "#14. Access the element at row 2, column 3 in a 2D array.\n"
   ]
  },
  {
   "cell_type": "markdown",
   "id": "ee83385b",
   "metadata": {},
   "source": [
    "## Negative Indexing\n",
    "15. Use negative indices to access the last element of a 1D array."
   ]
  },
  {
   "cell_type": "code",
   "execution_count": null,
   "id": "153d3fa3",
   "metadata": {},
   "outputs": [],
   "source": [
    "#15. Use negative indices to access the last element of a 1D array.\n"
   ]
  },
  {
   "cell_type": "markdown",
   "id": "aaa7177b",
   "metadata": {},
   "source": [
    "## Row Slicing\n",
    "16. Slice out the 2nd row of a 2D array."
   ]
  },
  {
   "cell_type": "code",
   "execution_count": null,
   "id": "b1661ce5",
   "metadata": {},
   "outputs": [],
   "source": [
    "#16. Slice out the 2nd row of a 2D array.\n"
   ]
  },
  {
   "cell_type": "markdown",
   "id": "1ca51cf6",
   "metadata": {},
   "source": [
    "## Column Slicing\n",
    "17. Slice out the 1st column of a 2D array."
   ]
  },
  {
   "cell_type": "code",
   "execution_count": null,
   "id": "1af605cc",
   "metadata": {},
   "outputs": [],
   "source": [
    "#17. Slice out the 1st column of a 2D array.\n"
   ]
  },
  {
   "cell_type": "markdown",
   "id": "2822f820",
   "metadata": {},
   "source": [
    "## Advanced Slicing\n",
    "18. Extract a submatrix from a 3x3 matrix."
   ]
  },
  {
   "cell_type": "code",
   "execution_count": null,
   "id": "2a90b28c",
   "metadata": {},
   "outputs": [],
   "source": [
    "#18. Extract a submatrix from a 3x3 matrix.\n"
   ]
  },
  {
   "cell_type": "markdown",
   "id": "90bd8304",
   "metadata": {},
   "source": [
    "## Boolean Indexing\n",
    "19. Filter all elements greater than 5 in a 1D array."
   ]
  },
  {
   "cell_type": "code",
   "execution_count": null,
   "id": "8b5430bc",
   "metadata": {},
   "outputs": [],
   "source": [
    "#19. Filter all elements greater than 5 in a 1D array.\n"
   ]
  },
  {
   "cell_type": "markdown",
   "id": "79f000b9",
   "metadata": {},
   "source": [
    "## Fancy Indexing\n",
    "20. Use a list of indices to access specific elements in a 1D array."
   ]
  },
  {
   "cell_type": "code",
   "execution_count": null,
   "id": "d7aa1e3b",
   "metadata": {},
   "outputs": [],
   "source": [
    "#20. Use a list of indices to access specific elements in a 1D array.\n"
   ]
  },
  {
   "cell_type": "markdown",
   "id": "640aa2ad",
   "metadata": {},
   "source": [
    "## Combining Indexing\n",
    "21. Use slicing and boolean conditions together to extract a subset."
   ]
  },
  {
   "cell_type": "code",
   "execution_count": null,
   "id": "9e88c9a7",
   "metadata": {},
   "outputs": [],
   "source": [
    "#21. Use slicing and boolean conditions together to extract a subset.\n"
   ]
  },
  {
   "cell_type": "markdown",
   "id": "5211ece2",
   "metadata": {},
   "source": [
    "## Index Assignment\n",
    "22. Replace all negative elements in an array with 0 using indexing."
   ]
  },
  {
   "cell_type": "code",
   "execution_count": null,
   "id": "4e0247a8",
   "metadata": {},
   "outputs": [],
   "source": [
    "#22. Replace all negative elements in an array with 0 using indexing.\n"
   ]
  },
  {
   "cell_type": "markdown",
   "id": "8973ccb6",
   "metadata": {},
   "source": [
    "## Save Array\n",
    "23. Save an array to a `.npy` file using `np.save()`."
   ]
  },
  {
   "cell_type": "code",
   "execution_count": null,
   "id": "c80a2240",
   "metadata": {},
   "outputs": [],
   "source": [
    "#23. Save an array to a `.npy` file using `np.save()`.\n"
   ]
  },
  {
   "cell_type": "markdown",
   "id": "55422184",
   "metadata": {},
   "source": [
    "## Load Array\n",
    "24. Load an array from a `.npy` file using `np.load()`."
   ]
  },
  {
   "cell_type": "code",
   "execution_count": null,
   "id": "3b31b1b6",
   "metadata": {},
   "outputs": [],
   "source": [
    "#24. Load an array from a `.npy` file using `np.load()`.\n"
   ]
  },
  {
   "cell_type": "markdown",
   "id": "21619e44",
   "metadata": {},
   "source": [
    "## Save Text File\n",
    "25. Save a 2D array to a `.txt` file using `np.savetxt()`."
   ]
  },
  {
   "cell_type": "code",
   "execution_count": null,
   "id": "67242c2d",
   "metadata": {},
   "outputs": [],
   "source": [
    "#25. Save a 2D array to a `.txt` file using `np.savetxt()`.\n"
   ]
  },
  {
   "cell_type": "markdown",
   "id": "549de00d",
   "metadata": {},
   "source": [
    "## Load Text File\n",
    "26. Load a 2D array from a `.txt` file using `np.loadtxt()`."
   ]
  },
  {
   "cell_type": "code",
   "execution_count": null,
   "id": "3ad9d137",
   "metadata": {},
   "outputs": [],
   "source": [
    "#26. Load a 2D array from a `.txt` file using `np.loadtxt()`.\n"
   ]
  },
  {
   "cell_type": "markdown",
   "id": "d415726c",
   "metadata": {},
   "source": [
    "## CSV Reading\n",
    "27. Read a CSV file into an array using `np.genfromtxt()`."
   ]
  },
  {
   "cell_type": "code",
   "execution_count": null,
   "id": "bcb450ea",
   "metadata": {},
   "outputs": [],
   "source": [
    "#27. Read a CSV file into an array using `np.genfromtxt()`.\n"
   ]
  },
  {
   "cell_type": "markdown",
   "id": "1c59f588",
   "metadata": {},
   "source": [
    "## CSV Writing\n",
    "28. Write an array to a CSV file using `np.savetxt()`."
   ]
  },
  {
   "cell_type": "code",
   "execution_count": null,
   "id": "311387ee",
   "metadata": {},
   "outputs": [],
   "source": [
    "#28. Write an array to a CSV file using `np.savetxt()`.\n"
   ]
  },
  {
   "cell_type": "markdown",
   "id": "d718f2d2",
   "metadata": {},
   "source": [
    "## Binary File Handling\n",
    "29. Save and load an array to/from a binary file using `np.save` and `np.load`."
   ]
  },
  {
   "cell_type": "code",
   "execution_count": null,
   "id": "6131908f",
   "metadata": {},
   "outputs": [],
   "source": [
    "#29. Save and load an array to/from a binary file using `np.save` and `np.load`.\n"
   ]
  },
  {
   "cell_type": "markdown",
   "id": "c081e27c",
   "metadata": {},
   "source": [
    "## Handle Missing Data\n",
    "30. Load a dataset with missing values using `np.genfromtxt` and handle missing entries."
   ]
  },
  {
   "cell_type": "code",
   "execution_count": null,
   "id": "0341aff7",
   "metadata": {},
   "outputs": [],
   "source": [
    "#30. Load a dataset with missing values using `np.genfromtxt` and handle missing entries.\n"
   ]
  },
  {
   "cell_type": "markdown",
   "id": "54b0e356",
   "metadata": {},
   "source": [
    "## String Encoding\n",
    "31. Save and load arrays containing strings to/from `.npy` files."
   ]
  },
  {
   "cell_type": "code",
   "execution_count": null,
   "id": "acb5864d",
   "metadata": {},
   "outputs": [],
   "source": [
    "#31. Save and load arrays containing strings to/from `.npy` files.\n"
   ]
  },
  {
   "cell_type": "markdown",
   "id": "064b58fb",
   "metadata": {},
   "source": [
    "## Custom Delimiter Files\n",
    "32. Load a text file with a custom delimiter (e.g., `;`) into an array."
   ]
  },
  {
   "cell_type": "code",
   "execution_count": null,
   "id": "f593c072",
   "metadata": {},
   "outputs": [],
   "source": [
    "#32. Load a text file with a custom delimiter (e.g., `;`) into an array.\n"
   ]
  },
  {
   "cell_type": "markdown",
   "id": "85dd5645",
   "metadata": {},
   "source": [
    "## Basic Dtypes\n",
    "33. Create an array with integers and check its `dtype`."
   ]
  },
  {
   "cell_type": "code",
   "execution_count": null,
   "id": "1cb178c1",
   "metadata": {},
   "outputs": [],
   "source": [
    "#33. Create an array with integers and check its `dtype`.\n"
   ]
  },
  {
   "cell_type": "markdown",
   "id": "7de69517",
   "metadata": {},
   "source": [
    "## Change Dtype\n",
    "34. Create a float array and convert it to integer using `astype()`."
   ]
  },
  {
   "cell_type": "code",
   "execution_count": null,
   "id": "1aa2d44e",
   "metadata": {},
   "outputs": [],
   "source": [
    "#34. Create a float array and convert it to integer using `astype()`.\n"
   ]
  },
  {
   "cell_type": "markdown",
   "id": "f176daac",
   "metadata": {},
   "source": [
    "## Structured Dtypes\n",
    "35. Create a structured array with fields for `name` (string) and `age` (integer)."
   ]
  },
  {
   "cell_type": "code",
   "execution_count": null,
   "id": "2ce0b631",
   "metadata": {},
   "outputs": [],
   "source": [
    "#35. Create a structured array with fields for `name` (string) and `age` (integer).\n"
   ]
  },
  {
   "cell_type": "markdown",
   "id": "528eab1f",
   "metadata": {},
   "source": [
    "## Type Compatibility\n",
    "36. Explore how NumPy handles operations between arrays of different data types."
   ]
  },
  {
   "cell_type": "code",
   "execution_count": null,
   "id": "b0b2e932",
   "metadata": {},
   "outputs": [],
   "source": [
    "#36. Explore how NumPy handles operations between arrays of different data types.\n"
   ]
  },
  {
   "cell_type": "markdown",
   "id": "adc6d4ad",
   "metadata": {},
   "source": [
    "## Custom Dtypes\n",
    "37. Define a custom dtype for a structured array with `name` (str), `age` (int), and `score` (float)."
   ]
  },
  {
   "cell_type": "code",
   "execution_count": null,
   "id": "63238057",
   "metadata": {},
   "outputs": [],
   "source": [
    "#37. Define a custom dtype for a structured array with `name` (str), `age` (int), and `score` (float).\n"
   ]
  },
  {
   "cell_type": "markdown",
   "id": "713a70c7",
   "metadata": {},
   "source": [
    "## View as Bytes\n",
    "38. View an array as bytes using `view(np.byte)`."
   ]
  },
  {
   "cell_type": "code",
   "execution_count": null,
   "id": "23f29d77",
   "metadata": {},
   "outputs": [],
   "source": [
    "#38. View an array as bytes using `view(np.byte)`.\n"
   ]
  },
  {
   "cell_type": "markdown",
   "id": "3a8f7f5d",
   "metadata": {},
   "source": [
    "## String Arrays\n",
    "39. Create an array of strings and explore its `dtype`."
   ]
  },
  {
   "cell_type": "code",
   "execution_count": null,
   "id": "c8975300",
   "metadata": {},
   "outputs": [],
   "source": [
    "#39. Create an array of strings and explore its `dtype`.\n"
   ]
  },
  {
   "cell_type": "markdown",
   "id": "2991f98e",
   "metadata": {},
   "source": [
    "## Object Arrays\n",
    "40. Create an object array and experiment with mixed types."
   ]
  },
  {
   "cell_type": "code",
   "execution_count": null,
   "id": "cdaf901c",
   "metadata": {},
   "outputs": [],
   "source": [
    "#40. Create an object array and experiment with mixed types.\n"
   ]
  },
  {
   "cell_type": "markdown",
   "id": "6b9768df",
   "metadata": {},
   "source": [
    "## Endianness\n",
    "41. Explore how NumPy handles byte order (endianness) for data types."
   ]
  },
  {
   "cell_type": "code",
   "execution_count": null,
   "id": "5bb2b8b1",
   "metadata": {},
   "outputs": [],
   "source": [
    "#41. Explore how NumPy handles byte order (endianness) for data types.\n"
   ]
  },
  {
   "cell_type": "markdown",
   "id": "09ebb517",
   "metadata": {},
   "source": [
    "## Datetime Arrays\n",
    "42. Work with datetime64 arrays to represent dates and times."
   ]
  },
  {
   "cell_type": "code",
   "execution_count": null,
   "id": "66871fa5",
   "metadata": {},
   "outputs": [],
   "source": [
    "#42. Work with datetime64 arrays to represent dates and times.\n"
   ]
  },
  {
   "cell_type": "markdown",
   "id": "c176e4ea",
   "metadata": {},
   "source": [
    "## Add Scalar\n",
    "43. Add 5 to every element in a 1D array."
   ]
  },
  {
   "cell_type": "code",
   "execution_count": null,
   "id": "1131ea9a",
   "metadata": {},
   "outputs": [],
   "source": [
    "#43. Add 5 to every element in a 1D array.\n"
   ]
  },
  {
   "cell_type": "markdown",
   "id": "1d8ab224",
   "metadata": {},
   "source": [
    "## Row-wise Operations\n",
    "44. Add a 1D array to each row of a 2D array using broadcasting."
   ]
  },
  {
   "cell_type": "code",
   "execution_count": null,
   "id": "ffbb4097",
   "metadata": {},
   "outputs": [],
   "source": [
    "#44. Add a 1D array to each row of a 2D array using broadcasting.\n"
   ]
  },
  {
   "cell_type": "markdown",
   "id": "5a6c00d9",
   "metadata": {},
   "source": [
    "## Column-wise Operations\n",
    "45. Add a 1D array to each column of a 2D array using broadcasting."
   ]
  },
  {
   "cell_type": "code",
   "execution_count": null,
   "id": "75d7eb29",
   "metadata": {},
   "outputs": [],
   "source": [
    "#45. Add a 1D array to each column of a 2D array using broadcasting.\n"
   ]
  },
  {
   "cell_type": "markdown",
   "id": "2175589f",
   "metadata": {},
   "source": [
    "## Array Alignment\n",
    "46. Experiment with broadcasting rules by adding arrays of shapes (3, 1) and (1, 4)."
   ]
  },
  {
   "cell_type": "code",
   "execution_count": null,
   "id": "a6850b5d",
   "metadata": {},
   "outputs": [],
   "source": [
    "#46. Experiment with broadcasting rules by adding arrays of shapes (3, 1) and (1, 4).\n"
   ]
  },
  {
   "cell_type": "markdown",
   "id": "9e534379",
   "metadata": {},
   "source": [
    "## Multiply by Scalar\n",
    "47. Multiply a 2D array by a scalar using broadcasting."
   ]
  },
  {
   "cell_type": "code",
   "execution_count": null,
   "id": "5ae7bd5c",
   "metadata": {},
   "outputs": [],
   "source": [
    "#47. Multiply a 2D array by a scalar using broadcasting.\n"
   ]
  },
  {
   "cell_type": "markdown",
   "id": "70a85c76",
   "metadata": {},
   "source": [
    "## Mismatch Dimensions\n",
    "48. Explore the error when incompatible shapes are broadcast."
   ]
  },
  {
   "cell_type": "code",
   "execution_count": null,
   "id": "74a4b0c3",
   "metadata": {},
   "outputs": [],
   "source": [
    "#48. Explore the error when incompatible shapes are broadcast.\n"
   ]
  },
  {
   "cell_type": "markdown",
   "id": "4e7ef32e",
   "metadata": {},
   "source": [
    "## Broadcast View\n",
    "49. Manipulate a broadcast view and observe the effect on the original array."
   ]
  },
  {
   "cell_type": "code",
   "execution_count": null,
   "id": "a75dbfaf",
   "metadata": {},
   "outputs": [],
   "source": [
    "#49. Manipulate a broadcast view and observe the effect on the original array.\n"
   ]
  },
  {
   "cell_type": "markdown",
   "id": "7c1309c4",
   "metadata": {},
   "source": [
    "## Complex Broadcasting\n",
    "50. Combine a 2D array of shape (2, 3) with a 3D array of shape (3, 2, 1)."
   ]
  },
  {
   "cell_type": "code",
   "execution_count": null,
   "id": "d91dcc92",
   "metadata": {},
   "outputs": [],
   "source": [
    "#50. Combine a 2D array of shape (2, 3) with a 3D array of shape (3, 2, 1).\n"
   ]
  },
  {
   "cell_type": "markdown",
   "id": "7cdeef60",
   "metadata": {},
   "source": [
    "## Broadcast Slicing\n",
    "51. Combine slicing and broadcasting for advanced operations."
   ]
  },
  {
   "cell_type": "code",
   "execution_count": null,
   "id": "3846a5ea",
   "metadata": {},
   "outputs": [],
   "source": [
    "#51. Combine slicing and broadcasting for advanced operations.\n"
   ]
  },
  {
   "cell_type": "markdown",
   "id": "fbbb53c4",
   "metadata": {},
   "source": [
    "## Real-world Application\n",
    "52. Use broadcasting to normalize an image (scale pixel values between 0 and 1)."
   ]
  },
  {
   "cell_type": "code",
   "execution_count": null,
   "id": "9b084489",
   "metadata": {},
   "outputs": [],
   "source": [
    "#52. Use broadcasting to normalize an image (scale pixel values between 0 and 1).\n"
   ]
  },
  {
   "cell_type": "markdown",
   "id": "5c9770f5",
   "metadata": {},
   "source": [
    "## Array Copy\n",
    "53. Create a copy of an array using `np.copy()` and modify it independently."
   ]
  },
  {
   "cell_type": "code",
   "execution_count": null,
   "id": "456587e5",
   "metadata": {},
   "outputs": [],
   "source": [
    "#53. Create a copy of an array using `np.copy()` and modify it independently.\n"
   ]
  },
  {
   "cell_type": "markdown",
   "id": "425a2e12",
   "metadata": {},
   "source": [
    "## Array View\n",
    "54. Create a view of an array using slicing and observe the changes on the original array."
   ]
  },
  {
   "cell_type": "code",
   "execution_count": null,
   "id": "990ab65a",
   "metadata": {},
   "outputs": [],
   "source": [
    "#54. Create a view of an array using slicing and observe the changes on the original array.\n"
   ]
  },
  {
   "cell_type": "markdown",
   "id": "5296ab12",
   "metadata": {},
   "source": [
    "## Deep Copy\n",
    "55. Experiment with `deepcopy` on a nested structured array."
   ]
  },
  {
   "cell_type": "code",
   "execution_count": null,
   "id": "9670cb44",
   "metadata": {},
   "outputs": [],
   "source": [
    "#55. Experiment with `deepcopy` on a nested structured array.\n"
   ]
  },
  {
   "cell_type": "markdown",
   "id": "afab4073",
   "metadata": {},
   "source": [
    "## Shallow Copy\n",
    "56. Illustrate how shallow copying affects mutable arrays."
   ]
  },
  {
   "cell_type": "code",
   "execution_count": null,
   "id": "a7eee412",
   "metadata": {},
   "outputs": [],
   "source": [
    "#56. Illustrate how shallow copying affects mutable arrays.\n"
   ]
  },
  {
   "cell_type": "markdown",
   "id": "9a4a2e35",
   "metadata": {},
   "source": [
    "## Base Attribute\n",
    "57. Check the `base` attribute to understand ownership in views."
   ]
  },
  {
   "cell_type": "code",
   "execution_count": null,
   "id": "b6a47be5",
   "metadata": {},
   "outputs": [],
   "source": [
    "#57. Check the `base` attribute to understand ownership in views.\n"
   ]
  },
  {
   "cell_type": "markdown",
   "id": "f0fb122c",
   "metadata": {},
   "source": [
    "## Shared Memory\n",
    "58. Create two views of an array and explore shared memory behavior."
   ]
  },
  {
   "cell_type": "code",
   "execution_count": null,
   "id": "701368d6",
   "metadata": {},
   "outputs": [],
   "source": [
    "#58. Create two views of an array and explore shared memory behavior.\n"
   ]
  },
  {
   "cell_type": "markdown",
   "id": "c94ba5cf",
   "metadata": {},
   "source": [
    "## Copy vs. View\n",
    "59. Compare the performance of copies and views for large arrays."
   ]
  },
  {
   "cell_type": "code",
   "execution_count": null,
   "id": "3ba6cc32",
   "metadata": {},
   "outputs": [],
   "source": [
    "#59. Compare the performance of copies and views for large arrays.\n"
   ]
  },
  {
   "cell_type": "markdown",
   "id": "d5796a87",
   "metadata": {},
   "source": [
    "## Slice Assignment\n",
    "60. Modify a sliced view of an array and observe changes in the parent array."
   ]
  },
  {
   "cell_type": "code",
   "execution_count": null,
   "id": "0036d6fe",
   "metadata": {},
   "outputs": [],
   "source": [
    "#60. Modify a sliced view of an array and observe changes in the parent array.\n"
   ]
  },
  {
   "cell_type": "markdown",
   "id": "5c9266f8",
   "metadata": {},
   "source": [
    "## Memory Layout\n",
    "61. Analyze memory layout differences between views and copies."
   ]
  },
  {
   "cell_type": "code",
   "execution_count": null,
   "id": "d3bfb45e",
   "metadata": {},
   "outputs": [],
   "source": [
    "#61. Analyze memory layout differences between views and copies.\n"
   ]
  },
  {
   "cell_type": "markdown",
   "id": "9520481c",
   "metadata": {},
   "source": [
    "## Advanced Copy\n",
    "62. Use `np.copyto()` for conditional copying."
   ]
  },
  {
   "cell_type": "code",
   "execution_count": null,
   "id": "5799cd60",
   "metadata": {},
   "outputs": [],
   "source": [
    "#62. Use `np.copyto()` for conditional copying.\n"
   ]
  },
  {
   "cell_type": "markdown",
   "id": "01016bc4",
   "metadata": {},
   "source": [
    "## #I/O with numpy\n",
    "63. Importing Data with genfromtxt, Defining the Input, Splitting the Lines into Columns, Skipping Lines and Choosing Columns, Choosing the Data Type, Setting the Names, Tweaking the Conversion"
   ]
  },
  {
   "cell_type": "code",
   "execution_count": null,
   "id": "4beed53c",
   "metadata": {},
   "outputs": [],
   "source": [
    "#63. Importing Data with genfromtxt, Defining the Input, Splitting the Lines into Columns, Skipping Lines and Choosing Columns, Choosing the Data Type, Setting the Names, Tweaking the Conversion\n"
   ]
  },
  {
   "cell_type": "markdown",
   "id": "ca5d789f",
   "metadata": {},
   "source": [
    "## Load Simple Text File\n",
    "64. Use `np.genfromtxt` to load a text file containing numerical data, ensuring the default delimiter is used."
   ]
  },
  {
   "cell_type": "code",
   "execution_count": null,
   "id": "3f0b9640",
   "metadata": {},
   "outputs": [],
   "source": [
    "#64. Use `np.genfromtxt` to load a text file containing numerical data, ensuring the default delimiter is used.\n"
   ]
  },
  {
   "cell_type": "markdown",
   "id": "279ec3b3",
   "metadata": {},
   "source": [
    "## Load Text File with Delimiter\n",
    "65. Load a CSV file using `np.genfromtxt` by specifying a comma as the delimiter."
   ]
  },
  {
   "cell_type": "code",
   "execution_count": null,
   "id": "6f952736",
   "metadata": {},
   "outputs": [],
   "source": [
    "#65. Load a CSV file using `np.genfromtxt` by specifying a comma as the delimiter.\n"
   ]
  },
  {
   "cell_type": "markdown",
   "id": "e620298c",
   "metadata": {},
   "source": [
    "## Load File with Missing Values\n",
    "66. Load a text file with missing entries, replacing them with default values."
   ]
  },
  {
   "cell_type": "code",
   "execution_count": null,
   "id": "4f9e2bdc",
   "metadata": {},
   "outputs": [],
   "source": [
    "#66. Load a text file with missing entries, replacing them with default values.\n"
   ]
  },
  {
   "cell_type": "markdown",
   "id": "c1f20a49",
   "metadata": {},
   "source": [
    "## Load File with Specified Columns\n",
    "67. Use `np.genfromtxt` to load only the first two columns of a text file."
   ]
  },
  {
   "cell_type": "code",
   "execution_count": null,
   "id": "3503136c",
   "metadata": {},
   "outputs": [],
   "source": [
    "#67. Use `np.genfromtxt` to load only the first two columns of a text file.\n"
   ]
  },
  {
   "cell_type": "markdown",
   "id": "dc4a9286",
   "metadata": {},
   "source": [
    "## Load Data with Explicit Data Type\n",
    "68. Specify the data type as `float32` when loading a text file."
   ]
  },
  {
   "cell_type": "code",
   "execution_count": null,
   "id": "4034da2c",
   "metadata": {},
   "outputs": [],
   "source": [
    "#68. Specify the data type as `float32` when loading a text file.\n"
   ]
  },
  {
   "cell_type": "markdown",
   "id": "d9e23ab0",
   "metadata": {},
   "source": [
    "## Load from File Path\n",
    "69. Use `np.genfromtxt` to load data from a file path to a local text file."
   ]
  },
  {
   "cell_type": "code",
   "execution_count": null,
   "id": "46e49492",
   "metadata": {},
   "outputs": [],
   "source": [
    "#69. Use `np.genfromtxt` to load data from a file path to a local text file.\n"
   ]
  },
  {
   "cell_type": "markdown",
   "id": "8863caeb",
   "metadata": {},
   "source": [
    "## Load from StringIO\n",
    "70. Use `StringIO` to simulate reading from a file and load the data using `np.genfromtxt`."
   ]
  },
  {
   "cell_type": "code",
   "execution_count": null,
   "id": "e81de214",
   "metadata": {},
   "outputs": [],
   "source": [
    "#70. Use `StringIO` to simulate reading from a file and load the data using `np.genfromtxt`.\n"
   ]
  },
  {
   "cell_type": "markdown",
   "id": "1f43f11f",
   "metadata": {},
   "source": [
    "## Specify Encoding\n",
    "71. Load a text file with a specific encoding using `np.genfromtxt`."
   ]
  },
  {
   "cell_type": "code",
   "execution_count": null,
   "id": "7132b282",
   "metadata": {},
   "outputs": [],
   "source": [
    "#71. Load a text file with a specific encoding using `np.genfromtxt`.\n"
   ]
  },
  {
   "cell_type": "markdown",
   "id": "1748bb66",
   "metadata": {},
   "source": [
    "## Load Large Dataset\n",
    "72. Test loading a large text file using `np.genfromtxt` and check memory usage."
   ]
  },
  {
   "cell_type": "code",
   "execution_count": null,
   "id": "0ac7d56c",
   "metadata": {},
   "outputs": [],
   "source": [
    "#72. Test loading a large text file using `np.genfromtxt` and check memory usage.\n"
   ]
  },
  {
   "cell_type": "markdown",
   "id": "4209344b",
   "metadata": {},
   "source": [
    "## Custom File Reading\n",
    "73. Create a file-like object in Python, write some text data into it, and load it using `np.genfromtxt`."
   ]
  },
  {
   "cell_type": "code",
   "execution_count": null,
   "id": "2e7010fe",
   "metadata": {},
   "outputs": [],
   "source": [
    "#73. Create a file-like object in Python, write some text data into it, and load it using `np.genfromtxt`.\n"
   ]
  },
  {
   "cell_type": "markdown",
   "id": "a77ebbef",
   "metadata": {},
   "source": [
    "## Use Simple Delimiter\n",
    "74. Load a file separated by tabs using `np.genfromtxt` with `delimiter='\\t'`."
   ]
  },
  {
   "cell_type": "code",
   "execution_count": null,
   "id": "f8b2bbda",
   "metadata": {},
   "outputs": [],
   "source": [
    "#74. Load a file separated by tabs using `np.genfromtxt` with `delimiter='\\t'`.\n"
   ]
  },
  {
   "cell_type": "markdown",
   "id": "0294e2bc",
   "metadata": {},
   "source": [
    "## Handle Complex Delimiter\n",
    "75. Load a file where data is separated by '||' using a regular expression as the delimiter."
   ]
  },
  {
   "cell_type": "code",
   "execution_count": null,
   "id": "932919c7",
   "metadata": {},
   "outputs": [],
   "source": [
    "#75. Load a file where data is separated by '||' using a regular expression as the delimiter.\n"
   ]
  },
  {
   "cell_type": "markdown",
   "id": "9e2a44bc",
   "metadata": {},
   "source": [
    "## Whitespace Delimiter\n",
    "76. Load a space-separated text file by specifying `delimiter=' '`."
   ]
  },
  {
   "cell_type": "code",
   "execution_count": null,
   "id": "83b31734",
   "metadata": {},
   "outputs": [],
   "source": [
    "#76. Load a space-separated text file by specifying `delimiter=' '`.\n"
   ]
  },
  {
   "cell_type": "markdown",
   "id": "b2923940",
   "metadata": {},
   "source": [
    "## Mixed Delimiters\n",
    "77. Load a file with mixed delimiters, such as a mix of tabs and commas, using a regular expression."
   ]
  },
  {
   "cell_type": "code",
   "execution_count": null,
   "id": "5589b3f9",
   "metadata": {},
   "outputs": [],
   "source": [
    "#77. Load a file with mixed delimiters, such as a mix of tabs and commas, using a regular expression.\n"
   ]
  },
  {
   "cell_type": "markdown",
   "id": "5459b729",
   "metadata": {},
   "source": [
    "## Multiple Character Delimiter\n",
    "78. Handle a file with delimiters like '###' using a custom regular expression with `np.genfromtxt`."
   ]
  },
  {
   "cell_type": "code",
   "execution_count": null,
   "id": "5c3ea5aa",
   "metadata": {},
   "outputs": [],
   "source": [
    "#78. Handle a file with delimiters like '###' using a custom regular expression with `np.genfromtxt`.\n"
   ]
  },
  {
   "cell_type": "markdown",
   "id": "58126adb",
   "metadata": {},
   "source": [
    "## Skip Header Rows\n",
    "79. Load a file with a two-line header by skipping the first two rows using `skip_header`."
   ]
  },
  {
   "cell_type": "code",
   "execution_count": null,
   "id": "6b5f96da",
   "metadata": {},
   "outputs": [],
   "source": [
    "#79. Load a file with a two-line header by skipping the first two rows using `skip_header`.\n"
   ]
  },
  {
   "cell_type": "markdown",
   "id": "b6394cfe",
   "metadata": {},
   "source": [
    "## Skip Footer Rows\n",
    "80. Load a file and skip the last three rows using `np.genfromtxt` with `skip_footer`."
   ]
  },
  {
   "cell_type": "code",
   "execution_count": null,
   "id": "9ffdf598",
   "metadata": {},
   "outputs": [],
   "source": [
    "#80. Load a file and skip the last three rows using `np.genfromtxt` with `skip_footer`.\n"
   ]
  },
  {
   "cell_type": "markdown",
   "id": "8a09a913",
   "metadata": {},
   "source": [
    "## Select Specific Columns\n",
    "81. Load only the 1st and 3rd columns of a text file using `usecols`."
   ]
  },
  {
   "cell_type": "code",
   "execution_count": null,
   "id": "51518938",
   "metadata": {},
   "outputs": [],
   "source": [
    "#81. Load only the 1st and 3rd columns of a text file using `usecols`.\n"
   ]
  },
  {
   "cell_type": "markdown",
   "id": "139d4c89",
   "metadata": {},
   "source": [
    "## Ignore Comments\n",
    "82. Load a file where '#' marks comments, ensuring these lines are ignored."
   ]
  },
  {
   "cell_type": "code",
   "execution_count": null,
   "id": "56d31854",
   "metadata": {},
   "outputs": [],
   "source": [
    "#82. Load a file where '#' marks comments, ensuring these lines are ignored.\n"
   ]
  },
  {
   "cell_type": "markdown",
   "id": "1dde18d0",
   "metadata": {},
   "source": [
    "## Advanced Skipping\n",
    "83. Skip header rows and read only every second row of a file using advanced arguments."
   ]
  },
  {
   "cell_type": "code",
   "execution_count": null,
   "id": "c45637f4",
   "metadata": {},
   "outputs": [],
   "source": [
    "#83. Skip header rows and read only every second row of a file using advanced arguments.\n"
   ]
  },
  {
   "cell_type": "markdown",
   "id": "2bb6dd91",
   "metadata": {},
   "source": [
    "## Single Data Type\n",
    "84. Load a text file as a single data type, such as `int`, using the `dtype` argument."
   ]
  },
  {
   "cell_type": "code",
   "execution_count": null,
   "id": "8b6954e6",
   "metadata": {},
   "outputs": [],
   "source": [
    "#84. Load a text file as a single data type, such as `int`, using the `dtype` argument.\n"
   ]
  },
  {
   "cell_type": "markdown",
   "id": "cccd1aff",
   "metadata": {},
   "source": [
    "## Mixed Data Types\n",
    "85. Use structured data types to load a file with mixed column data (e.g., integers and floats)."
   ]
  },
  {
   "cell_type": "code",
   "execution_count": null,
   "id": "100cd735",
   "metadata": {},
   "outputs": [],
   "source": [
    "#85. Use structured data types to load a file with mixed column data (e.g., integers and floats).\n"
   ]
  },
  {
   "cell_type": "markdown",
   "id": "52b318e9",
   "metadata": {},
   "source": [
    "## Automatic Data Type Inference\n",
    "86. Load a text file with unknown data types and let NumPy infer them automatically."
   ]
  },
  {
   "cell_type": "code",
   "execution_count": null,
   "id": "7d5c4e0e",
   "metadata": {},
   "outputs": [],
   "source": [
    "#86. Load a text file with unknown data types and let NumPy infer them automatically.\n"
   ]
  },
  {
   "cell_type": "markdown",
   "id": "253dcbe5",
   "metadata": {},
   "source": [
    "## Force Data Type Casting\n",
    "87. Load a file with numeric data and cast all columns to `float32`."
   ]
  },
  {
   "cell_type": "code",
   "execution_count": null,
   "id": "de3d1a53",
   "metadata": {},
   "outputs": [],
   "source": [
    "#87. Load a file with numeric data and cast all columns to `float32`.\n"
   ]
  },
  {
   "cell_type": "markdown",
   "id": "29ed5037",
   "metadata": {},
   "source": [
    "## Use Complex Data Types\n",
    "88. Load a file and specify a data type that combines multiple fields, such as `('x', float), ('y', int)`."
   ]
  },
  {
   "cell_type": "code",
   "execution_count": null,
   "id": "c70f005a",
   "metadata": {},
   "outputs": [],
   "source": [
    "#88. Load a file and specify a data type that combines multiple fields, such as `('x', float), ('y', int)`.\n"
   ]
  },
  {
   "cell_type": "markdown",
   "id": "d38b532f",
   "metadata": {},
   "source": [
    "## Use Header for Names\n",
    "89. Load a CSV file where the first row contains column names using `names=True`."
   ]
  },
  {
   "cell_type": "code",
   "execution_count": null,
   "id": "e45ccfb0",
   "metadata": {},
   "outputs": [],
   "source": [
    "#89. Load a CSV file where the first row contains column names using `names=True`.\n"
   ]
  },
  {
   "cell_type": "markdown",
   "id": "96566589",
   "metadata": {},
   "source": [
    "## Manual Column Names\n",
    "90. Load a file and manually specify column names using a structured array."
   ]
  },
  {
   "cell_type": "code",
   "execution_count": null,
   "id": "98e05e52",
   "metadata": {},
   "outputs": [],
   "source": [
    "#90. Load a file and manually specify column names using a structured array.\n"
   ]
  },
  {
   "cell_type": "markdown",
   "id": "747826ae",
   "metadata": {},
   "source": [
    "## Combine Names and Data\n",
    "91. Load a text file, use `names=True` to get the header names, and print them along with the data."
   ]
  },
  {
   "cell_type": "code",
   "execution_count": null,
   "id": "3068490d",
   "metadata": {},
   "outputs": [],
   "source": [
    "#91. Load a text file, use `names=True` to get the header names, and print them along with the data.\n"
   ]
  },
  {
   "cell_type": "markdown",
   "id": "591b3cc7",
   "metadata": {},
   "source": [
    "## Dynamic Column Naming\n",
    "92. Load a file, extract column names dynamically, and assign them to the structured array."
   ]
  },
  {
   "cell_type": "code",
   "execution_count": null,
   "id": "78cee466",
   "metadata": {},
   "outputs": [],
   "source": [
    "#92. Load a file, extract column names dynamically, and assign them to the structured array.\n"
   ]
  },
  {
   "cell_type": "markdown",
   "id": "a1b87046",
   "metadata": {},
   "source": [
    "## Check Column Name Behavior\n",
    "93. Load a file with duplicate column names and test how NumPy handles them."
   ]
  },
  {
   "cell_type": "code",
   "execution_count": null,
   "id": "94f5e825",
   "metadata": {},
   "outputs": [],
   "source": [
    "#93. Load a file with duplicate column names and test how NumPy handles them.\n"
   ]
  },
  {
   "cell_type": "markdown",
   "id": "ba92fe1c",
   "metadata": {},
   "source": [
    "## Custom Converters\n",
    "94. Load a file where one column contains dates. Use a converter to transform the dates into a specific format."
   ]
  },
  {
   "cell_type": "code",
   "execution_count": null,
   "id": "8623658b",
   "metadata": {},
   "outputs": [],
   "source": [
    "#94. Load a file where one column contains dates. Use a converter to transform the dates into a specific format.\n"
   ]
  },
  {
   "cell_type": "markdown",
   "id": "c4e4d6e9",
   "metadata": {},
   "source": [
    "## Replace Missing Values\n",
    "95. Load a text file with missing values and replace them with -999 using `filling_values`."
   ]
  },
  {
   "cell_type": "code",
   "execution_count": null,
   "id": "3c7d2ca9",
   "metadata": {},
   "outputs": [],
   "source": [
    "#95. Load a text file with missing values and replace them with -999 using `filling_values`.\n"
   ]
  },
  {
   "cell_type": "markdown",
   "id": "7e24c6b9",
   "metadata": {},
   "source": [
    "## Data Transformation on Load\n",
    "96. Use a converter to normalize a column of numerical data during file loading."
   ]
  },
  {
   "cell_type": "code",
   "execution_count": null,
   "id": "cb86eac0",
   "metadata": {},
   "outputs": [],
   "source": [
    "#96. Use a converter to normalize a column of numerical data during file loading.\n"
   ]
  },
  {
   "cell_type": "markdown",
   "id": "f3bb1f51",
   "metadata": {},
   "source": [
    "## String Conversion\n",
    "97. Load a file with mixed data types and use a converter to trim extra spaces in string columns."
   ]
  },
  {
   "cell_type": "code",
   "execution_count": null,
   "id": "f4e18978",
   "metadata": {},
   "outputs": [],
   "source": [
    "#97. Load a file with mixed data types and use a converter to trim extra spaces in string columns.\n"
   ]
  },
  {
   "cell_type": "markdown",
   "id": "a884d858",
   "metadata": {},
   "source": [
    "## Custom Replacement Logic\n",
    "98. Replace missing values in a dataset with the column's mean during the load process."
   ]
  },
  {
   "cell_type": "code",
   "execution_count": null,
   "id": "33701d2e",
   "metadata": {},
   "outputs": [],
   "source": [
    "#98. Replace missing values in a dataset with the column's mean during the load process.\n"
   ]
  },
  {
   "cell_type": "markdown",
   "id": "13cf2114",
   "metadata": {},
   "source": [
    "## DTypes\n",
    "99. Data types, Array types and conversions, NumPy numerical types, Relationship with C types, Array scalars, Overflow errors, np.iinfo, np.finfo, Extended precision, astype(), Structured arrays, Type casting, np.issubdtype(), Bit-sized data types, Overflow in complex numbers, Arrays with null bytes, Large integers to floats."
   ]
  },
  {
   "cell_type": "code",
   "execution_count": null,
   "id": "28e13e84",
   "metadata": {},
   "outputs": [],
   "source": [
    "#99. Data types, Array types and conversions, NumPy numerical types, Relationship with C types, Array scalars, Overflow errors, np.iinfo, np.finfo, Extended precision, astype(), Structured arrays, Type casting, np.issubdtype(), Bit-sized data types, Overflow in complex numbers, Arrays with null bytes, Large integers to floats.\n"
   ]
  },
  {
   "cell_type": "markdown",
   "id": "3ee54c37",
   "metadata": {},
   "source": [
    "## Creating Arrays with Specific Data Types\n",
    "100. Create a 1D array with the dtype set to np.int32 and print the dtype of the resulting array."
   ]
  },
  {
   "cell_type": "code",
   "execution_count": null,
   "id": "63a9876b",
   "metadata": {},
   "outputs": [],
   "source": [
    "#100. Create a 1D array with the dtype set to np.int32 and print the dtype of the resulting array.\n"
   ]
  },
  {
   "cell_type": "markdown",
   "id": "3b983c97",
   "metadata": {},
   "source": [
    "## Array Types and Conversions between Types\n",
    "101. Create a 1D array with integers and convert the dtype to np.float64 using the astype() method."
   ]
  },
  {
   "cell_type": "code",
   "execution_count": null,
   "id": "d7be987d",
   "metadata": {},
   "outputs": [],
   "source": [
    "#101. Create a 1D array with integers and convert the dtype to np.float64 using the astype() method.\n"
   ]
  },
  {
   "cell_type": "markdown",
   "id": "f0eb4cdc",
   "metadata": {},
   "source": [
    "## Using NumPy Data Types\n",
    "102. Create an array with dtype=np.uint8, and print its values to confirm it stores unsigned 8-bit integers."
   ]
  },
  {
   "cell_type": "code",
   "execution_count": null,
   "id": "9b7ad95b",
   "metadata": {},
   "outputs": [],
   "source": [
    "#102. Create an array with dtype=np.uint8, and print its values to confirm it stores unsigned 8-bit integers.\n"
   ]
  },
  {
   "cell_type": "markdown",
   "id": "1dc24c83",
   "metadata": {},
   "source": [
    "## Creating Arrays with String Data Types\n",
    "103. Create a 1D array of strings with dtype='U10' to store 10-character unicode strings."
   ]
  },
  {
   "cell_type": "code",
   "execution_count": null,
   "id": "216e634f",
   "metadata": {},
   "outputs": [],
   "source": [
    "#103. Create a 1D array of strings with dtype='U10' to store 10-character unicode strings.\n"
   ]
  },
  {
   "cell_type": "markdown",
   "id": "84a0cc0a",
   "metadata": {},
   "source": [
    "## Handling Mixed Data Types in Arrays\n",
    "104. Create a structured array with two fields: one of type np.int32 and the other of type np.float64."
   ]
  },
  {
   "cell_type": "code",
   "execution_count": null,
   "id": "78a01f37",
   "metadata": {},
   "outputs": [],
   "source": [
    "#104. Create a structured array with two fields: one of type np.int32 and the other of type np.float64.\n"
   ]
  },
  {
   "cell_type": "markdown",
   "id": "97e38021",
   "metadata": {},
   "source": [
    "## Array Scalars and Python Scalars\n",
    "105. Access an element in a numpy array and compare it with a Python scalar using == to check if they behave similarly."
   ]
  },
  {
   "cell_type": "code",
   "execution_count": null,
   "id": "6bfb3343",
   "metadata": {},
   "outputs": [],
   "source": [
    "#105. Access an element in a numpy array and compare it with a Python scalar using == to check if they behave similarly.\n"
   ]
  },
  {
   "cell_type": "markdown",
   "id": "0fef8941",
   "metadata": {},
   "source": [
    "## Overflow Errors and Data Types\n",
    "106. Attempt a calculation that causes an overflow error, for example, multiplying large numbers with np.int32."
   ]
  },
  {
   "cell_type": "code",
   "execution_count": null,
   "id": "4b603a8c",
   "metadata": {},
   "outputs": [],
   "source": [
    "#106. Attempt a calculation that causes an overflow error, for example, multiplying large numbers with np.int32.\n"
   ]
  },
  {
   "cell_type": "markdown",
   "id": "2abaa2c7",
   "metadata": {},
   "source": [
    "## Using np.iinfo for Integer Type Bounds\n",
    "107. Use np.iinfo() to get the min and max bounds for a 32-bit integer (np.int32) and a 64-bit integer (np.int64)."
   ]
  },
  {
   "cell_type": "code",
   "execution_count": null,
   "id": "7c650d83",
   "metadata": {},
   "outputs": [],
   "source": [
    "#107. Use np.iinfo() to get the min and max bounds for a 32-bit integer (np.int32) and a 64-bit integer (np.int64).\n"
   ]
  },
  {
   "cell_type": "markdown",
   "id": "b35a0431",
   "metadata": {},
   "source": [
    "## Using np.finfo for Floating Point Bounds\n",
    "108. Use np.finfo() to display the smallest and largest values of np.float32."
   ]
  },
  {
   "cell_type": "code",
   "execution_count": null,
   "id": "c3ed8108",
   "metadata": {},
   "outputs": [],
   "source": [
    "#108. Use np.finfo() to display the smallest and largest values of np.float32.\n"
   ]
  },
  {
   "cell_type": "markdown",
   "id": "e34a18c7",
   "metadata": {},
   "source": [
    "## Working with Extended Precision\n",
    "109. Create an array of np.longdouble and check if it has more precision than np.float64 by comparing both types."
   ]
  },
  {
   "cell_type": "code",
   "execution_count": null,
   "id": "07bce5a1",
   "metadata": {},
   "outputs": [],
   "source": [
    "#109. Create an array of np.longdouble and check if it has more precision than np.float64 by comparing both types.\n"
   ]
  },
  {
   "cell_type": "markdown",
   "id": "0e8cac1e",
   "metadata": {},
   "source": [
    "## Handling Unicode Strings with NumPy\n",
    "110. Create a numpy array of strings with dtype 'U5' and demonstrate how it truncates or pads strings."
   ]
  },
  {
   "cell_type": "code",
   "execution_count": null,
   "id": "cd64ad59",
   "metadata": {},
   "outputs": [],
   "source": [
    "#110. Create a numpy array of strings with dtype 'U5' and demonstrate how it truncates or pads strings.\n"
   ]
  },
  {
   "cell_type": "markdown",
   "id": "03bc5e28",
   "metadata": {},
   "source": [
    "## Handling Byte Sequences with NumPy\n",
    "111. Create a numpy array with dtype 'S7' to store byte sequences and observe how it handles null padding."
   ]
  },
  {
   "cell_type": "code",
   "execution_count": null,
   "id": "71897374",
   "metadata": {},
   "outputs": [],
   "source": [
    "#111. Create a numpy array with dtype 'S7' to store byte sequences and observe how it handles null padding.\n"
   ]
  },
  {
   "cell_type": "markdown",
   "id": "a3fe757a",
   "metadata": {},
   "source": [
    "## Converting Between Data Types Using astype()\n",
    "112. Create a numpy array with integers and use the astype() method to convert it to a complex number type."
   ]
  },
  {
   "cell_type": "code",
   "execution_count": null,
   "id": "5893ceef",
   "metadata": {},
   "outputs": [],
   "source": [
    "#112. Create a numpy array with integers and use the astype() method to convert it to a complex number type.\n"
   ]
  },
  {
   "cell_type": "markdown",
   "id": "c117955a",
   "metadata": {},
   "source": [
    "## Exploring Data Types for C Integration\n",
    "113. Use numpy.int8 and numpy.int16 to create arrays and print the corresponding C-like types."
   ]
  },
  {
   "cell_type": "code",
   "execution_count": null,
   "id": "0f9d1ada",
   "metadata": {},
   "outputs": [],
   "source": [
    "#113. Use numpy.int8 and numpy.int16 to create arrays and print the corresponding C-like types.\n"
   ]
  },
  {
   "cell_type": "markdown",
   "id": "31ef8187",
   "metadata": {},
   "source": [
    "## Investigating Data Type Alignment and Memory Usage\n",
    "114. Create an array of np.float128 and inspect how it aligns in memory by checking its memory size and alignment."
   ]
  },
  {
   "cell_type": "code",
   "execution_count": null,
   "id": "837f9c59",
   "metadata": {},
   "outputs": [],
   "source": [
    "#114. Create an array of np.float128 and inspect how it aligns in memory by checking its memory size and alignment.\n"
   ]
  },
  {
   "cell_type": "markdown",
   "id": "0c9cd3b2",
   "metadata": {},
   "source": [
    "## Using Structured Arrays for Complex Data\n",
    "115. Create a structured array with two fields: one as an integer and the other as a string, and access both fields."
   ]
  },
  {
   "cell_type": "code",
   "execution_count": null,
   "id": "2942beba",
   "metadata": {},
   "outputs": [],
   "source": [
    "#115. Create a structured array with two fields: one as an integer and the other as a string, and access both fields.\n"
   ]
  },
  {
   "cell_type": "markdown",
   "id": "1052babf",
   "metadata": {},
   "source": [
    "## Handling Missing Values in Arrays\n",
    "116. Create a numpy array with missing values (np.nan) and use numpy functions like np.isnan() to detect them."
   ]
  },
  {
   "cell_type": "code",
   "execution_count": null,
   "id": "db367710",
   "metadata": {},
   "outputs": [],
   "source": [
    "#116. Create a numpy array with missing values (np.nan) and use numpy functions like np.isnan() to detect them.\n"
   ]
  },
  {
   "cell_type": "markdown",
   "id": "3ff9d257",
   "metadata": {},
   "source": [
    "## Exploring Complex Numbers in NumPy\n",
    "117. Create a numpy array of complex numbers (dtype=np.complex128) and perform some basic operations on them."
   ]
  },
  {
   "cell_type": "code",
   "execution_count": null,
   "id": "047048df",
   "metadata": {},
   "outputs": [],
   "source": [
    "#117. Create a numpy array of complex numbers (dtype=np.complex128) and perform some basic operations on them.\n"
   ]
  },
  {
   "cell_type": "markdown",
   "id": "b11412f0",
   "metadata": {},
   "source": [
    "## Working with Large Integer Types\n",
    "118. Try using numpy.int64 for large integers and perform an arithmetic operation that would overflow in 32-bit integers."
   ]
  },
  {
   "cell_type": "code",
   "execution_count": null,
   "id": "a7e61d79",
   "metadata": {},
   "outputs": [],
   "source": [
    "#118. Try using numpy.int64 for large integers and perform an arithmetic operation that would overflow in 32-bit integers.\n"
   ]
  },
  {
   "cell_type": "markdown",
   "id": "8d95d8d8",
   "metadata": {},
   "source": [
    "## Type Casting with NumPy Data Types\n",
    "119. Create an array with np.float32 and cast it to np.int32 using the astype() method, then compare the result."
   ]
  },
  {
   "cell_type": "code",
   "execution_count": null,
   "id": "d1a241a2",
   "metadata": {},
   "outputs": [],
   "source": [
    "#119. Create an array with np.float32 and cast it to np.int32 using the astype() method, then compare the result.\n"
   ]
  },
  {
   "cell_type": "markdown",
   "id": "969687ce",
   "metadata": {},
   "source": [
    "## Accessing and Modifying Array Scalars\n",
    "120. Create a numpy array and access an element, then modify it directly using array indexing."
   ]
  },
  {
   "cell_type": "code",
   "execution_count": null,
   "id": "c28b7ae1",
   "metadata": {},
   "outputs": [],
   "source": [
    "#120. Create a numpy array and access an element, then modify it directly using array indexing.\n"
   ]
  },
  {
   "cell_type": "markdown",
   "id": "5d696a50",
   "metadata": {},
   "source": [
    "## Comparing Dtype Objects with np.issubdtype()\n",
    "121. Use np.issubdtype() to check if a numpy array's dtype is an integer or floating point."
   ]
  },
  {
   "cell_type": "code",
   "execution_count": null,
   "id": "7e956a41",
   "metadata": {},
   "outputs": [],
   "source": [
    "#121. Use np.issubdtype() to check if a numpy array's dtype is an integer or floating point.\n"
   ]
  },
  {
   "cell_type": "markdown",
   "id": "fbe66b18",
   "metadata": {},
   "source": [
    "## Creating Arrays with Specific Bit-Sized Data Types\n",
    "122. Create a numpy array with dtype='int8' and check its size in memory."
   ]
  },
  {
   "cell_type": "code",
   "execution_count": null,
   "id": "f6097c5f",
   "metadata": {},
   "outputs": [],
   "source": [
    "#122. Create a numpy array with dtype='int8' and check its size in memory.\n"
   ]
  },
  {
   "cell_type": "markdown",
   "id": "68e32afb",
   "metadata": {},
   "source": [
    "## Using np.float16 for Reduced Precision\n",
    "123. Create an array with np.float16 and perform arithmetic operations to observe the behavior of reduced precision."
   ]
  },
  {
   "cell_type": "code",
   "execution_count": null,
   "id": "33842c9b",
   "metadata": {},
   "outputs": [],
   "source": [
    "#123. Create an array with np.float16 and perform arithmetic operations to observe the behavior of reduced precision.\n"
   ]
  },
  {
   "cell_type": "markdown",
   "id": "892da8bd",
   "metadata": {},
   "source": [
    "## Handling Complex Array Scalars\n",
    "124. Access a complex number from an array and print its real and imaginary parts separately."
   ]
  },
  {
   "cell_type": "code",
   "execution_count": null,
   "id": "791a6d40",
   "metadata": {},
   "outputs": [],
   "source": [
    "#124. Access a complex number from an array and print its real and imaginary parts separately.\n"
   ]
  },
  {
   "cell_type": "markdown",
   "id": "36a27769",
   "metadata": {},
   "source": [
    "## Converting Array Types Based on Hardware\n",
    "125. Check the size of np.intp on different platforms and how it changes with the CPU architecture."
   ]
  },
  {
   "cell_type": "code",
   "execution_count": null,
   "id": "195b1a68",
   "metadata": {},
   "outputs": [],
   "source": [
    "#125. Check the size of np.intp on different platforms and how it changes with the CPU architecture.\n"
   ]
  },
  {
   "cell_type": "markdown",
   "id": "2637ea78",
   "metadata": {},
   "source": [
    "## Creating Arrays of Fixed Width\n",
    "126. Create an array of strings with a fixed width and demonstrate truncation or padding when the string is too long or short."
   ]
  },
  {
   "cell_type": "code",
   "execution_count": null,
   "id": "773304b9",
   "metadata": {},
   "outputs": [],
   "source": [
    "#126. Create an array of strings with a fixed width and demonstrate truncation or padding when the string is too long or short.\n"
   ]
  },
  {
   "cell_type": "markdown",
   "id": "4a67e23a",
   "metadata": {},
   "source": [
    "## Working with Platform-Dependent Data Types\n",
    "127. Create arrays with numpy.intp and numpy.uintp and verify their size based on your system's architecture."
   ]
  },
  {
   "cell_type": "code",
   "execution_count": null,
   "id": "3d115abb",
   "metadata": {},
   "outputs": [],
   "source": [
    "#127. Create arrays with numpy.intp and numpy.uintp and verify their size based on your system's architecture.\n"
   ]
  },
  {
   "cell_type": "markdown",
   "id": "c90c697a",
   "metadata": {},
   "source": [
    "## Overflow in Complex Number Operations\n",
    "128. Perform an operation that results in an overflow error for complex numbers using np.complex128."
   ]
  },
  {
   "cell_type": "code",
   "execution_count": null,
   "id": "9cfe0c21",
   "metadata": {},
   "outputs": [],
   "source": [
    "#128. Perform an operation that results in an overflow error for complex numbers using np.complex128.\n"
   ]
  },
  {
   "cell_type": "markdown",
   "id": "1d7ca306",
   "metadata": {},
   "source": [
    "## Exploring Memory Alignment with np.longdouble\n",
    "129. Create a numpy array with np.longdouble and verify its memory alignment with system-specific behavior."
   ]
  },
  {
   "cell_type": "code",
   "execution_count": null,
   "id": "65cfd2cd",
   "metadata": {},
   "outputs": [],
   "source": [
    "#129. Create a numpy array with np.longdouble and verify its memory alignment with system-specific behavior.\n"
   ]
  },
  {
   "cell_type": "markdown",
   "id": "b41e3b52",
   "metadata": {},
   "source": [
    "## Handling Arrays with Null Bytes\n",
    "130. Create an array of byte sequences and observe how NumPy handles null bytes when using dtype='S7'."
   ]
  },
  {
   "cell_type": "code",
   "execution_count": null,
   "id": "93463a2d",
   "metadata": {},
   "outputs": [],
   "source": [
    "#130. Create an array of byte sequences and observe how NumPy handles null bytes when using dtype='S7'.\n"
   ]
  },
  {
   "cell_type": "markdown",
   "id": "105dd29b",
   "metadata": {},
   "source": [
    "## Using np.void for Arbitrary Byte Sequences\n",
    "131. Create an array of arbitrary byte sequences using dtype='V7' and check how the void type handles these sequences."
   ]
  },
  {
   "cell_type": "code",
   "execution_count": null,
   "id": "0e3f164f",
   "metadata": {},
   "outputs": [],
   "source": [
    "#131. Create an array of arbitrary byte sequences using dtype='V7' and check how the void type handles these sequences.\n"
   ]
  },
  {
   "cell_type": "markdown",
   "id": "fb5c13fb",
   "metadata": {},
   "source": [
    "## Handling Inconsistent Array Lengths in String Arrays\n",
    "132. Create a numpy array with strings of different lengths and experiment with padding and truncation."
   ]
  },
  {
   "cell_type": "code",
   "execution_count": null,
   "id": "da3180ca",
   "metadata": {},
   "outputs": [],
   "source": [
    "#132. Create a numpy array with strings of different lengths and experiment with padding and truncation.\n"
   ]
  },
  {
   "cell_type": "markdown",
   "id": "12640f9d",
   "metadata": {},
   "source": [
    "## Converting Large Integers to Floats\n",
    "133. Create a large integer array, convert it to a float array using astype(), and observe how precision is affected."
   ]
  },
  {
   "cell_type": "code",
   "execution_count": null,
   "id": "27aaa1f4",
   "metadata": {},
   "outputs": [],
   "source": [
    "#133. Create a large integer array, convert it to a float array using astype(), and observe how precision is affected.\n"
   ]
  },
  {
   "cell_type": "markdown",
   "id": "2280dfa0",
   "metadata": {},
   "source": [
    "## Handling C Data Types in NumPy Arrays\n",
    "134. Explore how NumPy handles specific C data types like signed char (np.int8) and unsigned char (np.uint8)."
   ]
  },
  {
   "cell_type": "code",
   "execution_count": null,
   "id": "57980f90",
   "metadata": {},
   "outputs": [],
   "source": [
    "#134. Explore how NumPy handles specific C data types like signed char (np.int8) and unsigned char (np.uint8).\n"
   ]
  },
  {
   "cell_type": "markdown",
   "id": "ba356fb8",
   "metadata": {},
   "source": [
    "## data\n",
    "135. Create a 1D array with the dtype set to np.int32 and print the dtype of the resulting array."
   ]
  },
  {
   "cell_type": "code",
   "execution_count": null,
   "id": "29f978bb",
   "metadata": {},
   "outputs": [],
   "source": [
    "#135. Create a 1D array with the dtype set to np.int32 and print the dtype of the resulting array.\n"
   ]
  },
  {
   "cell_type": "markdown",
   "id": "7d06aca0",
   "metadata": {},
   "source": [
    "## data\n",
    "136. Create a 1D array with integers and convert the dtype to np.float64 using the astype() method."
   ]
  },
  {
   "cell_type": "code",
   "execution_count": null,
   "id": "fc65525d",
   "metadata": {},
   "outputs": [],
   "source": [
    "#136. Create a 1D array with integers and convert the dtype to np.float64 using the astype() method.\n"
   ]
  },
  {
   "cell_type": "markdown",
   "id": "c97c981c",
   "metadata": {},
   "source": [
    "## data\n",
    "137. Create a 1D array with dtype=np.uint8, and print its values to confirm it stores unsigned 8-bit integers."
   ]
  },
  {
   "cell_type": "code",
   "execution_count": null,
   "id": "03fbac0c",
   "metadata": {},
   "outputs": [],
   "source": [
    "#137. Create a 1D array with dtype=np.uint8, and print its values to confirm it stores unsigned 8-bit integers.\n"
   ]
  },
  {
   "cell_type": "markdown",
   "id": "1ae460b3",
   "metadata": {},
   "source": [
    "## data\n",
    "138. Create a 1D array of strings with dtype='U10' to store 10-character unicode strings."
   ]
  },
  {
   "cell_type": "code",
   "execution_count": null,
   "id": "7c206c66",
   "metadata": {},
   "outputs": [],
   "source": [
    "#138. Create a 1D array of strings with dtype='U10' to store 10-character unicode strings.\n"
   ]
  },
  {
   "cell_type": "markdown",
   "id": "3ac8141f",
   "metadata": {},
   "source": [
    "## Array Types and Conversions\n",
    "139. Create a structured array with two fields: one of type np.int32 and the other of type np.float64."
   ]
  },
  {
   "cell_type": "code",
   "execution_count": null,
   "id": "cdd72bbc",
   "metadata": {},
   "outputs": [],
   "source": [
    "#139. Create a structured array with two fields: one of type np.int32 and the other of type np.float64.\n"
   ]
  },
  {
   "cell_type": "markdown",
   "id": "4ad68c86",
   "metadata": {},
   "source": [
    "## Array Types and Conversions\n",
    "140. Access an element in a numpy array and compare it with a Python scalar using == to check if they behave similarly."
   ]
  },
  {
   "cell_type": "code",
   "execution_count": null,
   "id": "c0c572e8",
   "metadata": {},
   "outputs": [],
   "source": [
    "#140. Access an element in a numpy array and compare it with a Python scalar using == to check if they behave similarly.\n"
   ]
  },
  {
   "cell_type": "markdown",
   "id": "1bd67018",
   "metadata": {},
   "source": [
    "## Array Types and Conversions\n",
    "141. Attempt a calculation that causes an overflow error, for example, multiplying large numbers with np.int32."
   ]
  },
  {
   "cell_type": "code",
   "execution_count": null,
   "id": "21a63f29",
   "metadata": {},
   "outputs": [],
   "source": [
    "#141. Attempt a calculation that causes an overflow error, for example, multiplying large numbers with np.int32.\n"
   ]
  },
  {
   "cell_type": "markdown",
   "id": "e48aa9d1",
   "metadata": {},
   "source": [
    "## Array Types and Conversions\n",
    "142. Use np.iinfo() to get the min and max bounds for a 32-bit integer (np.int32) and a 64-bit integer (np.int64)."
   ]
  },
  {
   "cell_type": "code",
   "execution_count": null,
   "id": "2eabb2d7",
   "metadata": {},
   "outputs": [],
   "source": [
    "#142. Use np.iinfo() to get the min and max bounds for a 32-bit integer (np.int32) and a 64-bit integer (np.int64).\n"
   ]
  },
  {
   "cell_type": "markdown",
   "id": "079c9716",
   "metadata": {},
   "source": [
    "## NumPy numerical types\n",
    "143. Use np.finfo() to display the smallest and largest values of np.float32."
   ]
  },
  {
   "cell_type": "code",
   "execution_count": null,
   "id": "c2573465",
   "metadata": {},
   "outputs": [],
   "source": [
    "#143. Use np.finfo() to display the smallest and largest values of np.float32.\n"
   ]
  },
  {
   "cell_type": "markdown",
   "id": "270bd0eb",
   "metadata": {},
   "source": [
    "## NumPy numerical types\n",
    "144. Create an array of np.longdouble and check if it has more precision than np.float64 by comparing both types."
   ]
  },
  {
   "cell_type": "code",
   "execution_count": null,
   "id": "58da6ecf",
   "metadata": {},
   "outputs": [],
   "source": [
    "#144. Create an array of np.longdouble and check if it has more precision than np.float64 by comparing both types.\n"
   ]
  },
  {
   "cell_type": "markdown",
   "id": "b295aadd",
   "metadata": {},
   "source": [
    "## NumPy numerical types\n",
    "145. Create a numpy array of strings with dtype 'U5' and demonstrate how it truncates or pads strings."
   ]
  },
  {
   "cell_type": "code",
   "execution_count": null,
   "id": "6461610b",
   "metadata": {},
   "outputs": [],
   "source": [
    "#145. Create a numpy array of strings with dtype 'U5' and demonstrate how it truncates or pads strings.\n"
   ]
  },
  {
   "cell_type": "markdown",
   "id": "24c4e41a",
   "metadata": {},
   "source": [
    "## NumPy numerical types\n",
    "146. Create a numpy array with dtype 'S7' to store byte sequences and observe how it handles null padding."
   ]
  },
  {
   "cell_type": "code",
   "execution_count": null,
   "id": "86601e7a",
   "metadata": {},
   "outputs": [],
   "source": [
    "#146. Create a numpy array with dtype 'S7' to store byte sequences and observe how it handles null padding.\n"
   ]
  },
  {
   "cell_type": "markdown",
   "id": "95a0c8f2",
   "metadata": {},
   "source": [
    "##  Relationship with C types\n",
    "147. Create a numpy array with np.float32 and convert it to a complex number type using astype()."
   ]
  },
  {
   "cell_type": "code",
   "execution_count": null,
   "id": "8f01dac8",
   "metadata": {},
   "outputs": [],
   "source": [
    "#147. Create a numpy array with np.float32 and convert it to a complex number type using astype().\n"
   ]
  },
  {
   "cell_type": "markdown",
   "id": "dbc06494",
   "metadata": {},
   "source": [
    "##  Relationship with C types\n",
    "148. Use numpy.int8 and numpy.int16 to create arrays and print the corresponding C-like types."
   ]
  },
  {
   "cell_type": "code",
   "execution_count": null,
   "id": "c6a8c87f",
   "metadata": {},
   "outputs": [],
   "source": [
    "#148. Use numpy.int8 and numpy.int16 to create arrays and print the corresponding C-like types.\n"
   ]
  },
  {
   "cell_type": "markdown",
   "id": "263ecb9d",
   "metadata": {},
   "source": [
    "##  Relationship with C types\n",
    "149. Create an array of np.float128 and inspect how it aligns in memory by checking its memory size and alignment."
   ]
  },
  {
   "cell_type": "code",
   "execution_count": null,
   "id": "f71a1fd1",
   "metadata": {},
   "outputs": [],
   "source": [
    "#149. Create an array of np.float128 and inspect how it aligns in memory by checking its memory size and alignment.\n"
   ]
  },
  {
   "cell_type": "markdown",
   "id": "dbed068c",
   "metadata": {},
   "source": [
    "##  Relationship with C types\n",
    "150. Create a structured array with two fields: one as an integer and the other as a string, and access both fields."
   ]
  },
  {
   "cell_type": "code",
   "execution_count": null,
   "id": "38bf3aeb",
   "metadata": {},
   "outputs": [],
   "source": [
    "#150. Create a structured array with two fields: one as an integer and the other as a string, and access both fields.\n"
   ]
  },
  {
   "cell_type": "markdown",
   "id": "614e4721",
   "metadata": {},
   "source": [
    "## Array scalars\n",
    "151. Create a numpy array with missing values (np.nan) and use numpy functions like np.isnan() to detect them."
   ]
  },
  {
   "cell_type": "code",
   "execution_count": null,
   "id": "eb2fc948",
   "metadata": {},
   "outputs": [],
   "source": [
    "#151. Create a numpy array with missing values (np.nan) and use numpy functions like np.isnan() to detect them.\n"
   ]
  },
  {
   "cell_type": "markdown",
   "id": "cf625e10",
   "metadata": {},
   "source": [
    "## Array scalars\n",
    "152. Create a numpy array of complex numbers (dtype=np.complex128) and perform some basic operations on them."
   ]
  },
  {
   "cell_type": "code",
   "execution_count": null,
   "id": "e8c21dcd",
   "metadata": {},
   "outputs": [],
   "source": [
    "#152. Create a numpy array of complex numbers (dtype=np.complex128) and perform some basic operations on them.\n"
   ]
  },
  {
   "cell_type": "markdown",
   "id": "f96c4543",
   "metadata": {},
   "source": [
    "## Array scalars\n",
    "153. Try using numpy.int64 for large integers and perform an arithmetic operation that would overflow in 32-bit integers."
   ]
  },
  {
   "cell_type": "code",
   "execution_count": null,
   "id": "93c4fcc8",
   "metadata": {},
   "outputs": [],
   "source": [
    "#153. Try using numpy.int64 for large integers and perform an arithmetic operation that would overflow in 32-bit integers.\n"
   ]
  },
  {
   "cell_type": "markdown",
   "id": "ee169af9",
   "metadata": {},
   "source": [
    "## Array scalars\n",
    "154. Create an array with np.float32 and cast it to np.int32 using the astype() method, then compare the result."
   ]
  },
  {
   "cell_type": "code",
   "execution_count": null,
   "id": "7f50f942",
   "metadata": {},
   "outputs": [],
   "source": [
    "#154. Create an array with np.float32 and cast it to np.int32 using the astype() method, then compare the result.\n"
   ]
  },
  {
   "cell_type": "markdown",
   "id": "3ac0eb8f",
   "metadata": {},
   "source": [
    "## Overflow errors\n",
    "155. Create a numpy array and access an element, then modify it directly using array indexing."
   ]
  },
  {
   "cell_type": "code",
   "execution_count": null,
   "id": "2c5d0ba2",
   "metadata": {},
   "outputs": [],
   "source": [
    "#155. Create a numpy array and access an element, then modify it directly using array indexing.\n"
   ]
  },
  {
   "cell_type": "markdown",
   "id": "6d27eca4",
   "metadata": {},
   "source": [
    "## Overflow errors\n",
    "156. Use np.issubdtype() to check if a numpy array's dtype is an integer or floating point."
   ]
  },
  {
   "cell_type": "code",
   "execution_count": null,
   "id": "6b448371",
   "metadata": {},
   "outputs": [],
   "source": [
    "#156. Use np.issubdtype() to check if a numpy array's dtype is an integer or floating point.\n"
   ]
  },
  {
   "cell_type": "markdown",
   "id": "e1db63d0",
   "metadata": {},
   "source": [
    "## Overflow errors\n",
    "157. Create a numpy array with dtype='int8' and check its size in memory."
   ]
  },
  {
   "cell_type": "code",
   "execution_count": null,
   "id": "24939d30",
   "metadata": {},
   "outputs": [],
   "source": [
    "#157. Create a numpy array with dtype='int8' and check its size in memory.\n"
   ]
  },
  {
   "cell_type": "markdown",
   "id": "44dc2862",
   "metadata": {},
   "source": [
    "## Overflow errors\n",
    "158. Create an array with np.float16 and perform arithmetic operations to observe the behavior of reduced precision."
   ]
  },
  {
   "cell_type": "code",
   "execution_count": null,
   "id": "416e8c37",
   "metadata": {},
   "outputs": [],
   "source": [
    "#158. Create an array with np.float16 and perform arithmetic operations to observe the behavior of reduced precision.\n"
   ]
  },
  {
   "cell_type": "markdown",
   "id": "bc06cd5c",
   "metadata": {},
   "source": [
    "## np.iinfo\n",
    "159. Access a complex number from an array and print its real and imaginary parts separately."
   ]
  },
  {
   "cell_type": "code",
   "execution_count": null,
   "id": "24e701e9",
   "metadata": {},
   "outputs": [],
   "source": [
    "#159. Access a complex number from an array and print its real and imaginary parts separately.\n"
   ]
  },
  {
   "cell_type": "markdown",
   "id": "05f71a0a",
   "metadata": {},
   "source": [
    "## np.iinfo\n",
    "160. Check the size of np.intp on different platforms and how it changes with the CPU architecture."
   ]
  },
  {
   "cell_type": "code",
   "execution_count": null,
   "id": "08a9792f",
   "metadata": {},
   "outputs": [],
   "source": [
    "#160. Check the size of np.intp on different platforms and how it changes with the CPU architecture.\n"
   ]
  },
  {
   "cell_type": "markdown",
   "id": "510d78e3",
   "metadata": {},
   "source": [
    "## np.iinfo\n",
    "161. Create an array of strings with a fixed width and demonstrate truncation or padding when the string is too long or short."
   ]
  },
  {
   "cell_type": "code",
   "execution_count": null,
   "id": "4bac43e8",
   "metadata": {},
   "outputs": [],
   "source": [
    "#161. Create an array of strings with a fixed width and demonstrate truncation or padding when the string is too long or short.\n"
   ]
  },
  {
   "cell_type": "markdown",
   "id": "ac13c645",
   "metadata": {},
   "source": [
    "## np.iinfo\n",
    "162. Create arrays with numpy.intp and numpy.uintp and verify their size based on your system's architecture."
   ]
  },
  {
   "cell_type": "code",
   "execution_count": null,
   "id": "622553bc",
   "metadata": {},
   "outputs": [],
   "source": [
    "#162. Create arrays with numpy.intp and numpy.uintp and verify their size based on your system's architecture.\n"
   ]
  },
  {
   "cell_type": "markdown",
   "id": "14e06035",
   "metadata": {},
   "source": [
    "## np.finfo\n",
    "163. Perform an operation that results in an overflow error for complex numbers using np.complex128."
   ]
  },
  {
   "cell_type": "code",
   "execution_count": null,
   "id": "1dcd7942",
   "metadata": {},
   "outputs": [],
   "source": [
    "#163. Perform an operation that results in an overflow error for complex numbers using np.complex128.\n"
   ]
  },
  {
   "cell_type": "markdown",
   "id": "562d0ae5",
   "metadata": {},
   "source": [
    "## np.finfo\n",
    "164. Create a numpy array with np.longdouble and verify its memory alignment with system-specific behavior."
   ]
  },
  {
   "cell_type": "code",
   "execution_count": null,
   "id": "a7fa1621",
   "metadata": {},
   "outputs": [],
   "source": [
    "#164. Create a numpy array with np.longdouble and verify its memory alignment with system-specific behavior.\n"
   ]
  },
  {
   "cell_type": "markdown",
   "id": "f6174793",
   "metadata": {},
   "source": [
    "## np.finfo\n",
    "165. Create an array of byte sequences and observe how NumPy handles null bytes when using dtype='S7'."
   ]
  },
  {
   "cell_type": "code",
   "execution_count": null,
   "id": "0d258510",
   "metadata": {},
   "outputs": [],
   "source": [
    "#165. Create an array of byte sequences and observe how NumPy handles null bytes when using dtype='S7'.\n"
   ]
  },
  {
   "cell_type": "markdown",
   "id": "6dab6cb8",
   "metadata": {},
   "source": [
    "## np.finfo\n",
    "166. Create an array of arbitrary byte sequences using dtype='V7' and check how the void type handles these sequences."
   ]
  },
  {
   "cell_type": "code",
   "execution_count": null,
   "id": "c4f5657a",
   "metadata": {},
   "outputs": [],
   "source": [
    "#166. Create an array of arbitrary byte sequences using dtype='V7' and check how the void type handles these sequences.\n"
   ]
  },
  {
   "cell_type": "markdown",
   "id": "eddcc9e9",
   "metadata": {},
   "source": [
    "## Extended precision\n",
    "167. Create a numpy array with strings of different lengths and experiment with padding and truncation."
   ]
  },
  {
   "cell_type": "code",
   "execution_count": null,
   "id": "27ef2360",
   "metadata": {},
   "outputs": [],
   "source": [
    "#167. Create a numpy array with strings of different lengths and experiment with padding and truncation.\n"
   ]
  },
  {
   "cell_type": "markdown",
   "id": "945c3860",
   "metadata": {},
   "source": [
    "## Extended precision\n",
    "168. Create a large integer array, convert it to a float array using astype(), and observe how precision is affected."
   ]
  },
  {
   "cell_type": "code",
   "execution_count": null,
   "id": "b0113811",
   "metadata": {},
   "outputs": [],
   "source": [
    "#168. Create a large integer array, convert it to a float array using astype(), and observe how precision is affected.\n"
   ]
  },
  {
   "cell_type": "markdown",
   "id": "7a0fac99",
   "metadata": {},
   "source": [
    "## Extended precision\n",
    "169. Explore how NumPy handles specific C data types like signed char (np.int8) and unsigned char (np.uint8)."
   ]
  },
  {
   "cell_type": "code",
   "execution_count": null,
   "id": "30c852af",
   "metadata": {},
   "outputs": [],
   "source": [
    "#169. Explore how NumPy handles specific C data types like signed char (np.int8) and unsigned char (np.uint8).\n"
   ]
  },
  {
   "cell_type": "markdown",
   "id": "dbae9e9a",
   "metadata": {},
   "source": [
    "## #Broadcasting\n",
    "170. ###Introduction to Broadcasting, Broadcasting Rules, Examples of Broadcasting, Shape of the Resulting Array, Broadcasting in Operations, Broadcasting with Higher Dimensional Arrays, Edge Cases in Broadcasting, Practical Use Cases of Broadcasting, Advanced Broadcasting"
   ]
  },
  {
   "cell_type": "code",
   "execution_count": null,
   "id": "ec6dc059",
   "metadata": {},
   "outputs": [],
   "source": [
    "#170. ###Introduction to Broadcasting, Broadcasting Rules, Examples of Broadcasting, Shape of the Resulting Array, Broadcasting in Operations, Broadcasting with Higher Dimensional Arrays, Edge Cases in Broadcasting, Practical Use Cases of Broadcasting, Advanced Broadcasting\n"
   ]
  },
  {
   "cell_type": "markdown",
   "id": "6ebd7d84",
   "metadata": {},
   "source": [
    "## Introduction to Broadcasting\n",
    "171. Create a 1D array and a 2D array, then perform element-wise addition to observe how broadcasting works."
   ]
  },
  {
   "cell_type": "code",
   "execution_count": null,
   "id": "a5c0166f",
   "metadata": {},
   "outputs": [],
   "source": [
    "#171. Create a 1D array and a 2D array, then perform element-wise addition to observe how broadcasting works.\n"
   ]
  },
  {
   "cell_type": "markdown",
   "id": "09d177a0",
   "metadata": {},
   "source": [
    "## Introduction to Broadcasting\n",
    "172. Multiply a scalar with a 2D array and verify the result to understand scalar broadcasting."
   ]
  },
  {
   "cell_type": "code",
   "execution_count": null,
   "id": "af8f7940",
   "metadata": {},
   "outputs": [],
   "source": [
    "#172. Multiply a scalar with a 2D array and verify the result to understand scalar broadcasting.\n"
   ]
  },
  {
   "cell_type": "markdown",
   "id": "e31ce4b9",
   "metadata": {},
   "source": [
    "## Broadcasting Rules\n",
    "173. Create two arrays of shapes (3, 1) and (1, 4), and perform addition to understand the alignment of dimensions."
   ]
  },
  {
   "cell_type": "code",
   "execution_count": null,
   "id": "316aeeff",
   "metadata": {},
   "outputs": [],
   "source": [
    "#173. Create two arrays of shapes (3, 1) and (1, 4), and perform addition to understand the alignment of dimensions.\n"
   ]
  },
  {
   "cell_type": "markdown",
   "id": "71742ec7",
   "metadata": {},
   "source": [
    "## Broadcasting Rules\n",
    "174. Attempt to broadcast two incompatible arrays and observe the resulting error message."
   ]
  },
  {
   "cell_type": "code",
   "execution_count": null,
   "id": "fdfcf97b",
   "metadata": {},
   "outputs": [],
   "source": [
    "#174. Attempt to broadcast two incompatible arrays and observe the resulting error message.\n"
   ]
  },
  {
   "cell_type": "markdown",
   "id": "0970499b",
   "metadata": {},
   "source": [
    "## Examples of Broadcasting\n",
    "175. Create two arrays of shapes (3,) and (3, 1), and add them together to create a 2D result."
   ]
  },
  {
   "cell_type": "code",
   "execution_count": null,
   "id": "0d61c608",
   "metadata": {},
   "outputs": [],
   "source": [
    "#175. Create two arrays of shapes (3,) and (3, 1), and add them together to create a 2D result.\n"
   ]
  },
  {
   "cell_type": "markdown",
   "id": "da9e97ec",
   "metadata": {},
   "source": [
    "## Examples of Broadcasting\n",
    "176. Multiply a 1D array with a 2D array where one of the dimensions matches and observe the output."
   ]
  },
  {
   "cell_type": "code",
   "execution_count": null,
   "id": "5c2fe038",
   "metadata": {},
   "outputs": [],
   "source": [
    "#176. Multiply a 1D array with a 2D array where one of the dimensions matches and observe the output.\n"
   ]
  },
  {
   "cell_type": "markdown",
   "id": "99908a46",
   "metadata": {},
   "source": [
    "## Shape of the Resulting Array\n",
    "177. Create arrays of shapes (2, 3) and (3,) and perform element-wise addition. Check the resulting shape."
   ]
  },
  {
   "cell_type": "code",
   "execution_count": null,
   "id": "b7f6cb2b",
   "metadata": {},
   "outputs": [],
   "source": [
    "#177. Create arrays of shapes (2, 3) and (3,) and perform element-wise addition. Check the resulting shape.\n"
   ]
  },
  {
   "cell_type": "markdown",
   "id": "8817c2b0",
   "metadata": {},
   "source": [
    "## Shape of the Resulting Array\n",
    "178. Perform subtraction between arrays of shapes (3, 1) and (1, 4). Verify the resulting array’s shape."
   ]
  },
  {
   "cell_type": "code",
   "execution_count": null,
   "id": "f127e60d",
   "metadata": {},
   "outputs": [],
   "source": [
    "#178. Perform subtraction between arrays of shapes (3, 1) and (1, 4). Verify the resulting array’s shape.\n"
   ]
  },
  {
   "cell_type": "markdown",
   "id": "3e7f2015",
   "metadata": {},
   "source": [
    "## Broadcasting in Operations\n",
    "179. Use broadcasting to perform element-wise division of a 2D array by a 1D array."
   ]
  },
  {
   "cell_type": "code",
   "execution_count": null,
   "id": "8f7b38a1",
   "metadata": {},
   "outputs": [],
   "source": [
    "#179. Use broadcasting to perform element-wise division of a 2D array by a 1D array.\n"
   ]
  },
  {
   "cell_type": "markdown",
   "id": "990c1508",
   "metadata": {},
   "source": [
    "## Broadcasting in Operations\n",
    "180. Perform matrix multiplication on arrays of shapes (3, 4) and (4,) to observe how broadcasting applies."
   ]
  },
  {
   "cell_type": "code",
   "execution_count": null,
   "id": "e93de7c7",
   "metadata": {},
   "outputs": [],
   "source": [
    "#180. Perform matrix multiplication on arrays of shapes (3, 4) and (4,) to observe how broadcasting applies.\n"
   ]
  },
  {
   "cell_type": "markdown",
   "id": "db54da66",
   "metadata": {},
   "source": [
    "## Broadcasting with Higher Dimensional Arrays\n",
    "181. Create arrays of shapes (2, 3, 1) and (1, 3, 4) and perform element-wise multiplication."
   ]
  },
  {
   "cell_type": "code",
   "execution_count": null,
   "id": "70d47861",
   "metadata": {},
   "outputs": [],
   "source": [
    "#181. Create arrays of shapes (2, 3, 1) and (1, 3, 4) and perform element-wise multiplication.\n"
   ]
  },
  {
   "cell_type": "markdown",
   "id": "6902ef8d",
   "metadata": {},
   "source": [
    "## Broadcasting with Higher Dimensional Arrays\n",
    "182. Add two arrays of shapes (1, 4, 1) and (3, 1, 2). Verify the resulting shape."
   ]
  },
  {
   "cell_type": "code",
   "execution_count": null,
   "id": "c1bc7b07",
   "metadata": {},
   "outputs": [],
   "source": [
    "#182. Add two arrays of shapes (1, 4, 1) and (3, 1, 2). Verify the resulting shape.\n"
   ]
  },
  {
   "cell_type": "markdown",
   "id": "d2af7014",
   "metadata": {},
   "source": [
    "## Edge Cases in Broadcasting\n",
    "183. Attempt to add two arrays of shapes (3, 4) and (4, 3) and interpret the error message."
   ]
  },
  {
   "cell_type": "code",
   "execution_count": null,
   "id": "7b2ef91b",
   "metadata": {},
   "outputs": [],
   "source": [
    "#183. Attempt to add two arrays of shapes (3, 4) and (4, 3) and interpret the error message.\n"
   ]
  },
  {
   "cell_type": "markdown",
   "id": "3fefe077",
   "metadata": {},
   "source": [
    "## Edge Cases in Broadcasting\n",
    "184. Create arrays with shapes (3, 1) and (1, 1, 4) and add them. Verify how broadcasting works across multiple dimensions."
   ]
  },
  {
   "cell_type": "code",
   "execution_count": null,
   "id": "be09ae50",
   "metadata": {},
   "outputs": [],
   "source": [
    "#184. Create arrays with shapes (3, 1) and (1, 1, 4) and add them. Verify how broadcasting works across multiple dimensions.\n"
   ]
  },
  {
   "cell_type": "markdown",
   "id": "e66b1173",
   "metadata": {},
   "source": [
    "## Practical Use Cases of Broadcasting\n",
    "185. Normalize a 2D array by dividing each row by its maximum value using broadcasting."
   ]
  },
  {
   "cell_type": "code",
   "execution_count": null,
   "id": "2aebd9d7",
   "metadata": {},
   "outputs": [],
   "source": [
    "#185. Normalize a 2D array by dividing each row by its maximum value using broadcasting.\n"
   ]
  },
  {
   "cell_type": "markdown",
   "id": "464d4edb",
   "metadata": {},
   "source": [
    "## Practical Use Cases of Broadcasting\n",
    "186. Add a bias vector to a batch of inputs (2D array) using broadcasting."
   ]
  },
  {
   "cell_type": "code",
   "execution_count": null,
   "id": "60826ff1",
   "metadata": {},
   "outputs": [],
   "source": [
    "#186. Add a bias vector to a batch of inputs (2D array) using broadcasting.\n"
   ]
  },
  {
   "cell_type": "markdown",
   "id": "c9f4e083",
   "metadata": {},
   "source": [
    "## Practical Use Cases of Broadcasting\n",
    "187. Perform standardization on a 2D array by subtracting the mean and dividing by the standard deviation along an axis."
   ]
  },
  {
   "cell_type": "code",
   "execution_count": null,
   "id": "8d4e9b97",
   "metadata": {},
   "outputs": [],
   "source": [
    "#187. Perform standardization on a 2D array by subtracting the mean and dividing by the standard deviation along an axis.\n"
   ]
  },
  {
   "cell_type": "markdown",
   "id": "289eebe3",
   "metadata": {},
   "source": [
    "## Advanced Broadcasting\n",
    "188. Broadcast an array of shape (3, 1) to shape (3, 4) and verify by manually constructing the result."
   ]
  },
  {
   "cell_type": "code",
   "execution_count": null,
   "id": "f974ffdc",
   "metadata": {},
   "outputs": [],
   "source": [
    "#188. Broadcast an array of shape (3, 1) to shape (3, 4) and verify by manually constructing the result.\n"
   ]
  },
  {
   "cell_type": "markdown",
   "id": "004729d1",
   "metadata": {},
   "source": [
    "## Advanced Broadcasting\n",
    "189. Multiply arrays of shapes (2, 3, 4) and (4,) using broadcasting and verify the resulting shape."
   ]
  },
  {
   "cell_type": "code",
   "execution_count": null,
   "id": "9f6a9f69",
   "metadata": {},
   "outputs": [],
   "source": [
    "#189. Multiply arrays of shapes (2, 3, 4) and (4,) using broadcasting and verify the resulting shape.\n"
   ]
  },
  {
   "cell_type": "markdown",
   "id": "7b1e0836",
   "metadata": {},
   "source": [
    "## Advanced Broadcasting\n",
    "190. Perform broadcasting between arrays with mismatched dimensions, ensuring alignment of the trailing dimensions."
   ]
  },
  {
   "cell_type": "code",
   "execution_count": null,
   "id": "03e681ec",
   "metadata": {},
   "outputs": [],
   "source": [
    "#190. Perform broadcasting between arrays with mismatched dimensions, ensuring alignment of the trailing dimensions.\n"
   ]
  },
  {
   "cell_type": "markdown",
   "id": "7d68fc06",
   "metadata": {},
   "source": [
    "## Advanced Broadcasting\n",
    "191. Use `np.newaxis` to explicitly add dimensions and make two arrays broadcast-compatible."
   ]
  },
  {
   "cell_type": "code",
   "execution_count": null,
   "id": "40d33e43",
   "metadata": {},
   "outputs": [],
   "source": [
    "#191. Use `np.newaxis` to explicitly add dimensions and make two arrays broadcast-compatible.\n"
   ]
  },
  {
   "cell_type": "markdown",
   "id": "07de86df",
   "metadata": {},
   "source": [
    "## Advanced Broadcasting\n",
    "192. Combine broadcasting with advanced indexing to update specific rows of a 2D array."
   ]
  },
  {
   "cell_type": "code",
   "execution_count": null,
   "id": "1d8dfef3",
   "metadata": {},
   "outputs": [],
   "source": [
    "#192. Combine broadcasting with advanced indexing to update specific rows of a 2D array.\n"
   ]
  },
  {
   "cell_type": "markdown",
   "id": "f5c9c9e9",
   "metadata": {},
   "source": [
    "## #Copy and view\n",
    "193. Difference Between Copies and Views, Creating Views, Creating Copies, Modifying Views and Copies, When to Use Copies vs Views"
   ]
  },
  {
   "cell_type": "code",
   "execution_count": null,
   "id": "0dc86b2f",
   "metadata": {},
   "outputs": [],
   "source": [
    "#193. Difference Between Copies and Views, Creating Views, Creating Copies, Modifying Views and Copies, When to Use Copies vs Views\n"
   ]
  },
  {
   "cell_type": "markdown",
   "id": "2f4b97c0",
   "metadata": {},
   "source": [
    "## Difference Between Copies and Views\n",
    "194. Create a NumPy array, assign it to another variable directly, and confirm they reference the same memory location using `np.may_share_memory`."
   ]
  },
  {
   "cell_type": "code",
   "execution_count": null,
   "id": "2a9921b0",
   "metadata": {},
   "outputs": [],
   "source": [
    "#194. Create a NumPy array, assign it to another variable directly, and confirm they reference the same memory location using `np.may_share_memory`.\n"
   ]
  },
  {
   "cell_type": "markdown",
   "id": "9682227b",
   "metadata": {},
   "source": [
    "## Difference Between Copies and Views\n",
    "195. Create two arrays, one using `np.copy` and the other by direct assignment. Modify both and compare the impact on the original."
   ]
  },
  {
   "cell_type": "code",
   "execution_count": null,
   "id": "806da152",
   "metadata": {},
   "outputs": [],
   "source": [
    "#195. Create two arrays, one using `np.copy` and the other by direct assignment. Modify both and compare the impact on the original.\n"
   ]
  },
  {
   "cell_type": "markdown",
   "id": "dfc04cd2",
   "metadata": {},
   "source": [
    "## Difference Between Copies and Views\n",
    "196. Use slicing on a 1D array to create a view, and compare its memory location with the original array using `np.may_share_memory`."
   ]
  },
  {
   "cell_type": "code",
   "execution_count": null,
   "id": "c6c6dd7e",
   "metadata": {},
   "outputs": [],
   "source": [
    "#196. Use slicing on a 1D array to create a view, and compare its memory location with the original array using `np.may_share_memory`.\n"
   ]
  },
  {
   "cell_type": "markdown",
   "id": "6980a211",
   "metadata": {},
   "source": [
    "## Difference Between Copies and Views\n",
    "197. Create a copy of an array with `array.copy()` and verify that `np.may_share_memory` confirms no shared memory."
   ]
  },
  {
   "cell_type": "code",
   "execution_count": null,
   "id": "56842d00",
   "metadata": {},
   "outputs": [],
   "source": [
    "#197. Create a copy of an array with `array.copy()` and verify that `np.may_share_memory` confirms no shared memory.\n"
   ]
  },
  {
   "cell_type": "markdown",
   "id": "11be3281",
   "metadata": {},
   "source": [
    "## Creating Views\n",
    "198. Create a view of a 2D array by slicing rows and verify that modifying the view reflects in the original array."
   ]
  },
  {
   "cell_type": "code",
   "execution_count": null,
   "id": "01c69321",
   "metadata": {},
   "outputs": [],
   "source": [
    "#198. Create a view of a 2D array by slicing rows and verify that modifying the view reflects in the original array.\n"
   ]
  },
  {
   "cell_type": "markdown",
   "id": "bcaa062b",
   "metadata": {},
   "source": [
    "## Creating Views\n",
    "199. Use `.flatten()` on an array and check if it returns a copy or a view by modifying the flattened array."
   ]
  },
  {
   "cell_type": "code",
   "execution_count": null,
   "id": "285a9863",
   "metadata": {},
   "outputs": [],
   "source": [
    "#199. Use `.flatten()` on an array and check if it returns a copy or a view by modifying the flattened array.\n"
   ]
  },
  {
   "cell_type": "markdown",
   "id": "aaf1e73e",
   "metadata": {},
   "source": [
    "## Creating Views\n",
    "200. Demonstrate that `.transpose()` creates a view by changing values in the transposed array and checking the original."
   ]
  },
  {
   "cell_type": "code",
   "execution_count": null,
   "id": "27b87ff8",
   "metadata": {},
   "outputs": [],
   "source": [
    "#200. Demonstrate that `.transpose()` creates a view by changing values in the transposed array and checking the original.\n"
   ]
  },
  {
   "cell_type": "markdown",
   "id": "d6380d42",
   "metadata": {},
   "source": [
    "## Creating Copies\n",
    "201. Create a copy of a structured array using `np.copy` and modify the fields. Verify that the original array remains unchanged."
   ]
  },
  {
   "cell_type": "code",
   "execution_count": null,
   "id": "510347c7",
   "metadata": {},
   "outputs": [],
   "source": [
    "#201. Create a copy of a structured array using `np.copy` and modify the fields. Verify that the original array remains unchanged.\n"
   ]
  },
  {
   "cell_type": "markdown",
   "id": "7e01fbea",
   "metadata": {},
   "source": [
    "## Creating Copies\n",
    "202. Use `np.copy` on a large 3D array, modify an element, and verify no changes occur in the original array."
   ]
  },
  {
   "cell_type": "code",
   "execution_count": null,
   "id": "00794427",
   "metadata": {},
   "outputs": [],
   "source": [
    "#202. Use `np.copy` on a large 3D array, modify an element, and verify no changes occur in the original array.\n"
   ]
  },
  {
   "cell_type": "markdown",
   "id": "818e9a23",
   "metadata": {},
   "source": [
    "## Modifying Views and Copies\n",
    "203. Slice a 2D array to extract a subarray as a view. Modify elements in the subarray and verify the original reflects the changes."
   ]
  },
  {
   "cell_type": "code",
   "execution_count": null,
   "id": "4e6508df",
   "metadata": {},
   "outputs": [],
   "source": [
    "#203. Slice a 2D array to extract a subarray as a view. Modify elements in the subarray and verify the original reflects the changes.\n"
   ]
  },
  {
   "cell_type": "markdown",
   "id": "8dd1ce32",
   "metadata": {},
   "source": [
    "## Modifying Views and Copies\n",
    "204. Create a copy of an array, modify its shape with `.reshape()`, and verify that changes to the copy do not affect the original array."
   ]
  },
  {
   "cell_type": "code",
   "execution_count": null,
   "id": "8f7fdeea",
   "metadata": {},
   "outputs": [],
   "source": [
    "#204. Create a copy of an array, modify its shape with `.reshape()`, and verify that changes to the copy do not affect the original array.\n"
   ]
  },
  {
   "cell_type": "markdown",
   "id": "5634ecd2",
   "metadata": {},
   "source": [
    "## Modifying Views and Copies\n",
    "205. Create a 1D array view using slicing and modify values. Check that the original array reflects these changes."
   ]
  },
  {
   "cell_type": "code",
   "execution_count": null,
   "id": "be9b7a4a",
   "metadata": {},
   "outputs": [],
   "source": [
    "#205. Create a 1D array view using slicing and modify values. Check that the original array reflects these changes.\n"
   ]
  },
  {
   "cell_type": "markdown",
   "id": "8ad2c0fe",
   "metadata": {},
   "source": [
    "## Modifying Views and Copies\n",
    "206. Use `.astype()` to create a new array with a different data type and confirm it's a copy by modifying it."
   ]
  },
  {
   "cell_type": "code",
   "execution_count": null,
   "id": "08d85702",
   "metadata": {},
   "outputs": [],
   "source": [
    "#206. Use `.astype()` to create a new array with a different data type and confirm it's a copy by modifying it.\n"
   ]
  },
  {
   "cell_type": "markdown",
   "id": "56dc697c",
   "metadata": {},
   "source": [
    "## When to Use Copies vs Views\n",
    "207. Illustrate memory efficiency by slicing a large 2D array for analysis without using `np.copy`."
   ]
  },
  {
   "cell_type": "code",
   "execution_count": null,
   "id": "10aa8b9c",
   "metadata": {},
   "outputs": [],
   "source": [
    "#207. Illustrate memory efficiency by slicing a large 2D array for analysis without using `np.copy`.\n"
   ]
  },
  {
   "cell_type": "markdown",
   "id": "0afbc50e",
   "metadata": {},
   "source": [
    "## When to Use Copies vs Views\n",
    "208. Demonstrate the need for copies by creating a view of a dataset, modifying it unintentionally, and observing the impact on the original."
   ]
  },
  {
   "cell_type": "code",
   "execution_count": null,
   "id": "bd2238f5",
   "metadata": {},
   "outputs": [],
   "source": [
    "#208. Demonstrate the need for copies by creating a view of a dataset, modifying it unintentionally, and observing the impact on the original.\n"
   ]
  },
  {
   "cell_type": "markdown",
   "id": "49c93169",
   "metadata": {},
   "source": [
    "## When to Use Copies vs Views\n",
    "209. Use a view to modify specific sections of a large dataset without creating a full copy for efficiency."
   ]
  },
  {
   "cell_type": "code",
   "execution_count": null,
   "id": "a04bfc66",
   "metadata": {},
   "outputs": [],
   "source": [
    "#209. Use a view to modify specific sections of a large dataset without creating a full copy for efficiency.\n"
   ]
  },
  {
   "cell_type": "markdown",
   "id": "a8591cde",
   "metadata": {},
   "source": [
    "## When to Use Copies vs Views\n",
    "210. Demonstrate using `np.copy` for independent data processing by modifying a copy without affecting the original dataset."
   ]
  },
  {
   "cell_type": "code",
   "execution_count": null,
   "id": "ef4d85de",
   "metadata": {},
   "outputs": [],
   "source": [
    "#210. Demonstrate using `np.copy` for independent data processing by modifying a copy without affecting the original dataset.\n"
   ]
  },
  {
   "cell_type": "markdown",
   "id": "a38a6dfa",
   "metadata": {},
   "source": [
    "## Advanced: Nested Views and Copies\n",
    "211. Create a view of a view by slicing twice, and modify the final view to observe cascading effects on the original array."
   ]
  },
  {
   "cell_type": "code",
   "execution_count": null,
   "id": "1b962cc1",
   "metadata": {},
   "outputs": [],
   "source": [
    "#211. Create a view of a view by slicing twice, and modify the final view to observe cascading effects on the original array.\n"
   ]
  },
  {
   "cell_type": "markdown",
   "id": "4430cb79",
   "metadata": {},
   "source": [
    "## Advanced: Nested Views and Copies\n",
    "212. Demonstrate how chaining `.transpose()` and `.reshape()` can lead to complex views and validate changes in the original array."
   ]
  },
  {
   "cell_type": "code",
   "execution_count": null,
   "id": "5fe48362",
   "metadata": {},
   "outputs": [],
   "source": [
    "#212. Demonstrate how chaining `.transpose()` and `.reshape()` can lead to complex views and validate changes in the original array.\n"
   ]
  },
  {
   "cell_type": "markdown",
   "id": "c98edb7b",
   "metadata": {},
   "source": [
    "## Advanced: Memory Sharing\n",
    "213. Use `np.may_share_memory` to demonstrate shared memory between a reshaped view and its original array."
   ]
  },
  {
   "cell_type": "code",
   "execution_count": null,
   "id": "19527fbd",
   "metadata": {},
   "outputs": [],
   "source": [
    "#213. Use `np.may_share_memory` to demonstrate shared memory between a reshaped view and its original array.\n"
   ]
  },
  {
   "cell_type": "markdown",
   "id": "2a9990fe",
   "metadata": {},
   "source": [
    "## Advanced: Shared Memory Verification\n",
    "214. Create a copy, reshape it, and verify that `np.may_share_memory` confirms no shared memory."
   ]
  },
  {
   "cell_type": "code",
   "execution_count": null,
   "id": "8f52923a",
   "metadata": {},
   "outputs": [],
   "source": [
    "#214. Create a copy, reshape it, and verify that `np.may_share_memory` confirms no shared memory.\n"
   ]
  },
  {
   "cell_type": "markdown",
   "id": "422b18d4",
   "metadata": {},
   "source": [
    "## Practical Example: Efficient Slicing\n",
    "215. Use slicing to extract and modify a region in an image array without duplicating the data for memory efficiency."
   ]
  },
  {
   "cell_type": "code",
   "execution_count": null,
   "id": "75434060",
   "metadata": {},
   "outputs": [],
   "source": [
    "#215. Use slicing to extract and modify a region in an image array without duplicating the data for memory efficiency.\n"
   ]
  },
  {
   "cell_type": "markdown",
   "id": "32ce212f",
   "metadata": {},
   "source": [
    "## Practical Example: Safe Modification\n",
    "216. Demonstrate safe modification by creating a copy of a financial dataset before performing analysis."
   ]
  },
  {
   "cell_type": "code",
   "execution_count": null,
   "id": "a9f363fb",
   "metadata": {},
   "outputs": [],
   "source": [
    "#216. Demonstrate safe modification by creating a copy of a financial dataset before performing analysis.\n"
   ]
  },
  {
   "cell_type": "markdown",
   "id": "ca32955a",
   "metadata": {},
   "source": [
    "## Practical Example: Chain Operations\n",
    "217. Apply multiple operations on an array, such as `.reshape()` and `.T`, and determine if the result is a view or a copy."
   ]
  },
  {
   "cell_type": "code",
   "execution_count": null,
   "id": "4915b43c",
   "metadata": {},
   "outputs": [],
   "source": [
    "#217. Apply multiple operations on an array, such as `.reshape()` and `.T`, and determine if the result is a view or a copy.\n"
   ]
  },
  {
   "cell_type": "markdown",
   "id": "e08b1fe4",
   "metadata": {},
   "source": [
    "## Practical Example: Deep Copies\n",
    "218. Create a deep copy of a nested structured array using `np.copy` and verify its independence by modifying nested elements."
   ]
  },
  {
   "cell_type": "code",
   "execution_count": null,
   "id": "d04a4fc9",
   "metadata": {},
   "outputs": [],
   "source": [
    "#218. Create a deep copy of a nested structured array using `np.copy` and verify its independence by modifying nested elements.\n"
   ]
  },
  {
   "cell_type": "markdown",
   "id": "8499f1bc",
   "metadata": {},
   "source": [
    "## working with array of string\n",
    "219. Creating String Arrays, String Operations, Handling Byte Arrays, String and Byte Data Types"
   ]
  },
  {
   "cell_type": "code",
   "execution_count": null,
   "id": "82bbd815",
   "metadata": {},
   "outputs": [],
   "source": [
    "#219. Creating String Arrays, String Operations, Handling Byte Arrays, String and Byte Data Types\n"
   ]
  },
  {
   "cell_type": "markdown",
   "id": "1fdd99ce",
   "metadata": {},
   "source": [
    "## String Array Initialization with Multiple Elements\n",
    "220. Initialize a string array with multiple elements using `np.array()` and manipulate them using indexing."
   ]
  },
  {
   "cell_type": "code",
   "execution_count": null,
   "id": "a5c8d4e9",
   "metadata": {},
   "outputs": [],
   "source": [
    "#220. Initialize a string array with multiple elements using `np.array()` and manipulate them using indexing.\n"
   ]
  },
  {
   "cell_type": "markdown",
   "id": "76c8a905",
   "metadata": {},
   "source": [
    "## Creating Arrays of Mixed-Length Strings\n",
    "221. Create a NumPy array with mixed-length strings and observe how it handles padding or truncation based on the `dtype`."
   ]
  },
  {
   "cell_type": "code",
   "execution_count": null,
   "id": "8cb7781f",
   "metadata": {},
   "outputs": [],
   "source": [
    "#221. Create a NumPy array with mixed-length strings and observe how it handles padding or truncation based on the `dtype`.\n"
   ]
  },
  {
   "cell_type": "markdown",
   "id": "0e62c816",
   "metadata": {},
   "source": [
    "## Creating an Empty String Array\n",
    "222. Create an empty string array with a specified shape and populate it later using a loop or another array."
   ]
  },
  {
   "cell_type": "code",
   "execution_count": null,
   "id": "b91e7952",
   "metadata": {},
   "outputs": [],
   "source": [
    "#222. Create an empty string array with a specified shape and populate it later using a loop or another array.\n"
   ]
  },
  {
   "cell_type": "markdown",
   "id": "d88b6d27",
   "metadata": {},
   "source": [
    "## Creating String Arrays from a List of Words\n",
    "223. Create a string array from a list of words or phrases and apply basic text operations like counting characters or searching for substrings."
   ]
  },
  {
   "cell_type": "code",
   "execution_count": null,
   "id": "cb9fc542",
   "metadata": {},
   "outputs": [],
   "source": [
    "#223. Create a string array from a list of words or phrases and apply basic text operations like counting characters or searching for substrings.\n"
   ]
  },
  {
   "cell_type": "markdown",
   "id": "35c36230",
   "metadata": {},
   "source": [
    "## String Array Element-wise Operations\n",
    "224. Perform element-wise operations on a string array, such as converting to uppercase, and examine how it affects each element."
   ]
  },
  {
   "cell_type": "code",
   "execution_count": null,
   "id": "a94a6a20",
   "metadata": {},
   "outputs": [],
   "source": [
    "#224. Perform element-wise operations on a string array, such as converting to uppercase, and examine how it affects each element.\n"
   ]
  },
  {
   "cell_type": "markdown",
   "id": "57afe74f",
   "metadata": {},
   "source": [
    "## Substring Search in String Arrays\n",
    "225. Use `np.char.find()` to search for a substring within each element of a string array and check for its index."
   ]
  },
  {
   "cell_type": "code",
   "execution_count": null,
   "id": "115a6cf5",
   "metadata": {},
   "outputs": [],
   "source": [
    "#225. Use `np.char.find()` to search for a substring within each element of a string array and check for its index.\n"
   ]
  },
  {
   "cell_type": "markdown",
   "id": "dd628d28",
   "metadata": {},
   "source": [
    "## Splitting Strings with a Delimiter\n",
    "226. Split strings in an array by a delimiter such as a comma or space using `np.char.split()` and verify the result."
   ]
  },
  {
   "cell_type": "code",
   "execution_count": null,
   "id": "e8998e07",
   "metadata": {},
   "outputs": [],
   "source": [
    "#226. Split strings in an array by a delimiter such as a comma or space using `np.char.split()` and verify the result.\n"
   ]
  },
  {
   "cell_type": "markdown",
   "id": "c7690ac2",
   "metadata": {},
   "source": [
    "## Joining an Array of Strings\n",
    "227. Use `np.char.join()` to join elements of a string array into a single string with a specified delimiter."
   ]
  },
  {
   "cell_type": "code",
   "execution_count": null,
   "id": "668f3252",
   "metadata": {},
   "outputs": [],
   "source": [
    "#227. Use `np.char.join()` to join elements of a string array into a single string with a specified delimiter.\n"
   ]
  },
  {
   "cell_type": "markdown",
   "id": "aeda831a",
   "metadata": {},
   "source": [
    "## Applying String Formatting to an Array\n",
    "228. Apply string formatting using `np.char.format()` to create a consistent structure across an array of strings."
   ]
  },
  {
   "cell_type": "code",
   "execution_count": null,
   "id": "3a1c0ce2",
   "metadata": {},
   "outputs": [],
   "source": [
    "#228. Apply string formatting using `np.char.format()` to create a consistent structure across an array of strings.\n"
   ]
  },
  {
   "cell_type": "markdown",
   "id": "4498f85a",
   "metadata": {},
   "source": [
    "## Check String Properties\n",
    "229. Use functions like `np.char.isalnum()`, `np.char.isdigit()`, `np.char.isupper()`, etc., to check different properties of strings."
   ]
  },
  {
   "cell_type": "code",
   "execution_count": null,
   "id": "d671346a",
   "metadata": {},
   "outputs": [],
   "source": [
    "#229. Use functions like `np.char.isalnum()`, `np.char.isdigit()`, `np.char.isupper()`, etc., to check different properties of strings.\n"
   ]
  },
  {
   "cell_type": "markdown",
   "id": "341950f7",
   "metadata": {},
   "source": [
    "## Element-wise String Replacement\n",
    "230. Replace specific substrings within an array of strings using `np.char.replace()` for string manipulation."
   ]
  },
  {
   "cell_type": "code",
   "execution_count": null,
   "id": "abf9f78e",
   "metadata": {},
   "outputs": [],
   "source": [
    "#230. Replace specific substrings within an array of strings using `np.char.replace()` for string manipulation.\n"
   ]
  },
  {
   "cell_type": "markdown",
   "id": "7cbf1caa",
   "metadata": {},
   "source": [
    "## Create and View Byte Arrays\n",
    "231. Create an array of bytes using `np.array()` and perform basic slicing and indexing on the byte array."
   ]
  },
  {
   "cell_type": "code",
   "execution_count": null,
   "id": "302ed311",
   "metadata": {},
   "outputs": [],
   "source": [
    "#231. Create an array of bytes using `np.array()` and perform basic slicing and indexing on the byte array.\n"
   ]
  },
  {
   "cell_type": "markdown",
   "id": "3b018541",
   "metadata": {},
   "source": [
    "## Working with Raw Binary Data\n",
    "232. Read raw binary data into a NumPy array and manipulate the bytes directly, like extracting or modifying specific byte values."
   ]
  },
  {
   "cell_type": "code",
   "execution_count": null,
   "id": "6ee850d9",
   "metadata": {},
   "outputs": [],
   "source": [
    "#232. Read raw binary data into a NumPy array and manipulate the bytes directly, like extracting or modifying specific byte values.\n"
   ]
  },
  {
   "cell_type": "markdown",
   "id": "86e3312e",
   "metadata": {},
   "source": [
    "## Decoding Byte Arrays to Strings\n",
    "233. Decode a byte array to a string using `.decode()` and examine the decoded result."
   ]
  },
  {
   "cell_type": "code",
   "execution_count": null,
   "id": "2bb4421c",
   "metadata": {},
   "outputs": [],
   "source": [
    "#233. Decode a byte array to a string using `.decode()` and examine the decoded result.\n"
   ]
  },
  {
   "cell_type": "markdown",
   "id": "f07d9346",
   "metadata": {},
   "source": [
    "## Encoding Strings into Bytes\n",
    "234. Convert strings into byte arrays by using the `.encode()` method and experiment with different encodings like UTF-8 or ASCII."
   ]
  },
  {
   "cell_type": "code",
   "execution_count": null,
   "id": "bf845cbd",
   "metadata": {},
   "outputs": [],
   "source": [
    "#234. Convert strings into byte arrays by using the `.encode()` method and experiment with different encodings like UTF-8 or ASCII.\n"
   ]
  },
  {
   "cell_type": "markdown",
   "id": "f056609d",
   "metadata": {},
   "source": [
    "## Handling Different Byte Sizes\n",
    "235. Experiment with creating and manipulating byte arrays of different sizes, including adjusting array dimensions and reshaping."
   ]
  },
  {
   "cell_type": "code",
   "execution_count": null,
   "id": "8f7a722e",
   "metadata": {},
   "outputs": [],
   "source": [
    "#235. Experiment with creating and manipulating byte arrays of different sizes, including adjusting array dimensions and reshaping.\n"
   ]
  },
  {
   "cell_type": "markdown",
   "id": "90480252",
   "metadata": {},
   "source": [
    "## Converting Between String and Byte Arrays\n",
    "236. Convert an array of strings to bytes using `.encode()` and vice versa using `.decode()`. Test the results."
   ]
  },
  {
   "cell_type": "code",
   "execution_count": null,
   "id": "f3306b44",
   "metadata": {},
   "outputs": [],
   "source": [
    "#236. Convert an array of strings to bytes using `.encode()` and vice versa using `.decode()`. Test the results.\n"
   ]
  },
  {
   "cell_type": "markdown",
   "id": "2fa31184",
   "metadata": {},
   "source": [
    "## Efficiently Handling Byte Strings\n",
    "237. Create arrays of byte strings using `np.array()` and perform operations like slicing and converting them back to strings."
   ]
  },
  {
   "cell_type": "code",
   "execution_count": null,
   "id": "859833a6",
   "metadata": {},
   "outputs": [],
   "source": [
    "#237. Create arrays of byte strings using `np.array()` and perform operations like slicing and converting them back to strings.\n"
   ]
  },
  {
   "cell_type": "markdown",
   "id": "05a0624b",
   "metadata": {},
   "source": [
    "## Unicode and ASCII String Handling\n",
    "238. Create a Unicode array and an ASCII array, and perform comparisons or operations like concatenation."
   ]
  },
  {
   "cell_type": "code",
   "execution_count": null,
   "id": "29d4efcd",
   "metadata": {},
   "outputs": [],
   "source": [
    "#238. Create a Unicode array and an ASCII array, and perform comparisons or operations like concatenation.\n"
   ]
  },
  {
   "cell_type": "markdown",
   "id": "33a3fa73",
   "metadata": {},
   "source": [
    "## Array with Mixed Byte Types\n",
    "239. Create an array with both byte and string data types and perform operations such as indexing and concatenation."
   ]
  },
  {
   "cell_type": "code",
   "execution_count": null,
   "id": "35dcf819",
   "metadata": {},
   "outputs": [],
   "source": [
    "#239. Create an array with both byte and string data types and perform operations such as indexing and concatenation.\n"
   ]
  },
  {
   "cell_type": "markdown",
   "id": "233e23ab",
   "metadata": {},
   "source": [
    "## Working with Fixed-Length Byte Arrays\n",
    "240. Create a fixed-length byte array with a specified size and perform byte-level operations such as slicing or altering content."
   ]
  },
  {
   "cell_type": "code",
   "execution_count": null,
   "id": "b585086d",
   "metadata": {},
   "outputs": [],
   "source": [
    "#240. Create a fixed-length byte array with a specified size and perform byte-level operations such as slicing or altering content.\n"
   ]
  },
  {
   "cell_type": "markdown",
   "id": "68f16ab6",
   "metadata": {},
   "source": [
    "## Mixed-Type Arrays of Strings and Numbers\n",
    "241. Create an array with mixed types (e.g., strings and numbers) and perform operations like concatenation and mathematical computations."
   ]
  },
  {
   "cell_type": "code",
   "execution_count": null,
   "id": "dda86cb8",
   "metadata": {},
   "outputs": [],
   "source": [
    "#241. Create an array with mixed types (e.g., strings and numbers) and perform operations like concatenation and mathematical computations.\n"
   ]
  },
  {
   "cell_type": "markdown",
   "id": "bc905bdc",
   "metadata": {},
   "source": [
    "## Handling Null Bytes in Arrays\n",
    "242. Create an array with null byte elements and handle operations like searching for null bytes and replacing them."
   ]
  },
  {
   "cell_type": "code",
   "execution_count": null,
   "id": "bcfd54d1",
   "metadata": {},
   "outputs": [],
   "source": [
    "#242. Create an array with null byte elements and handle operations like searching for null bytes and replacing them.\n"
   ]
  },
  {
   "cell_type": "markdown",
   "id": "8960edfd",
   "metadata": {},
   "source": [
    "## Operations on Structured Arrays\n",
    "243. Use structured arrays to combine text and numeric data, and access fields by name or index."
   ]
  },
  {
   "cell_type": "code",
   "execution_count": null,
   "id": "e76f55dd",
   "metadata": {},
   "outputs": [],
   "source": [
    "#243. Use structured arrays to combine text and numeric data, and access fields by name or index.\n"
   ]
  },
  {
   "cell_type": "markdown",
   "id": "1b9d3a4f",
   "metadata": {},
   "source": [
    "## Handling Special Characters in Strings\n",
    "244. Create an array with strings containing special characters (e.g., newline, tab, or escape sequences) and handle them correctly."
   ]
  },
  {
   "cell_type": "code",
   "execution_count": null,
   "id": "324e778a",
   "metadata": {},
   "outputs": [],
   "source": [
    "#244. Create an array with strings containing special characters (e.g., newline, tab, or escape sequences) and handle them correctly.\n"
   ]
  },
  {
   "cell_type": "markdown",
   "id": "fb8cc0a2",
   "metadata": {},
   "source": [
    "## Array Operations with String-Specific Functions\n",
    "245. Use string-specific functions like `np.char.lower()`, `np.char.upper()` and `np.char.title()` to manipulate text data arrays."
   ]
  },
  {
   "cell_type": "code",
   "execution_count": null,
   "id": "26e7720c",
   "metadata": {},
   "outputs": [],
   "source": [
    "#245. Use string-specific functions like `np.char.lower()`, `np.char.upper()` and `np.char.title()` to manipulate text data arrays.\n"
   ]
  },
  {
   "cell_type": "markdown",
   "id": "feae37b6",
   "metadata": {},
   "source": [
    "## Manipulating String Arrays with Vectorized Functions\n",
    "246. Use vectorized string functions from `np.char` to apply changes to each element in a string array without explicit loops."
   ]
  },
  {
   "cell_type": "code",
   "execution_count": null,
   "id": "a0d4cbda",
   "metadata": {},
   "outputs": [],
   "source": [
    "#246. Use vectorized string functions from `np.char` to apply changes to each element in a string array without explicit loops.\n"
   ]
  },
  {
   "cell_type": "markdown",
   "id": "48a4dde6",
   "metadata": {},
   "source": [
    "## String Array Comparison\n",
    "247. Compare two arrays of strings element-wise using functions like `np.char.equal()` and `np.char.neq()` to check for equality and differences."
   ]
  },
  {
   "cell_type": "code",
   "execution_count": null,
   "id": "759e8383",
   "metadata": {},
   "outputs": [],
   "source": [
    "#247. Compare two arrays of strings element-wise using functions like `np.char.equal()` and `np.char.neq()` to check for equality and differences.\n"
   ]
  },
  {
   "cell_type": "markdown",
   "id": "ba3ffdbd",
   "metadata": {},
   "source": [
    "## Manipulating Byte Array Elements\n",
    "248. Perform element-wise operations on byte arrays, like slicing, replacement, or conversion to and from strings."
   ]
  },
  {
   "cell_type": "code",
   "execution_count": null,
   "id": "5189e672",
   "metadata": {},
   "outputs": [],
   "source": [
    "#248. Perform element-wise operations on byte arrays, like slicing, replacement, or conversion to and from strings.\n"
   ]
  },
  {
   "cell_type": "markdown",
   "id": "cc7a592c",
   "metadata": {},
   "source": [
    "## Counting Byte Occurrences\n",
    "249. Use `np.char.count()` to count the occurrences of a byte value or substring in a byte array."
   ]
  },
  {
   "cell_type": "code",
   "execution_count": null,
   "id": "e5c865a1",
   "metadata": {},
   "outputs": [],
   "source": [
    "#249. Use `np.char.count()` to count the occurrences of a byte value or substring in a byte array.\n"
   ]
  },
  {
   "cell_type": "markdown",
   "id": "ab10ea72",
   "metadata": {},
   "source": [
    "## Extracting Specific Bytes\n",
    "250. Extract specific byte values from a byte array by using slicing and indexing methods."
   ]
  },
  {
   "cell_type": "code",
   "execution_count": null,
   "id": "9c2071cd",
   "metadata": {},
   "outputs": [],
   "source": [
    "#250. Extract specific byte values from a byte array by using slicing and indexing methods.\n"
   ]
  },
  {
   "cell_type": "markdown",
   "id": "9cdf796f",
   "metadata": {},
   "source": [
    "## Creating Arrays with Fixed Byte Size\n",
    "251. Create an array of fixed-size byte strings and perform manipulations like checking lengths or comparing them."
   ]
  },
  {
   "cell_type": "code",
   "execution_count": null,
   "id": "441bdcd9",
   "metadata": {},
   "outputs": [],
   "source": [
    "#251. Create an array of fixed-size byte strings and perform manipulations like checking lengths or comparing them.\n"
   ]
  },
  {
   "cell_type": "markdown",
   "id": "3f6b72e9",
   "metadata": {},
   "source": [
    "## Handling Text and Binary Data in One Array\n",
    "252. Create a NumPy array that holds both text and binary data, and manipulate them appropriately."
   ]
  },
  {
   "cell_type": "code",
   "execution_count": null,
   "id": "51dc8171",
   "metadata": {},
   "outputs": [],
   "source": [
    "#252. Create a NumPy array that holds both text and binary data, and manipulate them appropriately.\n"
   ]
  },
  {
   "cell_type": "markdown",
   "id": "97752509",
   "metadata": {},
   "source": [
    "## Multi-field String Operations\n",
    "253. Create a structured array with multiple string fields and perform operations like splitting or joining across fields."
   ]
  },
  {
   "cell_type": "code",
   "execution_count": null,
   "id": "92da8600",
   "metadata": {},
   "outputs": [],
   "source": [
    "#253. Create a structured array with multiple string fields and perform operations like splitting or joining across fields.\n"
   ]
  },
  {
   "cell_type": "markdown",
   "id": "cf6a2f01",
   "metadata": {},
   "source": [
    "## Replacing Text in Structured Arrays\n",
    "254. Create a structured array with string fields and use `np.char.replace()` to replace text in specific fields."
   ]
  },
  {
   "cell_type": "code",
   "execution_count": null,
   "id": "d7541547",
   "metadata": {},
   "outputs": [],
   "source": [
    "#254. Create a structured array with string fields and use `np.char.replace()` to replace text in specific fields.\n"
   ]
  },
  {
   "cell_type": "markdown",
   "id": "50e6736c",
   "metadata": {},
   "source": [
    "## Concatenating Multiple Fields\n",
    "255. Concatenate fields from structured arrays containing text data using `np.char.add()` and observe how the fields combine."
   ]
  },
  {
   "cell_type": "code",
   "execution_count": null,
   "id": "8d051073",
   "metadata": {},
   "outputs": [],
   "source": [
    "#255. Concatenate fields from structured arrays containing text data using `np.char.add()` and observe how the fields combine.\n"
   ]
  },
  {
   "cell_type": "markdown",
   "id": "9cbf3b62",
   "metadata": {},
   "source": [
    "## Text Manipulation in Structured Data\n",
    "256. Manipulate text fields within structured arrays, such as extracting parts of text using `np.char.split()` and `np.char.find()`."
   ]
  },
  {
   "cell_type": "code",
   "execution_count": null,
   "id": "d0cc3bbc",
   "metadata": {},
   "outputs": [],
   "source": [
    "#256. Manipulate text fields within structured arrays, such as extracting parts of text using `np.char.split()` and `np.char.find()`.\n"
   ]
  },
  {
   "cell_type": "markdown",
   "id": "09e242d7",
   "metadata": {},
   "source": [
    "## Joining Structured Array Fields\n",
    "257. Join string fields from structured arrays using `np.char.join()` and verify the resulting concatenated strings."
   ]
  },
  {
   "cell_type": "code",
   "execution_count": null,
   "id": "5c8fb63e",
   "metadata": {},
   "outputs": [],
   "source": [
    "#257. Join string fields from structured arrays using `np.char.join()` and verify the resulting concatenated strings.\n"
   ]
  },
  {
   "cell_type": "markdown",
   "id": "147e16e6",
   "metadata": {},
   "source": [
    "## Structured data\n",
    "258. .."
   ]
  },
  {
   "cell_type": "code",
   "execution_count": null,
   "id": "48283d3e",
   "metadata": {},
   "outputs": [],
   "source": [
    "#258. ..\n"
   ]
  },
  {
   "cell_type": "markdown",
   "id": "4e6959c6",
   "metadata": {},
   "source": [
    "## Structured Data Types Introduction\n",
    "259. Understand what structured data types are in NumPy and how they can be used to represent heterogeneous data."
   ]
  },
  {
   "cell_type": "code",
   "execution_count": null,
   "id": "dd22452e",
   "metadata": {},
   "outputs": [],
   "source": [
    "#259. Understand what structured data types are in NumPy and how they can be used to represent heterogeneous data.\n"
   ]
  },
  {
   "cell_type": "markdown",
   "id": "9efe8f14",
   "metadata": {},
   "source": [
    "## Creating a Structured Data Type\n",
    "260. Create a NumPy structured array with different fields (e.g., integers, floats, and strings) using `np.dtype()`."
   ]
  },
  {
   "cell_type": "code",
   "execution_count": null,
   "id": "b4088da4",
   "metadata": {},
   "outputs": [],
   "source": [
    "#260. Create a NumPy structured array with different fields (e.g., integers, floats, and strings) using `np.dtype()`.\n"
   ]
  },
  {
   "cell_type": "markdown",
   "id": "21d02926",
   "metadata": {},
   "source": [
    "## Defining Structured Data Types with Named Fields\n",
    "261. Define structured arrays with multiple named fields and specify their types using `np.dtype()` for each field."
   ]
  },
  {
   "cell_type": "code",
   "execution_count": null,
   "id": "351ec807",
   "metadata": {},
   "outputs": [],
   "source": [
    "#261. Define structured arrays with multiple named fields and specify their types using `np.dtype()` for each field.\n"
   ]
  },
  {
   "cell_type": "markdown",
   "id": "20eabdd1",
   "metadata": {},
   "source": [
    "## Defining Complex Structured Data Types\n",
    "262. Create a structured array that holds multiple nested structures, like arrays of structured fields, using `np.dtype()`."
   ]
  },
  {
   "cell_type": "code",
   "execution_count": null,
   "id": "5afafb7d",
   "metadata": {},
   "outputs": [],
   "source": [
    "#262. Create a structured array that holds multiple nested structures, like arrays of structured fields, using `np.dtype()`.\n"
   ]
  },
  {
   "cell_type": "markdown",
   "id": "f55054a5",
   "metadata": {},
   "source": [
    "## Accessing Data in Structured Arrays\n",
    "263. Access specific fields within a structured array by field name or index."
   ]
  },
  {
   "cell_type": "code",
   "execution_count": null,
   "id": "a7a495a8",
   "metadata": {},
   "outputs": [],
   "source": [
    "#263. Access specific fields within a structured array by field name or index.\n"
   ]
  },
  {
   "cell_type": "markdown",
   "id": "5a9687e8",
   "metadata": {},
   "source": [
    "## Displaying a Structured Array\n",
    "264. Display the contents of a structured array and examine how NumPy presents structured data."
   ]
  },
  {
   "cell_type": "code",
   "execution_count": null,
   "id": "948fe23b",
   "metadata": {},
   "outputs": [],
   "source": [
    "#264. Display the contents of a structured array and examine how NumPy presents structured data.\n"
   ]
  },
  {
   "cell_type": "markdown",
   "id": "be201b18",
   "metadata": {},
   "source": [
    "## Modifying Fields in a Structured Array\n",
    "265. Modify a field within a structured array, either by field name or index, and view the changes."
   ]
  },
  {
   "cell_type": "code",
   "execution_count": null,
   "id": "f4eb4734",
   "metadata": {},
   "outputs": [],
   "source": [
    "#265. Modify a field within a structured array, either by field name or index, and view the changes.\n"
   ]
  },
  {
   "cell_type": "markdown",
   "id": "8d36f424",
   "metadata": {},
   "source": [
    "## Byte Offsets in Structured Arrays\n",
    "266. Understand and experiment with byte offsets in structured arrays by inspecting the structure's memory layout."
   ]
  },
  {
   "cell_type": "code",
   "execution_count": null,
   "id": "2733fc9a",
   "metadata": {},
   "outputs": [],
   "source": [
    "#266. Understand and experiment with byte offsets in structured arrays by inspecting the structure's memory layout.\n"
   ]
  },
  {
   "cell_type": "markdown",
   "id": "de319af3",
   "metadata": {},
   "source": [
    "## Controlling Data Alignment in Structured Arrays\n",
    "267. Create a structured array with different data types and observe how NumPy aligns data based on byte offsets."
   ]
  },
  {
   "cell_type": "code",
   "execution_count": null,
   "id": "97b9e637",
   "metadata": {},
   "outputs": [],
   "source": [
    "#267. Create a structured array with different data types and observe how NumPy aligns data based on byte offsets.\n"
   ]
  },
  {
   "cell_type": "markdown",
   "id": "1446d338",
   "metadata": {},
   "source": [
    "## Setting and Accessing Field Titles\n",
    "268. Create a structured array and access fields by their names or titles."
   ]
  },
  {
   "cell_type": "code",
   "execution_count": null,
   "id": "950cf0d5",
   "metadata": {},
   "outputs": [],
   "source": [
    "#268. Create a structured array and access fields by their names or titles.\n"
   ]
  },
  {
   "cell_type": "markdown",
   "id": "9a80a70d",
   "metadata": {},
   "source": [
    "## Changing Field Titles\n",
    "269. Change the titles of the fields in a structured array and see how it affects indexing and access."
   ]
  },
  {
   "cell_type": "code",
   "execution_count": null,
   "id": "8191daa0",
   "metadata": {},
   "outputs": [],
   "source": [
    "#269. Change the titles of the fields in a structured array and see how it affects indexing and access.\n"
   ]
  },
  {
   "cell_type": "markdown",
   "id": "960f2eb6",
   "metadata": {},
   "source": [
    "## Working with Union Types in Structured Arrays\n",
    "270. Define and create structured arrays with union types, and access their fields."
   ]
  },
  {
   "cell_type": "code",
   "execution_count": null,
   "id": "b1cd176c",
   "metadata": {},
   "outputs": [],
   "source": [
    "#270. Define and create structured arrays with union types, and access their fields.\n"
   ]
  },
  {
   "cell_type": "markdown",
   "id": "b408b901",
   "metadata": {},
   "source": [
    "## Accessing Union Fields\n",
    "271. Access and modify fields in a structured array that uses union types."
   ]
  },
  {
   "cell_type": "code",
   "execution_count": null,
   "id": "2ad36c59",
   "metadata": {},
   "outputs": [],
   "source": [
    "#271. Access and modify fields in a structured array that uses union types.\n"
   ]
  },
  {
   "cell_type": "markdown",
   "id": "665f7c0c",
   "metadata": {},
   "source": [
    "## Assigning Data from Tuples\n",
    "272. Assign data from a tuple to a structured array with the same field names and data types."
   ]
  },
  {
   "cell_type": "code",
   "execution_count": null,
   "id": "d1177c24",
   "metadata": {},
   "outputs": [],
   "source": [
    "#272. Assign data from a tuple to a structured array with the same field names and data types.\n"
   ]
  },
  {
   "cell_type": "markdown",
   "id": "fb8874df",
   "metadata": {},
   "source": [
    "## Assigning Data from Scalars\n",
    "273. Assign scalar values to structured arrays and see how they get assigned to individual fields."
   ]
  },
  {
   "cell_type": "code",
   "execution_count": null,
   "id": "8b2e1f60",
   "metadata": {},
   "outputs": [],
   "source": [
    "#273. Assign scalar values to structured arrays and see how they get assigned to individual fields.\n"
   ]
  },
  {
   "cell_type": "markdown",
   "id": "71170ab5",
   "metadata": {},
   "source": [
    "## Assigning Data from Other Structured Arrays\n",
    "274. Copy data from one structured array to another, ensuring compatibility of field names and types."
   ]
  },
  {
   "cell_type": "code",
   "execution_count": null,
   "id": "024dd294",
   "metadata": {},
   "outputs": [],
   "source": [
    "#274. Copy data from one structured array to another, ensuring compatibility of field names and types.\n"
   ]
  },
  {
   "cell_type": "markdown",
   "id": "8b0513c3",
   "metadata": {},
   "source": [
    "## Assigning Data from Subarrays\n",
    "275. Assign subarrays to fields in structured arrays and modify specific elements in those subarrays."
   ]
  },
  {
   "cell_type": "code",
   "execution_count": null,
   "id": "2f31b3aa",
   "metadata": {},
   "outputs": [],
   "source": [
    "#275. Assign subarrays to fields in structured arrays and modify specific elements in those subarrays.\n"
   ]
  },
  {
   "cell_type": "markdown",
   "id": "cafde52d",
   "metadata": {},
   "source": [
    "## Accessing Individual Fields by Name\n",
    "276. Access a specific field by its name in a structured array and retrieve its data."
   ]
  },
  {
   "cell_type": "code",
   "execution_count": null,
   "id": "fc4c5017",
   "metadata": {},
   "outputs": [],
   "source": [
    "#276. Access a specific field by its name in a structured array and retrieve its data.\n"
   ]
  },
  {
   "cell_type": "markdown",
   "id": "91927c95",
   "metadata": {},
   "source": [
    "## Accessing Multiple Fields at Once\n",
    "277. Access multiple fields of a structured array using a list of field names."
   ]
  },
  {
   "cell_type": "code",
   "execution_count": null,
   "id": "d0a37748",
   "metadata": {},
   "outputs": [],
   "source": [
    "#277. Access multiple fields of a structured array using a list of field names.\n"
   ]
  },
  {
   "cell_type": "markdown",
   "id": "a656ecb8",
   "metadata": {},
   "source": [
    "## Indexing with Integer to Get a Structured Scalar\n",
    "278. Use integer indexing to extract individual structured scalars from a structured array."
   ]
  },
  {
   "cell_type": "code",
   "execution_count": null,
   "id": "98124e71",
   "metadata": {},
   "outputs": [],
   "source": [
    "#278. Use integer indexing to extract individual structured scalars from a structured array.\n"
   ]
  },
  {
   "cell_type": "markdown",
   "id": "f3188a28",
   "metadata": {},
   "source": [
    "## Viewing Structured Arrays with Object Data\n",
    "279. Create and manipulate structured arrays containing objects as one of the fields, and view the data."
   ]
  },
  {
   "cell_type": "code",
   "execution_count": null,
   "id": "0a1013e0",
   "metadata": {},
   "outputs": [],
   "source": [
    "#279. Create and manipulate structured arrays containing objects as one of the fields, and view the data.\n"
   ]
  },
  {
   "cell_type": "markdown",
   "id": "269c8ce6",
   "metadata": {},
   "source": [
    "## Accessing Object Fields in Structured Arrays\n",
    "280. Access fields of structured arrays that contain objects and modify the object data."
   ]
  },
  {
   "cell_type": "code",
   "execution_count": null,
   "id": "9fb7d3f6",
   "metadata": {},
   "outputs": [],
   "source": [
    "#280. Access fields of structured arrays that contain objects and modify the object data.\n"
   ]
  },
  {
   "cell_type": "markdown",
   "id": "8c25860f",
   "metadata": {},
   "source": [
    "## Comparing Structured Arrays\n",
    "281. Compare two structured arrays for equality by checking field-by-field using `==` or `np.allclose()` for numerical fields."
   ]
  },
  {
   "cell_type": "code",
   "execution_count": null,
   "id": "7a482848",
   "metadata": {},
   "outputs": [],
   "source": [
    "#281. Compare two structured arrays for equality by checking field-by-field using `==` or `np.allclose()` for numerical fields.\n"
   ]
  },
  {
   "cell_type": "markdown",
   "id": "300cae6b",
   "metadata": {},
   "source": [
    "## Structure Promotion in NumPy\n",
    "282. Understand how NumPy promotes structured arrays to a higher precision or a more complex data type when combining them."
   ]
  },
  {
   "cell_type": "code",
   "execution_count": null,
   "id": "965f9dab",
   "metadata": {},
   "outputs": [],
   "source": [
    "#282. Understand how NumPy promotes structured arrays to a higher precision or a more complex data type when combining them.\n"
   ]
  },
  {
   "cell_type": "markdown",
   "id": "cbfd0711",
   "metadata": {},
   "source": [
    "## Working with Record Arrays\n",
    "283. Create record arrays using `np.recarray()` and access fields as attributes instead of dictionary keys."
   ]
  },
  {
   "cell_type": "code",
   "execution_count": null,
   "id": "d7baa464",
   "metadata": {},
   "outputs": [],
   "source": [
    "#283. Create record arrays using `np.recarray()` and access fields as attributes instead of dictionary keys.\n"
   ]
  },
  {
   "cell_type": "markdown",
   "id": "c6bba7e7",
   "metadata": {},
   "source": [
    "## Manipulating Record Arrays\n",
    "284. Manipulate record arrays and observe how accessing fields via attributes differs from structured arrays."
   ]
  },
  {
   "cell_type": "code",
   "execution_count": null,
   "id": "df43bd6f",
   "metadata": {},
   "outputs": [],
   "source": [
    "#284. Manipulate record arrays and observe how accessing fields via attributes differs from structured arrays.\n"
   ]
  },
  {
   "cell_type": "markdown",
   "id": "5aca8aaf",
   "metadata": {},
   "source": [
    "## Accessing Record Array Fields\n",
    "285. Access and modify fields in a record array using attribute syntax."
   ]
  },
  {
   "cell_type": "code",
   "execution_count": null,
   "id": "c1f478b3",
   "metadata": {},
   "outputs": [],
   "source": [
    "#285. Access and modify fields in a record array using attribute syntax.\n"
   ]
  },
  {
   "cell_type": "markdown",
   "id": "b1bb305c",
   "metadata": {},
   "source": [
    "## Record Array Performance\n",
    "286. Understand the performance implications of using record arrays versus structured arrays and experiment with different methods of accessing data."
   ]
  },
  {
   "cell_type": "code",
   "execution_count": null,
   "id": "2eae1c10",
   "metadata": {},
   "outputs": [],
   "source": [
    "#286. Understand the performance implications of using record arrays versus structured arrays and experiment with different methods of accessing data.\n"
   ]
  },
  {
   "cell_type": "markdown",
   "id": "4f1b897e",
   "metadata": {},
   "source": [
    "## #ufunc\n",
    "287. .."
   ]
  },
  {
   "cell_type": "code",
   "execution_count": null,
   "id": "7724fff0",
   "metadata": {},
   "outputs": [],
   "source": [
    "#287. ..\n"
   ]
  },
  {
   "cell_type": "markdown",
   "id": "5c470721",
   "metadata": {},
   "source": [
    "## Creating a Universal Function (ufunc)\n",
    "288. Create a simple universal function (ufunc) with NumPy that performs element-wise operations on arrays."
   ]
  },
  {
   "cell_type": "code",
   "execution_count": null,
   "id": "e2008696",
   "metadata": {},
   "outputs": [],
   "source": [
    "#288. Create a simple universal function (ufunc) with NumPy that performs element-wise operations on arrays.\n"
   ]
  },
  {
   "cell_type": "markdown",
   "id": "4e81a2d0",
   "metadata": {},
   "source": [
    "## Using NumPy's Built-in Ufuncs\n",
    "289. Use built-in ufuncs like `np.add()`, `np.multiply()`, and `np.sin()` to perform operations on NumPy arrays."
   ]
  },
  {
   "cell_type": "code",
   "execution_count": null,
   "id": "42661406",
   "metadata": {},
   "outputs": [],
   "source": [
    "#289. Use built-in ufuncs like `np.add()`, `np.multiply()`, and `np.sin()` to perform operations on NumPy arrays.\n"
   ]
  },
  {
   "cell_type": "markdown",
   "id": "ff40c555",
   "metadata": {},
   "source": [
    "## Apply Ufunc to Arrays\n",
    "290. Apply a universal function to arrays to perform element-wise operations such as addition, multiplication, or trigonometric functions."
   ]
  },
  {
   "cell_type": "code",
   "execution_count": null,
   "id": "e2383cec",
   "metadata": {},
   "outputs": [],
   "source": [
    "#290. Apply a universal function to arrays to perform element-wise operations such as addition, multiplication, or trigonometric functions.\n"
   ]
  },
  {
   "cell_type": "markdown",
   "id": "6bcda786",
   "metadata": {},
   "source": [
    "## Ufunc with Scalar Inputs\n",
    "291. Apply a ufunc to both a scalar and an array to observe the behavior and output of element-wise operations."
   ]
  },
  {
   "cell_type": "code",
   "execution_count": null,
   "id": "f7fb40d7",
   "metadata": {},
   "outputs": [],
   "source": [
    "#291. Apply a ufunc to both a scalar and an array to observe the behavior and output of element-wise operations.\n"
   ]
  },
  {
   "cell_type": "markdown",
   "id": "77701242",
   "metadata": {},
   "source": [
    "## Using `np.vectorize` for Custom Ufuncs\n",
    "292. Create a custom universal function using `np.vectorize()` and apply it to arrays to perform element-wise operations."
   ]
  },
  {
   "cell_type": "code",
   "execution_count": null,
   "id": "fe19875c",
   "metadata": {},
   "outputs": [],
   "source": [
    "#292. Create a custom universal function using `np.vectorize()` and apply it to arrays to perform element-wise operations.\n"
   ]
  },
  {
   "cell_type": "markdown",
   "id": "cd3759e8",
   "metadata": {},
   "source": [
    "## Determining Output Type of a Ufunc\n",
    "293. Determine the output type of a ufunc operation using the `.dtype` attribute after performing an operation."
   ]
  },
  {
   "cell_type": "code",
   "execution_count": null,
   "id": "3769e1ba",
   "metadata": {},
   "outputs": [],
   "source": [
    "#293. Determine the output type of a ufunc operation using the `.dtype` attribute after performing an operation.\n"
   ]
  },
  {
   "cell_type": "markdown",
   "id": "2bab79df",
   "metadata": {},
   "source": [
    "## Setting Output Type Explicitly\n",
    "294. Set the output type explicitly using the `dtype` argument in a ufunc to control the precision or type of the result."
   ]
  },
  {
   "cell_type": "code",
   "execution_count": null,
   "id": "09c66c80",
   "metadata": {},
   "outputs": [],
   "source": [
    "#294. Set the output type explicitly using the `dtype` argument in a ufunc to control the precision or type of the result.\n"
   ]
  },
  {
   "cell_type": "markdown",
   "id": "2615205e",
   "metadata": {},
   "source": [
    "## Checking Output Type for Mixed Data Types\n",
    "295. Perform a ufunc operation on arrays with mixed data types and observe how NumPy determines the output type."
   ]
  },
  {
   "cell_type": "code",
   "execution_count": null,
   "id": "bf9aec7b",
   "metadata": {},
   "outputs": [],
   "source": [
    "#295. Perform a ufunc operation on arrays with mixed data types and observe how NumPy determines the output type.\n"
   ]
  },
  {
   "cell_type": "markdown",
   "id": "e945b726",
   "metadata": {},
   "source": [
    "## Output Type for Operations Between Integers and Floats\n",
    "296. Perform operations between integer and float arrays and observe how NumPy handles type promotion for the output."
   ]
  },
  {
   "cell_type": "code",
   "execution_count": null,
   "id": "e4e6c973",
   "metadata": {},
   "outputs": [],
   "source": [
    "#296. Perform operations between integer and float arrays and observe how NumPy handles type promotion for the output.\n"
   ]
  },
  {
   "cell_type": "markdown",
   "id": "f408c554",
   "metadata": {},
   "source": [
    "## Controlling Output Type in Complex Operations\n",
    "297. Perform complex operations on arrays with different data types and set the output type to control precision and behavior."
   ]
  },
  {
   "cell_type": "code",
   "execution_count": null,
   "id": "6a718b6f",
   "metadata": {},
   "outputs": [],
   "source": [
    "#297. Perform complex operations on arrays with different data types and set the output type to control precision and behavior.\n"
   ]
  },
  {
   "cell_type": "markdown",
   "id": "e8cf5fcf",
   "metadata": {},
   "source": [
    "## Understanding Broadcasting Rules\n",
    "298. Create two arrays of different shapes and perform operations between them to observe how NumPy broadcasts arrays to compatible shapes."
   ]
  },
  {
   "cell_type": "code",
   "execution_count": null,
   "id": "d4a4fe6f",
   "metadata": {},
   "outputs": [],
   "source": [
    "#298. Create two arrays of different shapes and perform operations between them to observe how NumPy broadcasts arrays to compatible shapes.\n"
   ]
  },
  {
   "cell_type": "markdown",
   "id": "d4e2fabf",
   "metadata": {},
   "source": [
    "## Broadcasting with 1D and 2D Arrays\n",
    "299. Perform a ufunc operation between a 1D array and a 2D array to observe how broadcasting automatically adjusts the shapes."
   ]
  },
  {
   "cell_type": "code",
   "execution_count": null,
   "id": "1cc31699",
   "metadata": {},
   "outputs": [],
   "source": [
    "#299. Perform a ufunc operation between a 1D array and a 2D array to observe how broadcasting automatically adjusts the shapes.\n"
   ]
  },
  {
   "cell_type": "markdown",
   "id": "f6336ffc",
   "metadata": {},
   "source": [
    "## Broadcasting with Higher-Dimensional Arrays\n",
    "300. Use broadcasting to apply element-wise operations on arrays of different dimensions, such as 3D and 2D arrays."
   ]
  },
  {
   "cell_type": "code",
   "execution_count": null,
   "id": "b8642c53",
   "metadata": {},
   "outputs": [],
   "source": [
    "#300. Use broadcasting to apply element-wise operations on arrays of different dimensions, such as 3D and 2D arrays.\n"
   ]
  },
  {
   "cell_type": "markdown",
   "id": "f00fb7ce",
   "metadata": {},
   "source": [
    "## Broadcasting with Scalars\n",
    "301. Apply a ufunc between a scalar and an array, and observe how the scalar is broadcast to the shape of the array."
   ]
  },
  {
   "cell_type": "code",
   "execution_count": null,
   "id": "824fb783",
   "metadata": {},
   "outputs": [],
   "source": [
    "#301. Apply a ufunc between a scalar and an array, and observe how the scalar is broadcast to the shape of the array.\n"
   ]
  },
  {
   "cell_type": "markdown",
   "id": "85d42d2d",
   "metadata": {},
   "source": [
    "## Handling Broadcasting with Mismatched Shapes\n",
    "302. Create arrays with incompatible shapes and attempt broadcasting to see how NumPy raises an error or adjusts shapes."
   ]
  },
  {
   "cell_type": "code",
   "execution_count": null,
   "id": "bd3dc17d",
   "metadata": {},
   "outputs": [],
   "source": [
    "#302. Create arrays with incompatible shapes and attempt broadcasting to see how NumPy raises an error or adjusts shapes.\n"
   ]
  },
  {
   "cell_type": "markdown",
   "id": "462abb8a",
   "metadata": {},
   "source": [
    "## Understanding Type Promotion in Ufuncs\n",
    "303. Apply operations on arrays with different types (int, float, complex) and observe how NumPy promotes the data type."
   ]
  },
  {
   "cell_type": "code",
   "execution_count": null,
   "id": "175be9ef",
   "metadata": {},
   "outputs": [],
   "source": [
    "#303. Apply operations on arrays with different types (int, float, complex) and observe how NumPy promotes the data type.\n"
   ]
  },
  {
   "cell_type": "markdown",
   "id": "b284145a",
   "metadata": {},
   "source": [
    "## Type Casting Between Integer and Float Arrays\n",
    "304. Perform operations between integer and floating-point arrays and observe how NumPy casts the result to a higher precision."
   ]
  },
  {
   "cell_type": "code",
   "execution_count": null,
   "id": "0c60c385",
   "metadata": {},
   "outputs": [],
   "source": [
    "#304. Perform operations between integer and floating-point arrays and observe how NumPy casts the result to a higher precision.\n"
   ]
  },
  {
   "cell_type": "markdown",
   "id": "e19f6289",
   "metadata": {},
   "source": [
    "## Type Casting During Mathematical Operations\n",
    "305. Perform mathematical operations between arrays of different data types and determine how NumPy handles type casting."
   ]
  },
  {
   "cell_type": "code",
   "execution_count": null,
   "id": "502d72d3",
   "metadata": {},
   "outputs": [],
   "source": [
    "#305. Perform mathematical operations between arrays of different data types and determine how NumPy handles type casting.\n"
   ]
  },
  {
   "cell_type": "markdown",
   "id": "71765ed4",
   "metadata": {},
   "source": [
    "## Cast Arrays to Specific Types\n",
    "306. Use `astype()` to cast a NumPy array to a specific data type (e.g., from float to integer) and check the result."
   ]
  },
  {
   "cell_type": "code",
   "execution_count": null,
   "id": "fa027ca2",
   "metadata": {},
   "outputs": [],
   "source": [
    "#306. Use `astype()` to cast a NumPy array to a specific data type (e.g., from float to integer) and check the result.\n"
   ]
  },
  {
   "cell_type": "markdown",
   "id": "02bfd988",
   "metadata": {},
   "source": [
    "## Enforcing Type Consistency with Ufuncs\n",
    "307. Ensure that ufunc operations between arrays of different types result in the desired type, using explicit type casting if needed."
   ]
  },
  {
   "cell_type": "code",
   "execution_count": null,
   "id": "b9d4fd7b",
   "metadata": {},
   "outputs": [],
   "source": [
    "#307. Ensure that ufunc operations between arrays of different types result in the desired type, using explicit type casting if needed.\n"
   ]
  },
  {
   "cell_type": "markdown",
   "id": "06380a83",
   "metadata": {},
   "source": [
    "## Exploring Internal Buffers in Ufuncs\n",
    "308. Understand how ufuncs work with internal buffers for efficient computation, and how NumPy handles memory allocation for large arrays."
   ]
  },
  {
   "cell_type": "code",
   "execution_count": null,
   "id": "dd48f8cb",
   "metadata": {},
   "outputs": [],
   "source": [
    "#308. Understand how ufuncs work with internal buffers for efficient computation, and how NumPy handles memory allocation for large arrays.\n"
   ]
  },
  {
   "cell_type": "markdown",
   "id": "0b8c9974",
   "metadata": {},
   "source": [
    "## Buffer Management in Ufunc Operations\n",
    "309. Create large arrays and perform ufunc operations to observe how NumPy uses internal buffers for optimized performance."
   ]
  },
  {
   "cell_type": "code",
   "execution_count": null,
   "id": "a9efdd70",
   "metadata": {},
   "outputs": [],
   "source": [
    "#309. Create large arrays and perform ufunc operations to observe how NumPy uses internal buffers for optimized performance.\n"
   ]
  },
  {
   "cell_type": "markdown",
   "id": "68e7cadf",
   "metadata": {},
   "source": [
    "## Modifying Internal Buffers for Custom Ufuncs\n",
    "310. Create a custom ufunc and examine how NumPy handles internal buffers during the execution of the function."
   ]
  },
  {
   "cell_type": "code",
   "execution_count": null,
   "id": "2e549b33",
   "metadata": {},
   "outputs": [],
   "source": [
    "#310. Create a custom ufunc and examine how NumPy handles internal buffers during the execution of the function.\n"
   ]
  },
  {
   "cell_type": "markdown",
   "id": "d0d12be2",
   "metadata": {},
   "source": [
    "## Accessing the Buffer of a Ufunc\n",
    "311. Access the buffer of a ufunc using the `__array_interface__` attribute and observe its structure and contents."
   ]
  },
  {
   "cell_type": "code",
   "execution_count": null,
   "id": "86f9e7a4",
   "metadata": {},
   "outputs": [],
   "source": [
    "#311. Access the buffer of a ufunc using the `__array_interface__` attribute and observe its structure and contents.\n"
   ]
  },
  {
   "cell_type": "markdown",
   "id": "8f23af2e",
   "metadata": {},
   "source": [
    "## Optimizing Performance Using Internal Buffers\n",
    "312. Optimize memory usage by understanding the role of internal buffers when performing ufunc operations on large datasets."
   ]
  },
  {
   "cell_type": "code",
   "execution_count": null,
   "id": "e70f7ce7",
   "metadata": {},
   "outputs": [],
   "source": [
    "#312. Optimize memory usage by understanding the role of internal buffers when performing ufunc operations on large datasets.\n"
   ]
  },
  {
   "cell_type": "markdown",
   "id": "fa6bb935",
   "metadata": {},
   "source": [
    "## Handling Errors in Ufuncs\n",
    "313. Use `np.errstate()` to catch errors such as divide by zero or invalid value while performing ufunc operations."
   ]
  },
  {
   "cell_type": "code",
   "execution_count": null,
   "id": "ee00b6ae",
   "metadata": {},
   "outputs": [],
   "source": [
    "#313. Use `np.errstate()` to catch errors such as divide by zero or invalid value while performing ufunc operations.\n"
   ]
  },
  {
   "cell_type": "markdown",
   "id": "ba6d6ef3",
   "metadata": {},
   "source": [
    "## Controlling Warnings in Ufunc Operations\n",
    "314. Control warnings using `np.seterr()` to suppress warnings like overflow or underflow during ufunc operations."
   ]
  },
  {
   "cell_type": "code",
   "execution_count": null,
   "id": "34a06306",
   "metadata": {},
   "outputs": [],
   "source": [
    "#314. Control warnings using `np.seterr()` to suppress warnings like overflow or underflow during ufunc operations.\n"
   ]
  },
  {
   "cell_type": "markdown",
   "id": "d10a98c5",
   "metadata": {},
   "source": [
    "## Error Handling with `try-except` Block\n",
    "315. Wrap ufunc operations in a `try-except` block to handle potential errors, such as invalid input or shape mismatches."
   ]
  },
  {
   "cell_type": "code",
   "execution_count": null,
   "id": "5bbc7416",
   "metadata": {},
   "outputs": [],
   "source": [
    "#315. Wrap ufunc operations in a `try-except` block to handle potential errors, such as invalid input or shape mismatches.\n"
   ]
  },
  {
   "cell_type": "markdown",
   "id": "4ae5ae7d",
   "metadata": {},
   "source": [
    "## Handle Division by Zero Error in Ufunc\n",
    "316. Perform a division operation with a potential zero denominator and handle the error gracefully using `np.seterr()`."
   ]
  },
  {
   "cell_type": "code",
   "execution_count": null,
   "id": "7c2c476c",
   "metadata": {},
   "outputs": [],
   "source": [
    "#316. Perform a division operation with a potential zero denominator and handle the error gracefully using `np.seterr()`.\n"
   ]
  },
  {
   "cell_type": "markdown",
   "id": "8f77c29e",
   "metadata": {},
   "source": [
    "## Warning Suppression in Ufuncs\n",
    "317. Suppress specific warnings (e.g., divide by zero) when performing ufunc operations using `np.seterr()` and `np.errstate()`."
   ]
  },
  {
   "cell_type": "code",
   "execution_count": null,
   "id": "87f11e36",
   "metadata": {},
   "outputs": [],
   "source": [
    "#317. Suppress specific warnings (e.g., divide by zero) when performing ufunc operations using `np.seterr()` and `np.errstate()`.\n"
   ]
  },
  {
   "cell_type": "markdown",
   "id": "dd19f52a",
   "metadata": {},
   "source": [
    "## Overriding Ufuncs with Custom Functions\n",
    "318. Override the behavior of standard ufuncs by creating custom ufuncs using `np.frompyfunc()` and applying them to arrays."
   ]
  },
  {
   "cell_type": "code",
   "execution_count": null,
   "id": "4298a1bd",
   "metadata": {},
   "outputs": [],
   "source": [
    "#318. Override the behavior of standard ufuncs by creating custom ufuncs using `np.frompyfunc()` and applying them to arrays.\n"
   ]
  },
  {
   "cell_type": "markdown",
   "id": "f7edc2f7",
   "metadata": {},
   "source": [
    "## Modifying Ufunc Behavior with `out` Parameter\n",
    "319. Use the `out` parameter in a ufunc to modify the output array in-place, rather than creating a new array."
   ]
  },
  {
   "cell_type": "code",
   "execution_count": null,
   "id": "457791c3",
   "metadata": {},
   "outputs": [],
   "source": [
    "#319. Use the `out` parameter in a ufunc to modify the output array in-place, rather than creating a new array.\n"
   ]
  },
  {
   "cell_type": "markdown",
   "id": "fd728052",
   "metadata": {},
   "source": [
    "## Changing Ufunc Behavior Using `dtype` Parameter\n",
    "320. Control the output type of a ufunc operation by overriding the `dtype` parameter during the function call."
   ]
  },
  {
   "cell_type": "code",
   "execution_count": null,
   "id": "e2d9243f",
   "metadata": {},
   "outputs": [],
   "source": [
    "#320. Control the output type of a ufunc operation by overriding the `dtype` parameter during the function call.\n"
   ]
  },
  {
   "cell_type": "markdown",
   "id": "7f8f8e08",
   "metadata": {},
   "source": [
    "## Implementing Custom Ufunc with `np.vectorize()`\n",
    "321. Create a custom ufunc using `np.vectorize()` and apply it to arrays to perform customized element-wise operations."
   ]
  },
  {
   "cell_type": "code",
   "execution_count": null,
   "id": "3b0f2fcc",
   "metadata": {},
   "outputs": [],
   "source": [
    "#321. Create a custom ufunc using `np.vectorize()` and apply it to arrays to perform customized element-wise operations.\n"
   ]
  },
  {
   "cell_type": "markdown",
   "id": "a3e52e29",
   "metadata": {},
   "source": [
    "## Modifying Ufunc Behavior with `signature`\n",
    "322. Use the `signature` parameter to define the expected input-output signature for a custom ufunc."
   ]
  },
  {
   "cell_type": "code",
   "execution_count": null,
   "id": "2de73dda",
   "metadata": {},
   "outputs": [],
   "source": [
    "#322. Use the `signature` parameter to define the expected input-output signature for a custom ufunc.\n"
   ]
  },
  {
   "cell_type": "markdown",
   "id": "d39159d8",
   "metadata": {},
   "source": [
    "## Defining the `nargs` for Custom Ufuncs\n",
    "323. Define the number of arguments that a custom ufunc can accept using the `nargs` parameter when creating a ufunc."
   ]
  },
  {
   "cell_type": "code",
   "execution_count": null,
   "id": "90e751cf",
   "metadata": {},
   "outputs": [],
   "source": [
    "#323. Define the number of arguments that a custom ufunc can accept using the `nargs` parameter when creating a ufunc.\n"
   ]
  },
  {
   "cell_type": "markdown",
   "id": "a3ea795f",
   "metadata": {},
   "source": [
    "## Ufuncs with Multiple Inputs and Outputs\n",
    "324. Create a custom ufunc that accepts multiple inputs and returns multiple outputs, and apply it to arrays."
   ]
  },
  {
   "cell_type": "code",
   "execution_count": null,
   "id": "13d7c24f",
   "metadata": {},
   "outputs": [],
   "source": [
    "#324. Create a custom ufunc that accepts multiple inputs and returns multiple outputs, and apply it to arrays.\n"
   ]
  },
  {
   "cell_type": "markdown",
   "id": "2ba7cb89",
   "metadata": {},
   "source": [
    "## Use of `ufunc.reduce`\n",
    "325. Apply a reduction operation using `ufunc.reduce()` to perform cumulative operations across a specified axis of an array."
   ]
  },
  {
   "cell_type": "code",
   "execution_count": null,
   "id": "c9f0f438",
   "metadata": {},
   "outputs": [],
   "source": [
    "#325. Apply a reduction operation using `ufunc.reduce()` to perform cumulative operations across a specified axis of an array.\n"
   ]
  },
  {
   "cell_type": "markdown",
   "id": "bd73a85f",
   "metadata": {},
   "source": [
    "## Use of `ufunc.accumulate`\n",
    "326. Apply a cumulative operation across an array using `ufunc.accumulate()` to accumulate values along a specified axis."
   ]
  },
  {
   "cell_type": "code",
   "execution_count": null,
   "id": "fae07d67",
   "metadata": {},
   "outputs": [],
   "source": [
    "#326. Apply a cumulative operation across an array using `ufunc.accumulate()` to accumulate values along a specified axis.\n"
   ]
  },
  {
   "cell_type": "markdown",
   "id": "e17c8e7e",
   "metadata": {},
   "source": [
    "## Use of `ufunc.outer`\n",
    "327. Apply `ufunc.outer()` to compute the outer product between two arrays and observe the resulting array."
   ]
  },
  {
   "cell_type": "code",
   "execution_count": null,
   "id": "46c125cb",
   "metadata": {},
   "outputs": [],
   "source": [
    "#327. Apply `ufunc.outer()` to compute the outer product between two arrays and observe the resulting array.\n"
   ]
  },
  {
   "cell_type": "markdown",
   "id": "c4c3ddb7",
   "metadata": {},
   "source": [
    "## Ufunc with `where` Clause\n",
    "328. Use the `where` parameter in a ufunc to apply operations only where a given condition is met (e.g., element-wise condition)."
   ]
  },
  {
   "cell_type": "code",
   "execution_count": null,
   "id": "1d37dfa0",
   "metadata": {},
   "outputs": [],
   "source": [
    "#328. Use the `where` parameter in a ufunc to apply operations only where a given condition is met (e.g., element-wise condition).\n"
   ]
  },
  {
   "cell_type": "markdown",
   "id": "b6559b9a",
   "metadata": {},
   "source": [
    "## Ufunc with Multiple Conditions\n",
    "329. Use multiple conditions inside a ufunc's `where` parameter to control where the operation is performed on arrays."
   ]
  },
  {
   "cell_type": "code",
   "execution_count": null,
   "id": "b843f087",
   "metadata": {},
   "outputs": [],
   "source": [
    "#329. Use multiple conditions inside a ufunc's `where` parameter to control where the operation is performed on arrays.\n"
   ]
  },
  {
   "cell_type": "markdown",
   "id": "0295e8b5",
   "metadata": {},
   "source": [
    "## Optimizing Ufunc Performance with In-place Operations\n",
    "330. Perform in-place operations on arrays using ufuncs and optimize performance by reducing memory overhead."
   ]
  },
  {
   "cell_type": "code",
   "execution_count": null,
   "id": "6cdee799",
   "metadata": {},
   "outputs": [],
   "source": [
    "#330. Perform in-place operations on arrays using ufuncs and optimize performance by reducing memory overhead.\n"
   ]
  },
  {
   "cell_type": "markdown",
   "id": "f95409da",
   "metadata": {},
   "source": [
    "## Benchmarking Ufunc Performance\n",
    "331. Benchmark the performance of different ufunc operations using `timeit` to identify the most efficient operations for large arrays."
   ]
  },
  {
   "cell_type": "code",
   "execution_count": null,
   "id": "b5ad5b95",
   "metadata": {},
   "outputs": [],
   "source": [
    "#331. Benchmark the performance of different ufunc operations using `timeit` to identify the most efficient operations for large arrays.\n"
   ]
  },
  {
   "cell_type": "markdown",
   "id": "d3a2ff19",
   "metadata": {},
   "source": [
    "## Using `np.add()` for Efficient Array Operations\n",
    "332. Use `np.add()` for element-wise addition in large arrays and compare its performance to a loop-based addition approach."
   ]
  },
  {
   "cell_type": "code",
   "execution_count": null,
   "id": "cba6e597",
   "metadata": {},
   "outputs": [],
   "source": [
    "#332. Use `np.add()` for element-wise addition in large arrays and compare its performance to a loop-based addition approach.\n"
   ]
  },
  {
   "cell_type": "markdown",
   "id": "ce3853f5",
   "metadata": {},
   "source": [
    "## Efficient Array Multiplication with Ufuncs\n",
    "333. Use `np.multiply()` for efficient element-wise multiplication of large arrays and compare with manual loops."
   ]
  },
  {
   "cell_type": "code",
   "execution_count": null,
   "id": "e51e5a0f",
   "metadata": {},
   "outputs": [],
   "source": [
    "#333. Use `np.multiply()` for efficient element-wise multiplication of large arrays and compare with manual loops.\n"
   ]
  },
  {
   "cell_type": "markdown",
   "id": "bc16e57a",
   "metadata": {},
   "source": [
    "## Parallelizing Ufuncs with `np.vectorize()`\n",
    "334. Use `np.vectorize()` to parallelize simple ufunc operations on large datasets and observe the speed improvements."
   ]
  },
  {
   "cell_type": "code",
   "execution_count": null,
   "id": "9153fdc4",
   "metadata": {},
   "outputs": [],
   "source": [
    "#334. Use `np.vectorize()` to parallelize simple ufunc operations on large datasets and observe the speed improvements.\n"
   ]
  },
  {
   "cell_type": "markdown",
   "id": "b274ae5c",
   "metadata": {},
   "source": [
    "## Optimize Ufunc with `out` and `where` Parameters\n",
    "335. Use the `out` and `where` parameters in ufunc operations to optimize memory usage and avoid unnecessary array creation."
   ]
  },
  {
   "cell_type": "code",
   "execution_count": null,
   "id": "758e1f80",
   "metadata": {},
   "outputs": [],
   "source": [
    "#335. Use the `out` and `where` parameters in ufunc operations to optimize memory usage and avoid unnecessary array creation.\n"
   ]
  }
 ],
 "metadata": {},
 "nbformat": 4,
 "nbformat_minor": 5
}
