{
 "cells": [
  {
   "cell_type": "markdown",
   "id": "7c29b0a8",
   "metadata": {},
   "source": [
    "## Fundamentals of Numpy"
   ]
  },
  {
   "cell_type": "code",
   "execution_count": null,
   "id": "92840672",
   "metadata": {},
   "outputs": [],
   "source": [
    "#1. ..\n"
   ]
  },
  {
   "cell_type": "markdown",
   "id": "326a7b21",
   "metadata": {},
   "source": [
    "## Array creation"
   ]
  },
  {
   "cell_type": "code",
   "execution_count": null,
   "id": "511054f2",
   "metadata": {},
   "outputs": [],
   "source": [
    "#2. creating 1d array, 2d, 3d, using np.zeros, np.ones, np.empty, np.arange, np.linspace, np.random.random, np.random,randint\n"
   ]
  },
  {
   "cell_type": "markdown",
   "id": "8348c108",
   "metadata": {},
   "source": [
    "## Create 1D Array"
   ]
  },
  {
   "cell_type": "code",
   "execution_count": null,
   "id": "f8ca892f",
   "metadata": {},
   "outputs": [],
   "source": [
    "#3. Create a 1D array using `np.array()`. Use a list of integers for the elements.\n"
   ]
  },
  {
   "cell_type": "markdown",
   "id": "014126c7",
   "metadata": {},
   "source": [
    "## Create 2D Array"
   ]
  },
  {
   "cell_type": "code",
   "execution_count": null,
   "id": "ecbddde0",
   "metadata": {},
   "outputs": [],
   "source": [
    "#4. Create a 2D array using `np.array()`. Use nested lists for rows.\n"
   ]
  },
  {
   "cell_type": "markdown",
   "id": "fe0aa39d",
   "metadata": {},
   "source": [
    "## Create 3D Array"
   ]
  },
  {
   "cell_type": "code",
   "execution_count": null,
   "id": "4e5c7f9d",
   "metadata": {},
   "outputs": [],
   "source": [
    "#5. Create a 3D array using `np.array()`. Use nested lists for higher dimensions.\n"
   ]
  },
  {
   "cell_type": "markdown",
   "id": "02200131",
   "metadata": {},
   "source": [
    "## Using np.zeros"
   ]
  },
  {
   "cell_type": "code",
   "execution_count": null,
   "id": "711fe9c6",
   "metadata": {},
   "outputs": [],
   "source": [
    "#6. Create a 3x3 matrix filled with zeros.\n"
   ]
  },
  {
   "cell_type": "markdown",
   "id": "e364e91a",
   "metadata": {},
   "source": [
    "## Using np.ones"
   ]
  },
  {
   "cell_type": "code",
   "execution_count": null,
   "id": "baa0535c",
   "metadata": {},
   "outputs": [],
   "source": [
    "#7. Create a 4x4 matrix filled with ones.\n"
   ]
  },
  {
   "cell_type": "markdown",
   "id": "1b760d5c",
   "metadata": {},
   "source": [
    "## Using np.empty"
   ]
  },
  {
   "cell_type": "code",
   "execution_count": null,
   "id": "1f65f89e",
   "metadata": {},
   "outputs": [],
   "source": [
    "#8. Create an uninitialized array of shape (2, 3). Observe the random values it contains.\n"
   ]
  },
  {
   "cell_type": "markdown",
   "id": "e362b8e4",
   "metadata": {},
   "source": [
    "## Using np.arange"
   ]
  },
  {
   "cell_type": "code",
   "execution_count": null,
   "id": "0a85799c",
   "metadata": {},
   "outputs": [],
   "source": [
    "#9. Generate a 1D array of numbers from 10 to 50 with a step of 5.\n"
   ]
  },
  {
   "cell_type": "markdown",
   "id": "91ea2ef1",
   "metadata": {},
   "source": [
    "## Using np.linspace"
   ]
  },
  {
   "cell_type": "code",
   "execution_count": null,
   "id": "cebf1d41",
   "metadata": {},
   "outputs": [],
   "source": [
    "#10. Create an array of 10 equally spaced numbers between 0 and 1.\n"
   ]
  },
  {
   "cell_type": "markdown",
   "id": "169f7a8a",
   "metadata": {},
   "source": [
    "## Using np.random.random"
   ]
  },
  {
   "cell_type": "code",
   "execution_count": null,
   "id": "6c0a8881",
   "metadata": {},
   "outputs": [],
   "source": [
    "#11. Generate a 5x5 matrix of random float numbers between 0 and 1.\n"
   ]
  },
  {
   "cell_type": "markdown",
   "id": "443aec96",
   "metadata": {},
   "source": [
    "## Using np.random.randint"
   ]
  },
  {
   "cell_type": "code",
   "execution_count": null,
   "id": "ddeab23c",
   "metadata": {},
   "outputs": [],
   "source": [
    "#12. Create a 2x3 matrix with random integers between 10 and 50.\n"
   ]
  },
  {
   "cell_type": "markdown",
   "id": "29555bda",
   "metadata": {},
   "source": [
    "## Basic Indexing"
   ]
  },
  {
   "cell_type": "code",
   "execution_count": null,
   "id": "0baf9b7f",
   "metadata": {},
   "outputs": [],
   "source": [
    "#13. Access the 3rd element in a 1D array.\n"
   ]
  },
  {
   "cell_type": "markdown",
   "id": "57d51232",
   "metadata": {},
   "source": [
    "## 2D Array Indexing"
   ]
  },
  {
   "cell_type": "code",
   "execution_count": null,
   "id": "5d7a84f8",
   "metadata": {},
   "outputs": [],
   "source": [
    "#14. Access the element at row 2, column 3 in a 2D array.\n"
   ]
  },
  {
   "cell_type": "markdown",
   "id": "342d4d48",
   "metadata": {},
   "source": [
    "## Negative Indexing"
   ]
  },
  {
   "cell_type": "code",
   "execution_count": null,
   "id": "0b452bd5",
   "metadata": {},
   "outputs": [],
   "source": [
    "#15. Use negative indices to access the last element of a 1D array.\n"
   ]
  },
  {
   "cell_type": "markdown",
   "id": "2b975d83",
   "metadata": {},
   "source": [
    "## Row Slicing"
   ]
  },
  {
   "cell_type": "code",
   "execution_count": null,
   "id": "5567481b",
   "metadata": {},
   "outputs": [],
   "source": [
    "#16. Slice out the 2nd row of a 2D array.\n"
   ]
  },
  {
   "cell_type": "markdown",
   "id": "c0a58bb7",
   "metadata": {},
   "source": [
    "## Column Slicing"
   ]
  },
  {
   "cell_type": "code",
   "execution_count": null,
   "id": "884ebef0",
   "metadata": {},
   "outputs": [],
   "source": [
    "#17. Slice out the 1st column of a 2D array.\n"
   ]
  },
  {
   "cell_type": "markdown",
   "id": "385939ab",
   "metadata": {},
   "source": [
    "## Advanced Slicing"
   ]
  },
  {
   "cell_type": "code",
   "execution_count": null,
   "id": "0eb576a2",
   "metadata": {},
   "outputs": [],
   "source": [
    "#18. Extract a submatrix from a 3x3 matrix.\n"
   ]
  },
  {
   "cell_type": "markdown",
   "id": "db74837e",
   "metadata": {},
   "source": [
    "## Boolean Indexing"
   ]
  },
  {
   "cell_type": "code",
   "execution_count": null,
   "id": "38384dd6",
   "metadata": {},
   "outputs": [],
   "source": [
    "#19. Filter all elements greater than 5 in a 1D array.\n"
   ]
  },
  {
   "cell_type": "markdown",
   "id": "9783c393",
   "metadata": {},
   "source": [
    "## Fancy Indexing"
   ]
  },
  {
   "cell_type": "code",
   "execution_count": null,
   "id": "5e9b3070",
   "metadata": {},
   "outputs": [],
   "source": [
    "#20. Use a list of indices to access specific elements in a 1D array.\n"
   ]
  },
  {
   "cell_type": "markdown",
   "id": "15734730",
   "metadata": {},
   "source": [
    "## Combining Indexing"
   ]
  },
  {
   "cell_type": "code",
   "execution_count": null,
   "id": "5678dcaf",
   "metadata": {},
   "outputs": [],
   "source": [
    "#21. Use slicing and boolean conditions together to extract a subset.\n"
   ]
  },
  {
   "cell_type": "markdown",
   "id": "8ac2ff0a",
   "metadata": {},
   "source": [
    "## Index Assignment"
   ]
  },
  {
   "cell_type": "code",
   "execution_count": null,
   "id": "ea2663bb",
   "metadata": {},
   "outputs": [],
   "source": [
    "#22. Replace all negative elements in an array with 0 using indexing.\n"
   ]
  },
  {
   "cell_type": "markdown",
   "id": "9d26ec1a",
   "metadata": {},
   "source": [
    "## Save Array"
   ]
  },
  {
   "cell_type": "code",
   "execution_count": null,
   "id": "661f58b4",
   "metadata": {},
   "outputs": [],
   "source": [
    "#23. Save an array to a `.npy` file using `np.save()`.\n"
   ]
  },
  {
   "cell_type": "markdown",
   "id": "e7a6a095",
   "metadata": {},
   "source": [
    "## Load Array"
   ]
  },
  {
   "cell_type": "code",
   "execution_count": null,
   "id": "98c68f11",
   "metadata": {},
   "outputs": [],
   "source": [
    "#24. Load an array from a `.npy` file using `np.load()`.\n"
   ]
  },
  {
   "cell_type": "markdown",
   "id": "810ea077",
   "metadata": {},
   "source": [
    "## Save Text File"
   ]
  },
  {
   "cell_type": "code",
   "execution_count": null,
   "id": "c66b409d",
   "metadata": {},
   "outputs": [],
   "source": [
    "#25. Save a 2D array to a `.txt` file using `np.savetxt()`.\n"
   ]
  },
  {
   "cell_type": "markdown",
   "id": "9b90d9fe",
   "metadata": {},
   "source": [
    "## Load Text File"
   ]
  },
  {
   "cell_type": "code",
   "execution_count": null,
   "id": "16f981f8",
   "metadata": {},
   "outputs": [],
   "source": [
    "#26. Load a 2D array from a `.txt` file using `np.loadtxt()`.\n"
   ]
  },
  {
   "cell_type": "markdown",
   "id": "cf8b6067",
   "metadata": {},
   "source": [
    "## CSV Reading"
   ]
  },
  {
   "cell_type": "code",
   "execution_count": null,
   "id": "1ce36700",
   "metadata": {},
   "outputs": [],
   "source": [
    "#27. Read a CSV file into an array using `np.genfromtxt()`.\n"
   ]
  },
  {
   "cell_type": "markdown",
   "id": "c7bc65aa",
   "metadata": {},
   "source": [
    "## CSV Writing"
   ]
  },
  {
   "cell_type": "code",
   "execution_count": null,
   "id": "ddc23bc3",
   "metadata": {},
   "outputs": [],
   "source": [
    "#28. Write an array to a CSV file using `np.savetxt()`.\n"
   ]
  },
  {
   "cell_type": "markdown",
   "id": "c4f3593b",
   "metadata": {},
   "source": [
    "## Binary File Handling"
   ]
  },
  {
   "cell_type": "code",
   "execution_count": null,
   "id": "36e4d25b",
   "metadata": {},
   "outputs": [],
   "source": [
    "#29. Save and load an array to/from a binary file using `np.save` and `np.load`.\n"
   ]
  },
  {
   "cell_type": "markdown",
   "id": "47fc88d3",
   "metadata": {},
   "source": [
    "## Handle Missing Data"
   ]
  },
  {
   "cell_type": "code",
   "execution_count": null,
   "id": "f3f09270",
   "metadata": {},
   "outputs": [],
   "source": [
    "#30. Load a dataset with missing values using `np.genfromtxt` and handle missing entries.\n"
   ]
  },
  {
   "cell_type": "markdown",
   "id": "4fa69b1b",
   "metadata": {},
   "source": [
    "## String Encoding"
   ]
  },
  {
   "cell_type": "code",
   "execution_count": null,
   "id": "aae3175c",
   "metadata": {},
   "outputs": [],
   "source": [
    "#31. Save and load arrays containing strings to/from `.npy` files.\n"
   ]
  },
  {
   "cell_type": "markdown",
   "id": "e69575a6",
   "metadata": {},
   "source": [
    "## Custom Delimiter Files"
   ]
  },
  {
   "cell_type": "code",
   "execution_count": null,
   "id": "842325c1",
   "metadata": {},
   "outputs": [],
   "source": [
    "#32. Load a text file with a custom delimiter (e.g., `;`) into an array.\n"
   ]
  },
  {
   "cell_type": "markdown",
   "id": "573ac6e1",
   "metadata": {},
   "source": [
    "## Basic Dtypes"
   ]
  },
  {
   "cell_type": "code",
   "execution_count": null,
   "id": "1fd9307f",
   "metadata": {},
   "outputs": [],
   "source": [
    "#33. Create an array with integers and check its `dtype`.\n"
   ]
  },
  {
   "cell_type": "markdown",
   "id": "3601d5ca",
   "metadata": {},
   "source": [
    "## Change Dtype"
   ]
  },
  {
   "cell_type": "code",
   "execution_count": null,
   "id": "f88e753f",
   "metadata": {},
   "outputs": [],
   "source": [
    "#34. Create a float array and convert it to integer using `astype()`.\n"
   ]
  },
  {
   "cell_type": "markdown",
   "id": "0b8c0704",
   "metadata": {},
   "source": [
    "## Structured Dtypes"
   ]
  },
  {
   "cell_type": "code",
   "execution_count": null,
   "id": "e7d6d7e3",
   "metadata": {},
   "outputs": [],
   "source": [
    "#35. Create a structured array with fields for `name` (string) and `age` (integer).\n"
   ]
  },
  {
   "cell_type": "markdown",
   "id": "ce6c5a0a",
   "metadata": {},
   "source": [
    "## Type Compatibility"
   ]
  },
  {
   "cell_type": "code",
   "execution_count": null,
   "id": "dbf85c08",
   "metadata": {},
   "outputs": [],
   "source": [
    "#36. Explore how NumPy handles operations between arrays of different data types.\n"
   ]
  },
  {
   "cell_type": "markdown",
   "id": "756a6256",
   "metadata": {},
   "source": [
    "## Custom Dtypes"
   ]
  },
  {
   "cell_type": "code",
   "execution_count": null,
   "id": "f0409001",
   "metadata": {},
   "outputs": [],
   "source": [
    "#37. Define a custom dtype for a structured array with `name` (str), `age` (int), and `score` (float).\n"
   ]
  },
  {
   "cell_type": "markdown",
   "id": "05ab2e3b",
   "metadata": {},
   "source": [
    "## View as Bytes"
   ]
  },
  {
   "cell_type": "code",
   "execution_count": null,
   "id": "d43402ad",
   "metadata": {},
   "outputs": [],
   "source": [
    "#38. View an array as bytes using `view(np.byte)`.\n"
   ]
  },
  {
   "cell_type": "markdown",
   "id": "4b4c8b65",
   "metadata": {},
   "source": [
    "## String Arrays"
   ]
  },
  {
   "cell_type": "code",
   "execution_count": null,
   "id": "11435d47",
   "metadata": {},
   "outputs": [],
   "source": [
    "#39. Create an array of strings and explore its `dtype`.\n"
   ]
  },
  {
   "cell_type": "markdown",
   "id": "2c180325",
   "metadata": {},
   "source": [
    "## Object Arrays"
   ]
  },
  {
   "cell_type": "code",
   "execution_count": null,
   "id": "c1d0c46d",
   "metadata": {},
   "outputs": [],
   "source": [
    "#40. Create an object array and experiment with mixed types.\n"
   ]
  },
  {
   "cell_type": "markdown",
   "id": "c5faa224",
   "metadata": {},
   "source": [
    "## Endianness"
   ]
  },
  {
   "cell_type": "code",
   "execution_count": null,
   "id": "c949ec91",
   "metadata": {},
   "outputs": [],
   "source": [
    "#41. Explore how NumPy handles byte order (endianness) for data types.\n"
   ]
  },
  {
   "cell_type": "markdown",
   "id": "a5b92570",
   "metadata": {},
   "source": [
    "## Datetime Arrays"
   ]
  },
  {
   "cell_type": "code",
   "execution_count": null,
   "id": "065d886b",
   "metadata": {},
   "outputs": [],
   "source": [
    "#42. Work with datetime64 arrays to represent dates and times.\n"
   ]
  },
  {
   "cell_type": "markdown",
   "id": "ced184e4",
   "metadata": {},
   "source": [
    "## Add Scalar"
   ]
  },
  {
   "cell_type": "code",
   "execution_count": null,
   "id": "ee012fec",
   "metadata": {},
   "outputs": [],
   "source": [
    "#43. Add 5 to every element in a 1D array.\n"
   ]
  },
  {
   "cell_type": "markdown",
   "id": "282631a3",
   "metadata": {},
   "source": [
    "## Row-wise Operations"
   ]
  },
  {
   "cell_type": "code",
   "execution_count": null,
   "id": "d20e3372",
   "metadata": {},
   "outputs": [],
   "source": [
    "#44. Add a 1D array to each row of a 2D array using broadcasting.\n"
   ]
  },
  {
   "cell_type": "markdown",
   "id": "a037a9e3",
   "metadata": {},
   "source": [
    "## Column-wise Operations"
   ]
  },
  {
   "cell_type": "code",
   "execution_count": null,
   "id": "9bef562c",
   "metadata": {},
   "outputs": [],
   "source": [
    "#45. Add a 1D array to each column of a 2D array using broadcasting.\n"
   ]
  },
  {
   "cell_type": "markdown",
   "id": "af9d1a75",
   "metadata": {},
   "source": [
    "## Array Alignment"
   ]
  },
  {
   "cell_type": "code",
   "execution_count": null,
   "id": "2a15428c",
   "metadata": {},
   "outputs": [],
   "source": [
    "#46. Experiment with broadcasting rules by adding arrays of shapes (3, 1) and (1, 4).\n"
   ]
  },
  {
   "cell_type": "markdown",
   "id": "db887cf0",
   "metadata": {},
   "source": [
    "## Multiply by Scalar"
   ]
  },
  {
   "cell_type": "code",
   "execution_count": null,
   "id": "06c6245c",
   "metadata": {},
   "outputs": [],
   "source": [
    "#47. Multiply a 2D array by a scalar using broadcasting.\n"
   ]
  },
  {
   "cell_type": "markdown",
   "id": "4e016756",
   "metadata": {},
   "source": [
    "## Mismatch Dimensions"
   ]
  },
  {
   "cell_type": "code",
   "execution_count": null,
   "id": "ffe1888a",
   "metadata": {},
   "outputs": [],
   "source": [
    "#48. Explore the error when incompatible shapes are broadcast.\n"
   ]
  },
  {
   "cell_type": "markdown",
   "id": "dc32ac16",
   "metadata": {},
   "source": [
    "## Broadcast View"
   ]
  },
  {
   "cell_type": "code",
   "execution_count": null,
   "id": "36e7ff03",
   "metadata": {},
   "outputs": [],
   "source": [
    "#49. Manipulate a broadcast view and observe the effect on the original array.\n"
   ]
  },
  {
   "cell_type": "markdown",
   "id": "51c02ed6",
   "metadata": {},
   "source": [
    "## Complex Broadcasting"
   ]
  },
  {
   "cell_type": "code",
   "execution_count": null,
   "id": "44e09ef6",
   "metadata": {},
   "outputs": [],
   "source": [
    "#50. Combine a 2D array of shape (2, 3) with a 3D array of shape (3, 2, 1).\n"
   ]
  },
  {
   "cell_type": "markdown",
   "id": "58e04755",
   "metadata": {},
   "source": [
    "## Broadcast Slicing"
   ]
  },
  {
   "cell_type": "code",
   "execution_count": null,
   "id": "6a3319c8",
   "metadata": {},
   "outputs": [],
   "source": [
    "#51. Combine slicing and broadcasting for advanced operations.\n"
   ]
  },
  {
   "cell_type": "markdown",
   "id": "1bea4144",
   "metadata": {},
   "source": [
    "## Real-world Application"
   ]
  },
  {
   "cell_type": "code",
   "execution_count": null,
   "id": "13f723d5",
   "metadata": {},
   "outputs": [],
   "source": [
    "#52. Use broadcasting to normalize an image (scale pixel values between 0 and 1).\n"
   ]
  },
  {
   "cell_type": "markdown",
   "id": "68d03b0b",
   "metadata": {},
   "source": [
    "## Array Copy"
   ]
  },
  {
   "cell_type": "code",
   "execution_count": null,
   "id": "18cb25d4",
   "metadata": {},
   "outputs": [],
   "source": [
    "#53. Create a copy of an array using `np.copy()` and modify it independently.\n"
   ]
  },
  {
   "cell_type": "markdown",
   "id": "0cfb2126",
   "metadata": {},
   "source": [
    "## Array View"
   ]
  },
  {
   "cell_type": "code",
   "execution_count": null,
   "id": "9ada2843",
   "metadata": {},
   "outputs": [],
   "source": [
    "#54. Create a view of an array using slicing and observe the changes on the original array.\n"
   ]
  },
  {
   "cell_type": "markdown",
   "id": "69fe921d",
   "metadata": {},
   "source": [
    "## Deep Copy"
   ]
  },
  {
   "cell_type": "code",
   "execution_count": null,
   "id": "6b92d902",
   "metadata": {},
   "outputs": [],
   "source": [
    "#55. Experiment with `deepcopy` on a nested structured array.\n"
   ]
  },
  {
   "cell_type": "markdown",
   "id": "82c3277d",
   "metadata": {},
   "source": [
    "## Shallow Copy"
   ]
  },
  {
   "cell_type": "code",
   "execution_count": null,
   "id": "79c51a44",
   "metadata": {},
   "outputs": [],
   "source": [
    "#56. Illustrate how shallow copying affects mutable arrays.\n"
   ]
  },
  {
   "cell_type": "markdown",
   "id": "df398d79",
   "metadata": {},
   "source": [
    "## Base Attribute"
   ]
  },
  {
   "cell_type": "code",
   "execution_count": null,
   "id": "b30341e4",
   "metadata": {},
   "outputs": [],
   "source": [
    "#57. Check the `base` attribute to understand ownership in views.\n"
   ]
  },
  {
   "cell_type": "markdown",
   "id": "b17bce94",
   "metadata": {},
   "source": [
    "## Shared Memory"
   ]
  },
  {
   "cell_type": "code",
   "execution_count": null,
   "id": "40985717",
   "metadata": {},
   "outputs": [],
   "source": [
    "#58. Create two views of an array and explore shared memory behavior.\n"
   ]
  },
  {
   "cell_type": "markdown",
   "id": "5bd2ae06",
   "metadata": {},
   "source": [
    "## Copy vs. View"
   ]
  },
  {
   "cell_type": "code",
   "execution_count": null,
   "id": "825c7585",
   "metadata": {},
   "outputs": [],
   "source": [
    "#59. Compare the performance of copies and views for large arrays.\n"
   ]
  },
  {
   "cell_type": "markdown",
   "id": "cea7da11",
   "metadata": {},
   "source": [
    "## Slice Assignment"
   ]
  },
  {
   "cell_type": "code",
   "execution_count": null,
   "id": "ab38904a",
   "metadata": {},
   "outputs": [],
   "source": [
    "#60. Modify a sliced view of an array and observe changes in the parent array.\n"
   ]
  },
  {
   "cell_type": "markdown",
   "id": "6a60d0d8",
   "metadata": {},
   "source": [
    "## Memory Layout"
   ]
  },
  {
   "cell_type": "code",
   "execution_count": null,
   "id": "b9175219",
   "metadata": {},
   "outputs": [],
   "source": [
    "#61. Analyze memory layout differences between views and copies.\n"
   ]
  },
  {
   "cell_type": "markdown",
   "id": "7b4fbe50",
   "metadata": {},
   "source": [
    "## Advanced Copy"
   ]
  },
  {
   "cell_type": "code",
   "execution_count": null,
   "id": "686c028f",
   "metadata": {},
   "outputs": [],
   "source": [
    "#62. Use `np.copyto()` for conditional copying.\n"
   ]
  },
  {
   "cell_type": "markdown",
   "id": "10b97712",
   "metadata": {},
   "source": [
    "## #I/O with numpy"
   ]
  },
  {
   "cell_type": "code",
   "execution_count": null,
   "id": "5beb481c",
   "metadata": {},
   "outputs": [],
   "source": [
    "#63. Importing Data with genfromtxt, Defining the Input, Splitting the Lines into Columns, Skipping Lines and Choosing Columns, Choosing the Data Type, Setting the Names, Tweaking the Conversion\n"
   ]
  },
  {
   "cell_type": "markdown",
   "id": "b232ded8",
   "metadata": {},
   "source": [
    "## Load Simple Text File"
   ]
  },
  {
   "cell_type": "code",
   "execution_count": null,
   "id": "9cd70174",
   "metadata": {},
   "outputs": [],
   "source": [
    "#64. Use `np.genfromtxt` to load a text file containing numerical data, ensuring the default delimiter is used.\n"
   ]
  },
  {
   "cell_type": "markdown",
   "id": "14b87864",
   "metadata": {},
   "source": [
    "## Load Text File with Delimiter"
   ]
  },
  {
   "cell_type": "code",
   "execution_count": null,
   "id": "249b0495",
   "metadata": {},
   "outputs": [],
   "source": [
    "#65. Load a CSV file using `np.genfromtxt` by specifying a comma as the delimiter.\n"
   ]
  },
  {
   "cell_type": "markdown",
   "id": "6cc07d63",
   "metadata": {},
   "source": [
    "## Load File with Missing Values"
   ]
  },
  {
   "cell_type": "code",
   "execution_count": null,
   "id": "05f754d7",
   "metadata": {},
   "outputs": [],
   "source": [
    "#66. Load a text file with missing entries, replacing them with default values.\n"
   ]
  },
  {
   "cell_type": "markdown",
   "id": "fe965f19",
   "metadata": {},
   "source": [
    "## Load File with Specified Columns"
   ]
  },
  {
   "cell_type": "code",
   "execution_count": null,
   "id": "e3d88cf8",
   "metadata": {},
   "outputs": [],
   "source": [
    "#67. Use `np.genfromtxt` to load only the first two columns of a text file.\n"
   ]
  },
  {
   "cell_type": "markdown",
   "id": "93e2755d",
   "metadata": {},
   "source": [
    "## Load Data with Explicit Data Type"
   ]
  },
  {
   "cell_type": "code",
   "execution_count": null,
   "id": "dcebceb3",
   "metadata": {},
   "outputs": [],
   "source": [
    "#68. Specify the data type as `float32` when loading a text file.\n"
   ]
  },
  {
   "cell_type": "markdown",
   "id": "507b6c1f",
   "metadata": {},
   "source": [
    "## Load from File Path"
   ]
  },
  {
   "cell_type": "code",
   "execution_count": null,
   "id": "9a7e461d",
   "metadata": {},
   "outputs": [],
   "source": [
    "#69. Use `np.genfromtxt` to load data from a file path to a local text file.\n"
   ]
  },
  {
   "cell_type": "markdown",
   "id": "d305b257",
   "metadata": {},
   "source": [
    "## Load from StringIO"
   ]
  },
  {
   "cell_type": "code",
   "execution_count": null,
   "id": "fbc4b34a",
   "metadata": {},
   "outputs": [],
   "source": [
    "#70. Use `StringIO` to simulate reading from a file and load the data using `np.genfromtxt`.\n"
   ]
  },
  {
   "cell_type": "markdown",
   "id": "016191c8",
   "metadata": {},
   "source": [
    "## Specify Encoding"
   ]
  },
  {
   "cell_type": "code",
   "execution_count": null,
   "id": "bc6e79c4",
   "metadata": {},
   "outputs": [],
   "source": [
    "#71. Load a text file with a specific encoding using `np.genfromtxt`.\n"
   ]
  },
  {
   "cell_type": "markdown",
   "id": "8692036f",
   "metadata": {},
   "source": [
    "## Load Large Dataset"
   ]
  },
  {
   "cell_type": "code",
   "execution_count": null,
   "id": "331b750c",
   "metadata": {},
   "outputs": [],
   "source": [
    "#72. Test loading a large text file using `np.genfromtxt` and check memory usage.\n"
   ]
  },
  {
   "cell_type": "markdown",
   "id": "5f034748",
   "metadata": {},
   "source": [
    "## Custom File Reading"
   ]
  },
  {
   "cell_type": "code",
   "execution_count": null,
   "id": "df21256c",
   "metadata": {},
   "outputs": [],
   "source": [
    "#73. Create a file-like object in Python, write some text data into it, and load it using `np.genfromtxt`.\n"
   ]
  },
  {
   "cell_type": "markdown",
   "id": "f84b185c",
   "metadata": {},
   "source": [
    "## Use Simple Delimiter"
   ]
  },
  {
   "cell_type": "code",
   "execution_count": null,
   "id": "beca861b",
   "metadata": {},
   "outputs": [],
   "source": [
    "#74. Load a file separated by tabs using `np.genfromtxt` with `delimiter='\\t'`.\n"
   ]
  },
  {
   "cell_type": "markdown",
   "id": "3b7a2a9b",
   "metadata": {},
   "source": [
    "## Handle Complex Delimiter"
   ]
  },
  {
   "cell_type": "code",
   "execution_count": null,
   "id": "1c1bec64",
   "metadata": {},
   "outputs": [],
   "source": [
    "#75. Load a file where data is separated by '||' using a regular expression as the delimiter.\n"
   ]
  },
  {
   "cell_type": "markdown",
   "id": "f9d4137d",
   "metadata": {},
   "source": [
    "## Whitespace Delimiter"
   ]
  },
  {
   "cell_type": "code",
   "execution_count": null,
   "id": "0a39a057",
   "metadata": {},
   "outputs": [],
   "source": [
    "#76. Load a space-separated text file by specifying `delimiter=' '`.\n"
   ]
  },
  {
   "cell_type": "markdown",
   "id": "f9b85e10",
   "metadata": {},
   "source": [
    "## Mixed Delimiters"
   ]
  },
  {
   "cell_type": "code",
   "execution_count": null,
   "id": "15e0419c",
   "metadata": {},
   "outputs": [],
   "source": [
    "#77. Load a file with mixed delimiters, such as a mix of tabs and commas, using a regular expression.\n"
   ]
  },
  {
   "cell_type": "markdown",
   "id": "aeb7778e",
   "metadata": {},
   "source": [
    "## Multiple Character Delimiter"
   ]
  },
  {
   "cell_type": "code",
   "execution_count": null,
   "id": "e342a5c1",
   "metadata": {},
   "outputs": [],
   "source": [
    "#78. Handle a file with delimiters like '###' using a custom regular expression with `np.genfromtxt`.\n"
   ]
  },
  {
   "cell_type": "markdown",
   "id": "0d80edc5",
   "metadata": {},
   "source": [
    "## Skip Header Rows"
   ]
  },
  {
   "cell_type": "code",
   "execution_count": null,
   "id": "ac2478e3",
   "metadata": {},
   "outputs": [],
   "source": [
    "#79. Load a file with a two-line header by skipping the first two rows using `skip_header`.\n"
   ]
  },
  {
   "cell_type": "markdown",
   "id": "664cc9c0",
   "metadata": {},
   "source": [
    "## Skip Footer Rows"
   ]
  },
  {
   "cell_type": "code",
   "execution_count": null,
   "id": "58d33d07",
   "metadata": {},
   "outputs": [],
   "source": [
    "#80. Load a file and skip the last three rows using `np.genfromtxt` with `skip_footer`.\n"
   ]
  },
  {
   "cell_type": "markdown",
   "id": "c077674c",
   "metadata": {},
   "source": [
    "## Select Specific Columns"
   ]
  },
  {
   "cell_type": "code",
   "execution_count": null,
   "id": "2c552b78",
   "metadata": {},
   "outputs": [],
   "source": [
    "#81. Load only the 1st and 3rd columns of a text file using `usecols`.\n"
   ]
  },
  {
   "cell_type": "markdown",
   "id": "3d4eca36",
   "metadata": {},
   "source": [
    "## Ignore Comments"
   ]
  },
  {
   "cell_type": "code",
   "execution_count": null,
   "id": "11831548",
   "metadata": {},
   "outputs": [],
   "source": [
    "#82. Load a file where '#' marks comments, ensuring these lines are ignored.\n"
   ]
  },
  {
   "cell_type": "markdown",
   "id": "a8a69986",
   "metadata": {},
   "source": [
    "## Advanced Skipping"
   ]
  },
  {
   "cell_type": "code",
   "execution_count": null,
   "id": "f0db864d",
   "metadata": {},
   "outputs": [],
   "source": [
    "#83. Skip header rows and read only every second row of a file using advanced arguments.\n"
   ]
  },
  {
   "cell_type": "markdown",
   "id": "de1365e0",
   "metadata": {},
   "source": [
    "## Single Data Type"
   ]
  },
  {
   "cell_type": "code",
   "execution_count": null,
   "id": "b7599a08",
   "metadata": {},
   "outputs": [],
   "source": [
    "#84. Load a text file as a single data type, such as `int`, using the `dtype` argument.\n"
   ]
  },
  {
   "cell_type": "markdown",
   "id": "3980c401",
   "metadata": {},
   "source": [
    "## Mixed Data Types"
   ]
  },
  {
   "cell_type": "code",
   "execution_count": null,
   "id": "618164f8",
   "metadata": {},
   "outputs": [],
   "source": [
    "#85. Use structured data types to load a file with mixed column data (e.g., integers and floats).\n"
   ]
  },
  {
   "cell_type": "markdown",
   "id": "86badca8",
   "metadata": {},
   "source": [
    "## Automatic Data Type Inference"
   ]
  },
  {
   "cell_type": "code",
   "execution_count": null,
   "id": "850d5065",
   "metadata": {},
   "outputs": [],
   "source": [
    "#86. Load a text file with unknown data types and let NumPy infer them automatically.\n"
   ]
  },
  {
   "cell_type": "markdown",
   "id": "3fcff7b7",
   "metadata": {},
   "source": [
    "## Force Data Type Casting"
   ]
  },
  {
   "cell_type": "code",
   "execution_count": null,
   "id": "8d1beaa1",
   "metadata": {},
   "outputs": [],
   "source": [
    "#87. Load a file with numeric data and cast all columns to `float32`.\n"
   ]
  },
  {
   "cell_type": "markdown",
   "id": "5370ff4d",
   "metadata": {},
   "source": [
    "## Use Complex Data Types"
   ]
  },
  {
   "cell_type": "code",
   "execution_count": null,
   "id": "de89023d",
   "metadata": {},
   "outputs": [],
   "source": [
    "#88. Load a file and specify a data type that combines multiple fields, such as `('x', float), ('y', int)`.\n"
   ]
  },
  {
   "cell_type": "markdown",
   "id": "41f5d49c",
   "metadata": {},
   "source": [
    "## Use Header for Names"
   ]
  },
  {
   "cell_type": "code",
   "execution_count": null,
   "id": "ef36e6ce",
   "metadata": {},
   "outputs": [],
   "source": [
    "#89. Load a CSV file where the first row contains column names using `names=True`.\n"
   ]
  },
  {
   "cell_type": "markdown",
   "id": "73ee42f9",
   "metadata": {},
   "source": [
    "## Manual Column Names"
   ]
  },
  {
   "cell_type": "code",
   "execution_count": null,
   "id": "e75155b4",
   "metadata": {},
   "outputs": [],
   "source": [
    "#90. Load a file and manually specify column names using a structured array.\n"
   ]
  },
  {
   "cell_type": "markdown",
   "id": "c010dcdd",
   "metadata": {},
   "source": [
    "## Combine Names and Data"
   ]
  },
  {
   "cell_type": "code",
   "execution_count": null,
   "id": "212ad9b0",
   "metadata": {},
   "outputs": [],
   "source": [
    "#91. Load a text file, use `names=True` to get the header names, and print them along with the data.\n"
   ]
  },
  {
   "cell_type": "markdown",
   "id": "27a9f09f",
   "metadata": {},
   "source": [
    "## Dynamic Column Naming"
   ]
  },
  {
   "cell_type": "code",
   "execution_count": null,
   "id": "9ffbc249",
   "metadata": {},
   "outputs": [],
   "source": [
    "#92. Load a file, extract column names dynamically, and assign them to the structured array.\n"
   ]
  },
  {
   "cell_type": "markdown",
   "id": "d203a36a",
   "metadata": {},
   "source": [
    "## Check Column Name Behavior"
   ]
  },
  {
   "cell_type": "code",
   "execution_count": null,
   "id": "17e237e1",
   "metadata": {},
   "outputs": [],
   "source": [
    "#93. Load a file with duplicate column names and test how NumPy handles them.\n"
   ]
  },
  {
   "cell_type": "markdown",
   "id": "cb27487a",
   "metadata": {},
   "source": [
    "## Custom Converters"
   ]
  },
  {
   "cell_type": "code",
   "execution_count": null,
   "id": "4e3a58f6",
   "metadata": {},
   "outputs": [],
   "source": [
    "#94. Load a file where one column contains dates. Use a converter to transform the dates into a specific format.\n"
   ]
  },
  {
   "cell_type": "markdown",
   "id": "3a2ff225",
   "metadata": {},
   "source": [
    "## Replace Missing Values"
   ]
  },
  {
   "cell_type": "code",
   "execution_count": null,
   "id": "d1d01172",
   "metadata": {},
   "outputs": [],
   "source": [
    "#95. Load a text file with missing values and replace them with -999 using `filling_values`.\n"
   ]
  },
  {
   "cell_type": "markdown",
   "id": "becb7877",
   "metadata": {},
   "source": [
    "## Data Transformation on Load"
   ]
  },
  {
   "cell_type": "code",
   "execution_count": null,
   "id": "845be762",
   "metadata": {},
   "outputs": [],
   "source": [
    "#96. Use a converter to normalize a column of numerical data during file loading.\n"
   ]
  },
  {
   "cell_type": "markdown",
   "id": "ff59e5d9",
   "metadata": {},
   "source": [
    "## String Conversion"
   ]
  },
  {
   "cell_type": "code",
   "execution_count": null,
   "id": "30e5b536",
   "metadata": {},
   "outputs": [],
   "source": [
    "#97. Load a file with mixed data types and use a converter to trim extra spaces in string columns.\n"
   ]
  },
  {
   "cell_type": "markdown",
   "id": "c1aff383",
   "metadata": {},
   "source": [
    "## Custom Replacement Logic"
   ]
  },
  {
   "cell_type": "code",
   "execution_count": null,
   "id": "f085d41c",
   "metadata": {},
   "outputs": [],
   "source": [
    "#98. Replace missing values in a dataset with the column's mean during the load process.\n"
   ]
  },
  {
   "cell_type": "markdown",
   "id": "ba707bd2",
   "metadata": {},
   "source": [
    "## DTypes"
   ]
  },
  {
   "cell_type": "code",
   "execution_count": null,
   "id": "08004a8e",
   "metadata": {},
   "outputs": [],
   "source": [
    "#99. Data types, Array types and conversions, NumPy numerical types, Relationship with C types, Array scalars, Overflow errors, np.iinfo, np.finfo, Extended precision, astype(), Structured arrays, Type casting, np.issubdtype(), Bit-sized data types, Overflow in complex numbers, Arrays with null bytes, Large integers to floats.\n"
   ]
  },
  {
   "cell_type": "markdown",
   "id": "8b454d57",
   "metadata": {},
   "source": [
    "## Creating Arrays with Specific Data Types"
   ]
  },
  {
   "cell_type": "code",
   "execution_count": null,
   "id": "82949c34",
   "metadata": {},
   "outputs": [],
   "source": [
    "#100. Create a 1D array with the dtype set to np.int32 and print the dtype of the resulting array.\n"
   ]
  },
  {
   "cell_type": "markdown",
   "id": "fd4fe918",
   "metadata": {},
   "source": [
    "## Array Types and Conversions between Types"
   ]
  },
  {
   "cell_type": "code",
   "execution_count": null,
   "id": "b2a62277",
   "metadata": {},
   "outputs": [],
   "source": [
    "#101. Create a 1D array with integers and convert the dtype to np.float64 using the astype() method.\n"
   ]
  },
  {
   "cell_type": "markdown",
   "id": "3f3e4125",
   "metadata": {},
   "source": [
    "## Using NumPy Data Types"
   ]
  },
  {
   "cell_type": "code",
   "execution_count": null,
   "id": "643569e9",
   "metadata": {},
   "outputs": [],
   "source": [
    "#102. Create an array with dtype=np.uint8, and print its values to confirm it stores unsigned 8-bit integers.\n"
   ]
  },
  {
   "cell_type": "markdown",
   "id": "5463b13c",
   "metadata": {},
   "source": [
    "## Creating Arrays with String Data Types"
   ]
  },
  {
   "cell_type": "code",
   "execution_count": null,
   "id": "1813ed30",
   "metadata": {},
   "outputs": [],
   "source": [
    "#103. Create a 1D array of strings with dtype='U10' to store 10-character unicode strings.\n"
   ]
  },
  {
   "cell_type": "markdown",
   "id": "6cb04010",
   "metadata": {},
   "source": [
    "## Handling Mixed Data Types in Arrays"
   ]
  },
  {
   "cell_type": "code",
   "execution_count": null,
   "id": "ab4af709",
   "metadata": {},
   "outputs": [],
   "source": [
    "#104. Create a structured array with two fields: one of type np.int32 and the other of type np.float64.\n"
   ]
  },
  {
   "cell_type": "markdown",
   "id": "baafc40c",
   "metadata": {},
   "source": [
    "## Array Scalars and Python Scalars"
   ]
  },
  {
   "cell_type": "code",
   "execution_count": null,
   "id": "5d83e730",
   "metadata": {},
   "outputs": [],
   "source": [
    "#105. Access an element in a numpy array and compare it with a Python scalar using == to check if they behave similarly.\n"
   ]
  },
  {
   "cell_type": "markdown",
   "id": "fe2c5870",
   "metadata": {},
   "source": [
    "## Overflow Errors and Data Types"
   ]
  },
  {
   "cell_type": "code",
   "execution_count": null,
   "id": "31b2b6cb",
   "metadata": {},
   "outputs": [],
   "source": [
    "#106. Attempt a calculation that causes an overflow error, for example, multiplying large numbers with np.int32.\n"
   ]
  },
  {
   "cell_type": "markdown",
   "id": "65d0c619",
   "metadata": {},
   "source": [
    "## Using np.iinfo for Integer Type Bounds"
   ]
  },
  {
   "cell_type": "code",
   "execution_count": null,
   "id": "edb84b2a",
   "metadata": {},
   "outputs": [],
   "source": [
    "#107. Use np.iinfo() to get the min and max bounds for a 32-bit integer (np.int32) and a 64-bit integer (np.int64).\n"
   ]
  },
  {
   "cell_type": "markdown",
   "id": "aa108358",
   "metadata": {},
   "source": [
    "## Using np.finfo for Floating Point Bounds"
   ]
  },
  {
   "cell_type": "code",
   "execution_count": null,
   "id": "ffb54334",
   "metadata": {},
   "outputs": [],
   "source": [
    "#108. Use np.finfo() to display the smallest and largest values of np.float32.\n"
   ]
  },
  {
   "cell_type": "markdown",
   "id": "97ecb963",
   "metadata": {},
   "source": [
    "## Working with Extended Precision"
   ]
  },
  {
   "cell_type": "code",
   "execution_count": null,
   "id": "af65d0ab",
   "metadata": {},
   "outputs": [],
   "source": [
    "#109. Create an array of np.longdouble and check if it has more precision than np.float64 by comparing both types.\n"
   ]
  },
  {
   "cell_type": "markdown",
   "id": "7a3ba4a9",
   "metadata": {},
   "source": [
    "## Handling Unicode Strings with NumPy"
   ]
  },
  {
   "cell_type": "code",
   "execution_count": null,
   "id": "c23dc0f6",
   "metadata": {},
   "outputs": [],
   "source": [
    "#110. Create a numpy array of strings with dtype 'U5' and demonstrate how it truncates or pads strings.\n"
   ]
  },
  {
   "cell_type": "markdown",
   "id": "73b00015",
   "metadata": {},
   "source": [
    "## Handling Byte Sequences with NumPy"
   ]
  },
  {
   "cell_type": "code",
   "execution_count": null,
   "id": "64f75743",
   "metadata": {},
   "outputs": [],
   "source": [
    "#111. Create a numpy array with dtype 'S7' to store byte sequences and observe how it handles null padding.\n"
   ]
  },
  {
   "cell_type": "markdown",
   "id": "f4e34ca5",
   "metadata": {},
   "source": [
    "## Converting Between Data Types Using astype()"
   ]
  },
  {
   "cell_type": "code",
   "execution_count": null,
   "id": "f8f0dea0",
   "metadata": {},
   "outputs": [],
   "source": [
    "#112. Create a numpy array with integers and use the astype() method to convert it to a complex number type.\n"
   ]
  },
  {
   "cell_type": "markdown",
   "id": "2471c613",
   "metadata": {},
   "source": [
    "## Exploring Data Types for C Integration"
   ]
  },
  {
   "cell_type": "code",
   "execution_count": null,
   "id": "12c47154",
   "metadata": {},
   "outputs": [],
   "source": [
    "#113. Use numpy.int8 and numpy.int16 to create arrays and print the corresponding C-like types.\n"
   ]
  },
  {
   "cell_type": "markdown",
   "id": "1d3d79ea",
   "metadata": {},
   "source": [
    "## Investigating Data Type Alignment and Memory Usage"
   ]
  },
  {
   "cell_type": "code",
   "execution_count": null,
   "id": "1edf0b48",
   "metadata": {},
   "outputs": [],
   "source": [
    "#114. Create an array of np.float128 and inspect how it aligns in memory by checking its memory size and alignment.\n"
   ]
  },
  {
   "cell_type": "markdown",
   "id": "b466860c",
   "metadata": {},
   "source": [
    "## Using Structured Arrays for Complex Data"
   ]
  },
  {
   "cell_type": "code",
   "execution_count": null,
   "id": "d6212a2c",
   "metadata": {},
   "outputs": [],
   "source": [
    "#115. Create a structured array with two fields: one as an integer and the other as a string, and access both fields.\n"
   ]
  },
  {
   "cell_type": "markdown",
   "id": "0cdf7274",
   "metadata": {},
   "source": [
    "## Handling Missing Values in Arrays"
   ]
  },
  {
   "cell_type": "code",
   "execution_count": null,
   "id": "3e0e9faf",
   "metadata": {},
   "outputs": [],
   "source": [
    "#116. Create a numpy array with missing values (np.nan) and use numpy functions like np.isnan() to detect them.\n"
   ]
  },
  {
   "cell_type": "markdown",
   "id": "2e191e1e",
   "metadata": {},
   "source": [
    "## Exploring Complex Numbers in NumPy"
   ]
  },
  {
   "cell_type": "code",
   "execution_count": null,
   "id": "90e97fda",
   "metadata": {},
   "outputs": [],
   "source": [
    "#117. Create a numpy array of complex numbers (dtype=np.complex128) and perform some basic operations on them.\n"
   ]
  },
  {
   "cell_type": "markdown",
   "id": "5ef16905",
   "metadata": {},
   "source": [
    "## Working with Large Integer Types"
   ]
  },
  {
   "cell_type": "code",
   "execution_count": null,
   "id": "dae10c28",
   "metadata": {},
   "outputs": [],
   "source": [
    "#118. Try using numpy.int64 for large integers and perform an arithmetic operation that would overflow in 32-bit integers.\n"
   ]
  },
  {
   "cell_type": "markdown",
   "id": "c0840671",
   "metadata": {},
   "source": [
    "## Type Casting with NumPy Data Types"
   ]
  },
  {
   "cell_type": "code",
   "execution_count": null,
   "id": "180cde34",
   "metadata": {},
   "outputs": [],
   "source": [
    "#119. Create an array with np.float32 and cast it to np.int32 using the astype() method, then compare the result.\n"
   ]
  },
  {
   "cell_type": "markdown",
   "id": "92348a84",
   "metadata": {},
   "source": [
    "## Accessing and Modifying Array Scalars"
   ]
  },
  {
   "cell_type": "code",
   "execution_count": null,
   "id": "c2912b41",
   "metadata": {},
   "outputs": [],
   "source": [
    "#120. Create a numpy array and access an element, then modify it directly using array indexing.\n"
   ]
  },
  {
   "cell_type": "markdown",
   "id": "da8d5223",
   "metadata": {},
   "source": [
    "## Comparing Dtype Objects with np.issubdtype()"
   ]
  },
  {
   "cell_type": "code",
   "execution_count": null,
   "id": "1e23f191",
   "metadata": {},
   "outputs": [],
   "source": [
    "#121. Use np.issubdtype() to check if a numpy array's dtype is an integer or floating point.\n"
   ]
  },
  {
   "cell_type": "markdown",
   "id": "fd25ee30",
   "metadata": {},
   "source": [
    "## Creating Arrays with Specific Bit-Sized Data Types"
   ]
  },
  {
   "cell_type": "code",
   "execution_count": null,
   "id": "03f920c5",
   "metadata": {},
   "outputs": [],
   "source": [
    "#122. Create a numpy array with dtype='int8' and check its size in memory.\n"
   ]
  },
  {
   "cell_type": "markdown",
   "id": "8605a44f",
   "metadata": {},
   "source": [
    "## Using np.float16 for Reduced Precision"
   ]
  },
  {
   "cell_type": "code",
   "execution_count": null,
   "id": "be25347a",
   "metadata": {},
   "outputs": [],
   "source": [
    "#123. Create an array with np.float16 and perform arithmetic operations to observe the behavior of reduced precision.\n"
   ]
  },
  {
   "cell_type": "markdown",
   "id": "8e885891",
   "metadata": {},
   "source": [
    "## Handling Complex Array Scalars"
   ]
  },
  {
   "cell_type": "code",
   "execution_count": null,
   "id": "fa5111ac",
   "metadata": {},
   "outputs": [],
   "source": [
    "#124. Access a complex number from an array and print its real and imaginary parts separately.\n"
   ]
  },
  {
   "cell_type": "markdown",
   "id": "be8078c5",
   "metadata": {},
   "source": [
    "## Converting Array Types Based on Hardware"
   ]
  },
  {
   "cell_type": "code",
   "execution_count": null,
   "id": "c03dfbc2",
   "metadata": {},
   "outputs": [],
   "source": [
    "#125. Check the size of np.intp on different platforms and how it changes with the CPU architecture.\n"
   ]
  },
  {
   "cell_type": "markdown",
   "id": "61f41cd1",
   "metadata": {},
   "source": [
    "## Creating Arrays of Fixed Width"
   ]
  },
  {
   "cell_type": "code",
   "execution_count": null,
   "id": "16d05a76",
   "metadata": {},
   "outputs": [],
   "source": [
    "#126. Create an array of strings with a fixed width and demonstrate truncation or padding when the string is too long or short.\n"
   ]
  },
  {
   "cell_type": "markdown",
   "id": "05693559",
   "metadata": {},
   "source": [
    "## Working with Platform-Dependent Data Types"
   ]
  },
  {
   "cell_type": "code",
   "execution_count": null,
   "id": "a3af0615",
   "metadata": {},
   "outputs": [],
   "source": [
    "#127. Create arrays with numpy.intp and numpy.uintp and verify their size based on your system's architecture.\n"
   ]
  },
  {
   "cell_type": "markdown",
   "id": "7d60bb4e",
   "metadata": {},
   "source": [
    "## Overflow in Complex Number Operations"
   ]
  },
  {
   "cell_type": "code",
   "execution_count": null,
   "id": "cdfe7a4e",
   "metadata": {},
   "outputs": [],
   "source": [
    "#128. Perform an operation that results in an overflow error for complex numbers using np.complex128.\n"
   ]
  },
  {
   "cell_type": "markdown",
   "id": "1968f41e",
   "metadata": {},
   "source": [
    "## Exploring Memory Alignment with np.longdouble"
   ]
  },
  {
   "cell_type": "code",
   "execution_count": null,
   "id": "d200a227",
   "metadata": {},
   "outputs": [],
   "source": [
    "#129. Create a numpy array with np.longdouble and verify its memory alignment with system-specific behavior.\n"
   ]
  },
  {
   "cell_type": "markdown",
   "id": "3e42c09e",
   "metadata": {},
   "source": [
    "## Handling Arrays with Null Bytes"
   ]
  },
  {
   "cell_type": "code",
   "execution_count": null,
   "id": "15ec034a",
   "metadata": {},
   "outputs": [],
   "source": [
    "#130. Create an array of byte sequences and observe how NumPy handles null bytes when using dtype='S7'.\n"
   ]
  },
  {
   "cell_type": "markdown",
   "id": "17085364",
   "metadata": {},
   "source": [
    "## Using np.void for Arbitrary Byte Sequences"
   ]
  },
  {
   "cell_type": "code",
   "execution_count": null,
   "id": "77e8eb71",
   "metadata": {},
   "outputs": [],
   "source": [
    "#131. Create an array of arbitrary byte sequences using dtype='V7' and check how the void type handles these sequences.\n"
   ]
  },
  {
   "cell_type": "markdown",
   "id": "6e12df99",
   "metadata": {},
   "source": [
    "## Handling Inconsistent Array Lengths in String Arrays"
   ]
  },
  {
   "cell_type": "code",
   "execution_count": null,
   "id": "07111247",
   "metadata": {},
   "outputs": [],
   "source": [
    "#132. Create a numpy array with strings of different lengths and experiment with padding and truncation.\n"
   ]
  },
  {
   "cell_type": "markdown",
   "id": "b05e48a0",
   "metadata": {},
   "source": [
    "## Converting Large Integers to Floats"
   ]
  },
  {
   "cell_type": "code",
   "execution_count": null,
   "id": "1e046834",
   "metadata": {},
   "outputs": [],
   "source": [
    "#133. Create a large integer array, convert it to a float array using astype(), and observe how precision is affected.\n"
   ]
  },
  {
   "cell_type": "markdown",
   "id": "8a7155e8",
   "metadata": {},
   "source": [
    "## Handling C Data Types in NumPy Arrays"
   ]
  },
  {
   "cell_type": "code",
   "execution_count": null,
   "id": "6eb15669",
   "metadata": {},
   "outputs": [],
   "source": [
    "#134. Explore how NumPy handles specific C data types like signed char (np.int8) and unsigned char (np.uint8).\n"
   ]
  },
  {
   "cell_type": "markdown",
   "id": "34afb032",
   "metadata": {},
   "source": [
    "## data"
   ]
  },
  {
   "cell_type": "code",
   "execution_count": null,
   "id": "7611e7f5",
   "metadata": {},
   "outputs": [],
   "source": [
    "#135. Create a 1D array with the dtype set to np.int32 and print the dtype of the resulting array.\n"
   ]
  },
  {
   "cell_type": "markdown",
   "id": "8cb0ee83",
   "metadata": {},
   "source": [
    "## data"
   ]
  },
  {
   "cell_type": "code",
   "execution_count": null,
   "id": "040a6e94",
   "metadata": {},
   "outputs": [],
   "source": [
    "#136. Create a 1D array with integers and convert the dtype to np.float64 using the astype() method.\n"
   ]
  },
  {
   "cell_type": "markdown",
   "id": "45c2db00",
   "metadata": {},
   "source": [
    "## data"
   ]
  },
  {
   "cell_type": "code",
   "execution_count": null,
   "id": "ca1555bc",
   "metadata": {},
   "outputs": [],
   "source": [
    "#137. Create a 1D array with dtype=np.uint8, and print its values to confirm it stores unsigned 8-bit integers.\n"
   ]
  },
  {
   "cell_type": "markdown",
   "id": "32893f2d",
   "metadata": {},
   "source": [
    "## data"
   ]
  },
  {
   "cell_type": "code",
   "execution_count": null,
   "id": "6bc644e0",
   "metadata": {},
   "outputs": [],
   "source": [
    "#138. Create a 1D array of strings with dtype='U10' to store 10-character unicode strings.\n"
   ]
  },
  {
   "cell_type": "markdown",
   "id": "67624f12",
   "metadata": {},
   "source": [
    "## Array Types and Conversions"
   ]
  },
  {
   "cell_type": "code",
   "execution_count": null,
   "id": "c38a599f",
   "metadata": {},
   "outputs": [],
   "source": [
    "#139. Create a structured array with two fields: one of type np.int32 and the other of type np.float64.\n"
   ]
  },
  {
   "cell_type": "markdown",
   "id": "e7b16090",
   "metadata": {},
   "source": [
    "## Array Types and Conversions"
   ]
  },
  {
   "cell_type": "code",
   "execution_count": null,
   "id": "b1748a7a",
   "metadata": {},
   "outputs": [],
   "source": [
    "#140. Access an element in a numpy array and compare it with a Python scalar using == to check if they behave similarly.\n"
   ]
  },
  {
   "cell_type": "markdown",
   "id": "6e05b930",
   "metadata": {},
   "source": [
    "## Array Types and Conversions"
   ]
  },
  {
   "cell_type": "code",
   "execution_count": null,
   "id": "abc95aeb",
   "metadata": {},
   "outputs": [],
   "source": [
    "#141. Attempt a calculation that causes an overflow error, for example, multiplying large numbers with np.int32.\n"
   ]
  },
  {
   "cell_type": "markdown",
   "id": "24650792",
   "metadata": {},
   "source": [
    "## Array Types and Conversions"
   ]
  },
  {
   "cell_type": "code",
   "execution_count": null,
   "id": "c53f800a",
   "metadata": {},
   "outputs": [],
   "source": [
    "#142. Use np.iinfo() to get the min and max bounds for a 32-bit integer (np.int32) and a 64-bit integer (np.int64).\n"
   ]
  },
  {
   "cell_type": "markdown",
   "id": "28983062",
   "metadata": {},
   "source": [
    "## NumPy numerical types"
   ]
  },
  {
   "cell_type": "code",
   "execution_count": null,
   "id": "04853852",
   "metadata": {},
   "outputs": [],
   "source": [
    "#143. Use np.finfo() to display the smallest and largest values of np.float32.\n"
   ]
  },
  {
   "cell_type": "markdown",
   "id": "2be164f0",
   "metadata": {},
   "source": [
    "## NumPy numerical types"
   ]
  },
  {
   "cell_type": "code",
   "execution_count": null,
   "id": "0a5b86f7",
   "metadata": {},
   "outputs": [],
   "source": [
    "#144. Create an array of np.longdouble and check if it has more precision than np.float64 by comparing both types.\n"
   ]
  },
  {
   "cell_type": "markdown",
   "id": "d3f2e95f",
   "metadata": {},
   "source": [
    "## NumPy numerical types"
   ]
  },
  {
   "cell_type": "code",
   "execution_count": null,
   "id": "fc361691",
   "metadata": {},
   "outputs": [],
   "source": [
    "#145. Create a numpy array of strings with dtype 'U5' and demonstrate how it truncates or pads strings.\n"
   ]
  },
  {
   "cell_type": "markdown",
   "id": "56c0b1de",
   "metadata": {},
   "source": [
    "## NumPy numerical types"
   ]
  },
  {
   "cell_type": "code",
   "execution_count": null,
   "id": "7679143d",
   "metadata": {},
   "outputs": [],
   "source": [
    "#146. Create a numpy array with dtype 'S7' to store byte sequences and observe how it handles null padding.\n"
   ]
  },
  {
   "cell_type": "markdown",
   "id": "75282da1",
   "metadata": {},
   "source": [
    "##  Relationship with C types"
   ]
  },
  {
   "cell_type": "code",
   "execution_count": null,
   "id": "bcaeb848",
   "metadata": {},
   "outputs": [],
   "source": [
    "#147. Create a numpy array with np.float32 and convert it to a complex number type using astype().\n"
   ]
  },
  {
   "cell_type": "markdown",
   "id": "df127cb2",
   "metadata": {},
   "source": [
    "##  Relationship with C types"
   ]
  },
  {
   "cell_type": "code",
   "execution_count": null,
   "id": "f62e6bbb",
   "metadata": {},
   "outputs": [],
   "source": [
    "#148. Use numpy.int8 and numpy.int16 to create arrays and print the corresponding C-like types.\n"
   ]
  },
  {
   "cell_type": "markdown",
   "id": "3993d648",
   "metadata": {},
   "source": [
    "##  Relationship with C types"
   ]
  },
  {
   "cell_type": "code",
   "execution_count": null,
   "id": "2c7b1dcd",
   "metadata": {},
   "outputs": [],
   "source": [
    "#149. Create an array of np.float128 and inspect how it aligns in memory by checking its memory size and alignment.\n"
   ]
  },
  {
   "cell_type": "markdown",
   "id": "8f1358d2",
   "metadata": {},
   "source": [
    "##  Relationship with C types"
   ]
  },
  {
   "cell_type": "code",
   "execution_count": null,
   "id": "b29f2c3b",
   "metadata": {},
   "outputs": [],
   "source": [
    "#150. Create a structured array with two fields: one as an integer and the other as a string, and access both fields.\n"
   ]
  },
  {
   "cell_type": "markdown",
   "id": "bf5367af",
   "metadata": {},
   "source": [
    "## Array scalars"
   ]
  },
  {
   "cell_type": "code",
   "execution_count": null,
   "id": "61d4480d",
   "metadata": {},
   "outputs": [],
   "source": [
    "#151. Create a numpy array with missing values (np.nan) and use numpy functions like np.isnan() to detect them.\n"
   ]
  },
  {
   "cell_type": "markdown",
   "id": "e4ba23da",
   "metadata": {},
   "source": [
    "## Array scalars"
   ]
  },
  {
   "cell_type": "code",
   "execution_count": null,
   "id": "4c105dd4",
   "metadata": {},
   "outputs": [],
   "source": [
    "#152. Create a numpy array of complex numbers (dtype=np.complex128) and perform some basic operations on them.\n"
   ]
  },
  {
   "cell_type": "markdown",
   "id": "ad8a9953",
   "metadata": {},
   "source": [
    "## Array scalars"
   ]
  },
  {
   "cell_type": "code",
   "execution_count": null,
   "id": "a821ca41",
   "metadata": {},
   "outputs": [],
   "source": [
    "#153. Try using numpy.int64 for large integers and perform an arithmetic operation that would overflow in 32-bit integers.\n"
   ]
  },
  {
   "cell_type": "markdown",
   "id": "d4428a06",
   "metadata": {},
   "source": [
    "## Array scalars"
   ]
  },
  {
   "cell_type": "code",
   "execution_count": null,
   "id": "ee31badd",
   "metadata": {},
   "outputs": [],
   "source": [
    "#154. Create an array with np.float32 and cast it to np.int32 using the astype() method, then compare the result.\n"
   ]
  },
  {
   "cell_type": "markdown",
   "id": "7d9bd277",
   "metadata": {},
   "source": [
    "## Overflow errors"
   ]
  },
  {
   "cell_type": "code",
   "execution_count": null,
   "id": "552e6b0f",
   "metadata": {},
   "outputs": [],
   "source": [
    "#155. Create a numpy array and access an element, then modify it directly using array indexing.\n"
   ]
  },
  {
   "cell_type": "markdown",
   "id": "249be8a1",
   "metadata": {},
   "source": [
    "## Overflow errors"
   ]
  },
  {
   "cell_type": "code",
   "execution_count": null,
   "id": "3be19789",
   "metadata": {},
   "outputs": [],
   "source": [
    "#156. Use np.issubdtype() to check if a numpy array's dtype is an integer or floating point.\n"
   ]
  },
  {
   "cell_type": "markdown",
   "id": "3b9bc8cb",
   "metadata": {},
   "source": [
    "## Overflow errors"
   ]
  },
  {
   "cell_type": "code",
   "execution_count": null,
   "id": "0abebab4",
   "metadata": {},
   "outputs": [],
   "source": [
    "#157. Create a numpy array with dtype='int8' and check its size in memory.\n"
   ]
  },
  {
   "cell_type": "markdown",
   "id": "33270fe6",
   "metadata": {},
   "source": [
    "## Overflow errors"
   ]
  },
  {
   "cell_type": "code",
   "execution_count": null,
   "id": "9a8fa726",
   "metadata": {},
   "outputs": [],
   "source": [
    "#158. Create an array with np.float16 and perform arithmetic operations to observe the behavior of reduced precision.\n"
   ]
  },
  {
   "cell_type": "markdown",
   "id": "cf959058",
   "metadata": {},
   "source": [
    "## np.iinfo"
   ]
  },
  {
   "cell_type": "code",
   "execution_count": null,
   "id": "5866575a",
   "metadata": {},
   "outputs": [],
   "source": [
    "#159. Access a complex number from an array and print its real and imaginary parts separately.\n"
   ]
  },
  {
   "cell_type": "markdown",
   "id": "4b0d0846",
   "metadata": {},
   "source": [
    "## np.iinfo"
   ]
  },
  {
   "cell_type": "code",
   "execution_count": null,
   "id": "4de782fb",
   "metadata": {},
   "outputs": [],
   "source": [
    "#160. Check the size of np.intp on different platforms and how it changes with the CPU architecture.\n"
   ]
  },
  {
   "cell_type": "markdown",
   "id": "be925ef1",
   "metadata": {},
   "source": [
    "## np.iinfo"
   ]
  },
  {
   "cell_type": "code",
   "execution_count": null,
   "id": "7858a612",
   "metadata": {},
   "outputs": [],
   "source": [
    "#161. Create an array of strings with a fixed width and demonstrate truncation or padding when the string is too long or short.\n"
   ]
  },
  {
   "cell_type": "markdown",
   "id": "03b66c11",
   "metadata": {},
   "source": [
    "## np.iinfo"
   ]
  },
  {
   "cell_type": "code",
   "execution_count": null,
   "id": "49103565",
   "metadata": {},
   "outputs": [],
   "source": [
    "#162. Create arrays with numpy.intp and numpy.uintp and verify their size based on your system's architecture.\n"
   ]
  },
  {
   "cell_type": "markdown",
   "id": "e489efeb",
   "metadata": {},
   "source": [
    "## np.finfo"
   ]
  },
  {
   "cell_type": "code",
   "execution_count": null,
   "id": "22c425a9",
   "metadata": {},
   "outputs": [],
   "source": [
    "#163. Perform an operation that results in an overflow error for complex numbers using np.complex128.\n"
   ]
  },
  {
   "cell_type": "markdown",
   "id": "f387e60d",
   "metadata": {},
   "source": [
    "## np.finfo"
   ]
  },
  {
   "cell_type": "code",
   "execution_count": null,
   "id": "5e9e8ae3",
   "metadata": {},
   "outputs": [],
   "source": [
    "#164. Create a numpy array with np.longdouble and verify its memory alignment with system-specific behavior.\n"
   ]
  },
  {
   "cell_type": "markdown",
   "id": "6f738704",
   "metadata": {},
   "source": [
    "## np.finfo"
   ]
  },
  {
   "cell_type": "code",
   "execution_count": null,
   "id": "3102e0a4",
   "metadata": {},
   "outputs": [],
   "source": [
    "#165. Create an array of byte sequences and observe how NumPy handles null bytes when using dtype='S7'.\n"
   ]
  },
  {
   "cell_type": "markdown",
   "id": "c7f113fb",
   "metadata": {},
   "source": [
    "## np.finfo"
   ]
  },
  {
   "cell_type": "code",
   "execution_count": null,
   "id": "af6f99b7",
   "metadata": {},
   "outputs": [],
   "source": [
    "#166. Create an array of arbitrary byte sequences using dtype='V7' and check how the void type handles these sequences.\n"
   ]
  },
  {
   "cell_type": "markdown",
   "id": "e4a784be",
   "metadata": {},
   "source": [
    "## Extended precision"
   ]
  },
  {
   "cell_type": "code",
   "execution_count": null,
   "id": "3f1ead53",
   "metadata": {},
   "outputs": [],
   "source": [
    "#167. Create a numpy array with strings of different lengths and experiment with padding and truncation.\n"
   ]
  },
  {
   "cell_type": "markdown",
   "id": "11336740",
   "metadata": {},
   "source": [
    "## Extended precision"
   ]
  },
  {
   "cell_type": "code",
   "execution_count": null,
   "id": "5162c4fc",
   "metadata": {},
   "outputs": [],
   "source": [
    "#168. Create a large integer array, convert it to a float array using astype(), and observe how precision is affected.\n"
   ]
  },
  {
   "cell_type": "markdown",
   "id": "d2e6d99e",
   "metadata": {},
   "source": [
    "## Extended precision"
   ]
  },
  {
   "cell_type": "code",
   "execution_count": null,
   "id": "914f4267",
   "metadata": {},
   "outputs": [],
   "source": [
    "#169. Explore how NumPy handles specific C data types like signed char (np.int8) and unsigned char (np.uint8).\n"
   ]
  },
  {
   "cell_type": "markdown",
   "id": "21e249a0",
   "metadata": {},
   "source": [
    "## #Broadcasting"
   ]
  },
  {
   "cell_type": "code",
   "execution_count": null,
   "id": "602b2ba8",
   "metadata": {},
   "outputs": [],
   "source": [
    "#170. ###Introduction to Broadcasting, Broadcasting Rules, Examples of Broadcasting, Shape of the Resulting Array, Broadcasting in Operations, Broadcasting with Higher Dimensional Arrays, Edge Cases in Broadcasting, Practical Use Cases of Broadcasting, Advanced Broadcasting\n"
   ]
  },
  {
   "cell_type": "markdown",
   "id": "13a43560",
   "metadata": {},
   "source": [
    "## Introduction to Broadcasting"
   ]
  },
  {
   "cell_type": "code",
   "execution_count": null,
   "id": "80585e0c",
   "metadata": {},
   "outputs": [],
   "source": [
    "#171. Create a 1D array and a 2D array, then perform element-wise addition to observe how broadcasting works.\n"
   ]
  },
  {
   "cell_type": "markdown",
   "id": "004ea2d3",
   "metadata": {},
   "source": [
    "## Introduction to Broadcasting"
   ]
  },
  {
   "cell_type": "code",
   "execution_count": null,
   "id": "0c7c8b6f",
   "metadata": {},
   "outputs": [],
   "source": [
    "#172. Multiply a scalar with a 2D array and verify the result to understand scalar broadcasting.\n"
   ]
  },
  {
   "cell_type": "markdown",
   "id": "ab199769",
   "metadata": {},
   "source": [
    "## Broadcasting Rules"
   ]
  },
  {
   "cell_type": "code",
   "execution_count": null,
   "id": "a440c08a",
   "metadata": {},
   "outputs": [],
   "source": [
    "#173. Create two arrays of shapes (3, 1) and (1, 4), and perform addition to understand the alignment of dimensions.\n"
   ]
  },
  {
   "cell_type": "markdown",
   "id": "0fadc18d",
   "metadata": {},
   "source": [
    "## Broadcasting Rules"
   ]
  },
  {
   "cell_type": "code",
   "execution_count": null,
   "id": "75a49491",
   "metadata": {},
   "outputs": [],
   "source": [
    "#174. Attempt to broadcast two incompatible arrays and observe the resulting error message.\n"
   ]
  },
  {
   "cell_type": "markdown",
   "id": "d6788cb6",
   "metadata": {},
   "source": [
    "## Examples of Broadcasting"
   ]
  },
  {
   "cell_type": "code",
   "execution_count": null,
   "id": "f5c94811",
   "metadata": {},
   "outputs": [],
   "source": [
    "#175. Create two arrays of shapes (3,) and (3, 1), and add them together to create a 2D result.\n"
   ]
  },
  {
   "cell_type": "markdown",
   "id": "bc8c08ce",
   "metadata": {},
   "source": [
    "## Examples of Broadcasting"
   ]
  },
  {
   "cell_type": "code",
   "execution_count": null,
   "id": "f87b9cc7",
   "metadata": {},
   "outputs": [],
   "source": [
    "#176. Multiply a 1D array with a 2D array where one of the dimensions matches and observe the output.\n"
   ]
  },
  {
   "cell_type": "markdown",
   "id": "55980a96",
   "metadata": {},
   "source": [
    "## Shape of the Resulting Array"
   ]
  },
  {
   "cell_type": "code",
   "execution_count": null,
   "id": "6db0c4bf",
   "metadata": {},
   "outputs": [],
   "source": [
    "#177. Create arrays of shapes (2, 3) and (3,) and perform element-wise addition. Check the resulting shape.\n"
   ]
  },
  {
   "cell_type": "markdown",
   "id": "2a1045fa",
   "metadata": {},
   "source": [
    "## Shape of the Resulting Array"
   ]
  },
  {
   "cell_type": "code",
   "execution_count": null,
   "id": "18ec9088",
   "metadata": {},
   "outputs": [],
   "source": [
    "#178. Perform subtraction between arrays of shapes (3, 1) and (1, 4). Verify the resulting array�s shape.\n"
   ]
  },
  {
   "cell_type": "markdown",
   "id": "f3423e78",
   "metadata": {},
   "source": [
    "## Broadcasting in Operations"
   ]
  },
  {
   "cell_type": "code",
   "execution_count": null,
   "id": "29bbdf46",
   "metadata": {},
   "outputs": [],
   "source": [
    "#179. Use broadcasting to perform element-wise division of a 2D array by a 1D array.\n"
   ]
  },
  {
   "cell_type": "markdown",
   "id": "d9e904ee",
   "metadata": {},
   "source": [
    "## Broadcasting in Operations"
   ]
  },
  {
   "cell_type": "code",
   "execution_count": null,
   "id": "b6fd2f06",
   "metadata": {},
   "outputs": [],
   "source": [
    "#180. Perform matrix multiplication on arrays of shapes (3, 4) and (4,) to observe how broadcasting applies.\n"
   ]
  },
  {
   "cell_type": "markdown",
   "id": "44fa6d4c",
   "metadata": {},
   "source": [
    "## Broadcasting with Higher Dimensional Arrays"
   ]
  },
  {
   "cell_type": "code",
   "execution_count": null,
   "id": "1ade5bb1",
   "metadata": {},
   "outputs": [],
   "source": [
    "#181. Create arrays of shapes (2, 3, 1) and (1, 3, 4) and perform element-wise multiplication.\n"
   ]
  },
  {
   "cell_type": "markdown",
   "id": "834422d5",
   "metadata": {},
   "source": [
    "## Broadcasting with Higher Dimensional Arrays"
   ]
  },
  {
   "cell_type": "code",
   "execution_count": null,
   "id": "55e2530e",
   "metadata": {},
   "outputs": [],
   "source": [
    "#182. Add two arrays of shapes (1, 4, 1) and (3, 1, 2). Verify the resulting shape.\n"
   ]
  },
  {
   "cell_type": "markdown",
   "id": "e0924d8b",
   "metadata": {},
   "source": [
    "## Edge Cases in Broadcasting"
   ]
  },
  {
   "cell_type": "code",
   "execution_count": null,
   "id": "e141f138",
   "metadata": {},
   "outputs": [],
   "source": [
    "#183. Attempt to add two arrays of shapes (3, 4) and (4, 3) and interpret the error message.\n"
   ]
  },
  {
   "cell_type": "markdown",
   "id": "b20b3049",
   "metadata": {},
   "source": [
    "## Edge Cases in Broadcasting"
   ]
  },
  {
   "cell_type": "code",
   "execution_count": null,
   "id": "251774ac",
   "metadata": {},
   "outputs": [],
   "source": [
    "#184. Create arrays with shapes (3, 1) and (1, 1, 4) and add them. Verify how broadcasting works across multiple dimensions.\n"
   ]
  },
  {
   "cell_type": "markdown",
   "id": "ac39a677",
   "metadata": {},
   "source": [
    "## Practical Use Cases of Broadcasting"
   ]
  },
  {
   "cell_type": "code",
   "execution_count": null,
   "id": "d2375d17",
   "metadata": {},
   "outputs": [],
   "source": [
    "#185. Normalize a 2D array by dividing each row by its maximum value using broadcasting.\n"
   ]
  },
  {
   "cell_type": "markdown",
   "id": "472670cc",
   "metadata": {},
   "source": [
    "## Practical Use Cases of Broadcasting"
   ]
  },
  {
   "cell_type": "code",
   "execution_count": null,
   "id": "e7e1c1ef",
   "metadata": {},
   "outputs": [],
   "source": [
    "#186. Add a bias vector to a batch of inputs (2D array) using broadcasting.\n"
   ]
  },
  {
   "cell_type": "markdown",
   "id": "9ecd9d92",
   "metadata": {},
   "source": [
    "## Practical Use Cases of Broadcasting"
   ]
  },
  {
   "cell_type": "code",
   "execution_count": null,
   "id": "89de4410",
   "metadata": {},
   "outputs": [],
   "source": [
    "#187. Perform standardization on a 2D array by subtracting the mean and dividing by the standard deviation along an axis.\n"
   ]
  },
  {
   "cell_type": "markdown",
   "id": "f917903a",
   "metadata": {},
   "source": [
    "## Advanced Broadcasting"
   ]
  },
  {
   "cell_type": "code",
   "execution_count": null,
   "id": "68bbce6b",
   "metadata": {},
   "outputs": [],
   "source": [
    "#188. Broadcast an array of shape (3, 1) to shape (3, 4) and verify by manually constructing the result.\n"
   ]
  },
  {
   "cell_type": "markdown",
   "id": "3c0e09a4",
   "metadata": {},
   "source": [
    "## Advanced Broadcasting"
   ]
  },
  {
   "cell_type": "code",
   "execution_count": null,
   "id": "1771a8c7",
   "metadata": {},
   "outputs": [],
   "source": [
    "#189. Multiply arrays of shapes (2, 3, 4) and (4,) using broadcasting and verify the resulting shape.\n"
   ]
  },
  {
   "cell_type": "markdown",
   "id": "344c3142",
   "metadata": {},
   "source": [
    "## Advanced Broadcasting"
   ]
  },
  {
   "cell_type": "code",
   "execution_count": null,
   "id": "cdcf3fd0",
   "metadata": {},
   "outputs": [],
   "source": [
    "#190. Perform broadcasting between arrays with mismatched dimensions, ensuring alignment of the trailing dimensions.\n"
   ]
  },
  {
   "cell_type": "markdown",
   "id": "1c6d7c76",
   "metadata": {},
   "source": [
    "## Advanced Broadcasting"
   ]
  },
  {
   "cell_type": "code",
   "execution_count": null,
   "id": "ca95b776",
   "metadata": {},
   "outputs": [],
   "source": [
    "#191. Use `np.newaxis` to explicitly add dimensions and make two arrays broadcast-compatible.\n"
   ]
  },
  {
   "cell_type": "markdown",
   "id": "5d498922",
   "metadata": {},
   "source": [
    "## Advanced Broadcasting"
   ]
  },
  {
   "cell_type": "code",
   "execution_count": null,
   "id": "eb14eb4a",
   "metadata": {},
   "outputs": [],
   "source": [
    "#192. Combine broadcasting with advanced indexing to update specific rows of a 2D array.\n"
   ]
  },
  {
   "cell_type": "markdown",
   "id": "3487482a",
   "metadata": {},
   "source": [
    "## #Copy and view"
   ]
  },
  {
   "cell_type": "code",
   "execution_count": null,
   "id": "9b84beca",
   "metadata": {},
   "outputs": [],
   "source": [
    "#193. Difference Between Copies and Views, Creating Views, Creating Copies, Modifying Views and Copies, When to Use Copies vs Views\n"
   ]
  },
  {
   "cell_type": "markdown",
   "id": "7de0d24c",
   "metadata": {},
   "source": [
    "## Difference Between Copies and Views"
   ]
  },
  {
   "cell_type": "code",
   "execution_count": null,
   "id": "39f55311",
   "metadata": {},
   "outputs": [],
   "source": [
    "#194. Create a NumPy array, assign it to another variable directly, and confirm they reference the same memory location using `np.may_share_memory`.\n"
   ]
  },
  {
   "cell_type": "markdown",
   "id": "e4654ac6",
   "metadata": {},
   "source": [
    "## Difference Between Copies and Views"
   ]
  },
  {
   "cell_type": "code",
   "execution_count": null,
   "id": "5dde17e8",
   "metadata": {},
   "outputs": [],
   "source": [
    "#195. Create two arrays, one using `np.copy` and the other by direct assignment. Modify both and compare the impact on the original.\n"
   ]
  },
  {
   "cell_type": "markdown",
   "id": "248ddd37",
   "metadata": {},
   "source": [
    "## Difference Between Copies and Views"
   ]
  },
  {
   "cell_type": "code",
   "execution_count": null,
   "id": "2ffe327f",
   "metadata": {},
   "outputs": [],
   "source": [
    "#196. Use slicing on a 1D array to create a view, and compare its memory location with the original array using `np.may_share_memory`.\n"
   ]
  },
  {
   "cell_type": "markdown",
   "id": "c925c149",
   "metadata": {},
   "source": [
    "## Difference Between Copies and Views"
   ]
  },
  {
   "cell_type": "code",
   "execution_count": null,
   "id": "c6784595",
   "metadata": {},
   "outputs": [],
   "source": [
    "#197. Create a copy of an array with `array.copy()` and verify that `np.may_share_memory` confirms no shared memory.\n"
   ]
  },
  {
   "cell_type": "markdown",
   "id": "023d79fa",
   "metadata": {},
   "source": [
    "## Creating Views"
   ]
  },
  {
   "cell_type": "code",
   "execution_count": null,
   "id": "025b7445",
   "metadata": {},
   "outputs": [],
   "source": [
    "#198. Create a view of a 2D array by slicing rows and verify that modifying the view reflects in the original array.\n"
   ]
  },
  {
   "cell_type": "markdown",
   "id": "487dd202",
   "metadata": {},
   "source": [
    "## Creating Views"
   ]
  },
  {
   "cell_type": "code",
   "execution_count": null,
   "id": "f0d23d4c",
   "metadata": {},
   "outputs": [],
   "source": [
    "#199. Use `.flatten()` on an array and check if it returns a copy or a view by modifying the flattened array.\n"
   ]
  },
  {
   "cell_type": "markdown",
   "id": "2ff094bc",
   "metadata": {},
   "source": [
    "## Creating Views"
   ]
  },
  {
   "cell_type": "code",
   "execution_count": null,
   "id": "ace122b5",
   "metadata": {},
   "outputs": [],
   "source": [
    "#200. Demonstrate that `.transpose()` creates a view by changing values in the transposed array and checking the original.\n"
   ]
  },
  {
   "cell_type": "markdown",
   "id": "6d2fc8a0",
   "metadata": {},
   "source": [
    "## Creating Copies"
   ]
  },
  {
   "cell_type": "code",
   "execution_count": null,
   "id": "1a7603b5",
   "metadata": {},
   "outputs": [],
   "source": [
    "#201. Create a copy of a structured array using `np.copy` and modify the fields. Verify that the original array remains unchanged.\n"
   ]
  },
  {
   "cell_type": "markdown",
   "id": "aaa25f96",
   "metadata": {},
   "source": [
    "## Creating Copies"
   ]
  },
  {
   "cell_type": "code",
   "execution_count": null,
   "id": "57737c65",
   "metadata": {},
   "outputs": [],
   "source": [
    "#202. Use `np.copy` on a large 3D array, modify an element, and verify no changes occur in the original array.\n"
   ]
  },
  {
   "cell_type": "markdown",
   "id": "8b33c0fb",
   "metadata": {},
   "source": [
    "## Modifying Views and Copies"
   ]
  },
  {
   "cell_type": "code",
   "execution_count": null,
   "id": "944db11a",
   "metadata": {},
   "outputs": [],
   "source": [
    "#203. Slice a 2D array to extract a subarray as a view. Modify elements in the subarray and verify the original reflects the changes.\n"
   ]
  },
  {
   "cell_type": "markdown",
   "id": "28de3e82",
   "metadata": {},
   "source": [
    "## Modifying Views and Copies"
   ]
  },
  {
   "cell_type": "code",
   "execution_count": null,
   "id": "492d8748",
   "metadata": {},
   "outputs": [],
   "source": [
    "#204. Create a copy of an array, modify its shape with `.reshape()`, and verify that changes to the copy do not affect the original array.\n"
   ]
  },
  {
   "cell_type": "markdown",
   "id": "cb3ec33c",
   "metadata": {},
   "source": [
    "## Modifying Views and Copies"
   ]
  },
  {
   "cell_type": "code",
   "execution_count": null,
   "id": "e8c76ffe",
   "metadata": {},
   "outputs": [],
   "source": [
    "#205. Create a 1D array view using slicing and modify values. Check that the original array reflects these changes.\n"
   ]
  },
  {
   "cell_type": "markdown",
   "id": "92681514",
   "metadata": {},
   "source": [
    "## Modifying Views and Copies"
   ]
  },
  {
   "cell_type": "code",
   "execution_count": null,
   "id": "1b69bc27",
   "metadata": {},
   "outputs": [],
   "source": [
    "#206. Use `.astype()` to create a new array with a different data type and confirm it's a copy by modifying it.\n"
   ]
  },
  {
   "cell_type": "markdown",
   "id": "88ba3902",
   "metadata": {},
   "source": [
    "## When to Use Copies vs Views"
   ]
  },
  {
   "cell_type": "code",
   "execution_count": null,
   "id": "5efbbf13",
   "metadata": {},
   "outputs": [],
   "source": [
    "#207. Illustrate memory efficiency by slicing a large 2D array for analysis without using `np.copy`.\n"
   ]
  },
  {
   "cell_type": "markdown",
   "id": "791569e0",
   "metadata": {},
   "source": [
    "## When to Use Copies vs Views"
   ]
  },
  {
   "cell_type": "code",
   "execution_count": null,
   "id": "e0a6de53",
   "metadata": {},
   "outputs": [],
   "source": [
    "#208. Demonstrate the need for copies by creating a view of a dataset, modifying it unintentionally, and observing the impact on the original.\n"
   ]
  },
  {
   "cell_type": "markdown",
   "id": "1fe92b5e",
   "metadata": {},
   "source": [
    "## When to Use Copies vs Views"
   ]
  },
  {
   "cell_type": "code",
   "execution_count": null,
   "id": "e3a98e8b",
   "metadata": {},
   "outputs": [],
   "source": [
    "#209. Use a view to modify specific sections of a large dataset without creating a full copy for efficiency.\n"
   ]
  },
  {
   "cell_type": "markdown",
   "id": "3bfe1369",
   "metadata": {},
   "source": [
    "## When to Use Copies vs Views"
   ]
  },
  {
   "cell_type": "code",
   "execution_count": null,
   "id": "1de0225e",
   "metadata": {},
   "outputs": [],
   "source": [
    "#210. Demonstrate using `np.copy` for independent data processing by modifying a copy without affecting the original dataset.\n"
   ]
  },
  {
   "cell_type": "markdown",
   "id": "e195cdea",
   "metadata": {},
   "source": [
    "## Advanced: Nested Views and Copies"
   ]
  },
  {
   "cell_type": "code",
   "execution_count": null,
   "id": "3bff6d3c",
   "metadata": {},
   "outputs": [],
   "source": [
    "#211. Create a view of a view by slicing twice, and modify the final view to observe cascading effects on the original array.\n"
   ]
  },
  {
   "cell_type": "markdown",
   "id": "fe0419c7",
   "metadata": {},
   "source": [
    "## Advanced: Nested Views and Copies"
   ]
  },
  {
   "cell_type": "code",
   "execution_count": null,
   "id": "a2d3a455",
   "metadata": {},
   "outputs": [],
   "source": [
    "#212. Demonstrate how chaining `.transpose()` and `.reshape()` can lead to complex views and validate changes in the original array.\n"
   ]
  },
  {
   "cell_type": "markdown",
   "id": "fad8ab73",
   "metadata": {},
   "source": [
    "## Advanced: Memory Sharing"
   ]
  },
  {
   "cell_type": "code",
   "execution_count": null,
   "id": "6f76cbff",
   "metadata": {},
   "outputs": [],
   "source": [
    "#213. Use `np.may_share_memory` to demonstrate shared memory between a reshaped view and its original array.\n"
   ]
  },
  {
   "cell_type": "markdown",
   "id": "50c60f93",
   "metadata": {},
   "source": [
    "## Advanced: Shared Memory Verification"
   ]
  },
  {
   "cell_type": "code",
   "execution_count": null,
   "id": "8fc0c962",
   "metadata": {},
   "outputs": [],
   "source": [
    "#214. Create a copy, reshape it, and verify that `np.may_share_memory` confirms no shared memory.\n"
   ]
  },
  {
   "cell_type": "markdown",
   "id": "593ea32e",
   "metadata": {},
   "source": [
    "## Practical Example: Efficient Slicing"
   ]
  },
  {
   "cell_type": "code",
   "execution_count": null,
   "id": "b1690280",
   "metadata": {},
   "outputs": [],
   "source": [
    "#215. Use slicing to extract and modify a region in an image array without duplicating the data for memory efficiency.\n"
   ]
  },
  {
   "cell_type": "markdown",
   "id": "d41f8279",
   "metadata": {},
   "source": [
    "## Practical Example: Safe Modification"
   ]
  },
  {
   "cell_type": "code",
   "execution_count": null,
   "id": "c7cec3cf",
   "metadata": {},
   "outputs": [],
   "source": [
    "#216. Demonstrate safe modification by creating a copy of a financial dataset before performing analysis.\n"
   ]
  },
  {
   "cell_type": "markdown",
   "id": "d60c3933",
   "metadata": {},
   "source": [
    "## Practical Example: Chain Operations"
   ]
  },
  {
   "cell_type": "code",
   "execution_count": null,
   "id": "6970394c",
   "metadata": {},
   "outputs": [],
   "source": [
    "#217. Apply multiple operations on an array, such as `.reshape()` and `.T`, and determine if the result is a view or a copy.\n"
   ]
  },
  {
   "cell_type": "markdown",
   "id": "f0be941c",
   "metadata": {},
   "source": [
    "## Practical Example: Deep Copies"
   ]
  },
  {
   "cell_type": "code",
   "execution_count": null,
   "id": "2945cae1",
   "metadata": {},
   "outputs": [],
   "source": [
    "#218. Create a deep copy of a nested structured array using `np.copy` and verify its independence by modifying nested elements.\n"
   ]
  },
  {
   "cell_type": "markdown",
   "id": "9304ef53",
   "metadata": {},
   "source": [
    "## working with array of string"
   ]
  },
  {
   "cell_type": "code",
   "execution_count": null,
   "id": "6023c245",
   "metadata": {},
   "outputs": [],
   "source": [
    "#219. Creating String Arrays, String Operations, Handling Byte Arrays, String and Byte Data Types\n"
   ]
  },
  {
   "cell_type": "markdown",
   "id": "3944954b",
   "metadata": {},
   "source": [
    "## String Array Initialization with Multiple Elements"
   ]
  },
  {
   "cell_type": "code",
   "execution_count": null,
   "id": "c14ec625",
   "metadata": {},
   "outputs": [],
   "source": [
    "#220. Initialize a string array with multiple elements using `np.array()` and manipulate them using indexing.\n"
   ]
  },
  {
   "cell_type": "markdown",
   "id": "c7577c2d",
   "metadata": {},
   "source": [
    "## Creating Arrays of Mixed-Length Strings"
   ]
  },
  {
   "cell_type": "code",
   "execution_count": null,
   "id": "b22033d6",
   "metadata": {},
   "outputs": [],
   "source": [
    "#221. Create a NumPy array with mixed-length strings and observe how it handles padding or truncation based on the `dtype`.\n"
   ]
  },
  {
   "cell_type": "markdown",
   "id": "5a3eaea9",
   "metadata": {},
   "source": [
    "## Creating an Empty String Array"
   ]
  },
  {
   "cell_type": "code",
   "execution_count": null,
   "id": "34bb95fb",
   "metadata": {},
   "outputs": [],
   "source": [
    "#222. Create an empty string array with a specified shape and populate it later using a loop or another array.\n"
   ]
  },
  {
   "cell_type": "markdown",
   "id": "479f3f98",
   "metadata": {},
   "source": [
    "## Creating String Arrays from a List of Words"
   ]
  },
  {
   "cell_type": "code",
   "execution_count": null,
   "id": "acbff214",
   "metadata": {},
   "outputs": [],
   "source": [
    "#223. Create a string array from a list of words or phrases and apply basic text operations like counting characters or searching for substrings.\n"
   ]
  },
  {
   "cell_type": "markdown",
   "id": "f5a136b2",
   "metadata": {},
   "source": [
    "## String Array Element-wise Operations"
   ]
  },
  {
   "cell_type": "code",
   "execution_count": null,
   "id": "4ffba82c",
   "metadata": {},
   "outputs": [],
   "source": [
    "#224. Perform element-wise operations on a string array, such as converting to uppercase, and examine how it affects each element.\n"
   ]
  },
  {
   "cell_type": "markdown",
   "id": "2cfadcff",
   "metadata": {},
   "source": [
    "## Substring Search in String Arrays"
   ]
  },
  {
   "cell_type": "code",
   "execution_count": null,
   "id": "031fee84",
   "metadata": {},
   "outputs": [],
   "source": [
    "#225. Use `np.char.find()` to search for a substring within each element of a string array and check for its index.\n"
   ]
  },
  {
   "cell_type": "markdown",
   "id": "43e6fe76",
   "metadata": {},
   "source": [
    "## Splitting Strings with a Delimiter"
   ]
  },
  {
   "cell_type": "code",
   "execution_count": null,
   "id": "71368f55",
   "metadata": {},
   "outputs": [],
   "source": [
    "#226. Split strings in an array by a delimiter such as a comma or space using `np.char.split()` and verify the result.\n"
   ]
  },
  {
   "cell_type": "markdown",
   "id": "c00e7fd2",
   "metadata": {},
   "source": [
    "## Joining an Array of Strings"
   ]
  },
  {
   "cell_type": "code",
   "execution_count": null,
   "id": "3cda754e",
   "metadata": {},
   "outputs": [],
   "source": [
    "#227. Use `np.char.join()` to join elements of a string array into a single string with a specified delimiter.\n"
   ]
  },
  {
   "cell_type": "markdown",
   "id": "64dc08a1",
   "metadata": {},
   "source": [
    "## Applying String Formatting to an Array"
   ]
  },
  {
   "cell_type": "code",
   "execution_count": null,
   "id": "0223a20e",
   "metadata": {},
   "outputs": [],
   "source": [
    "#228. Apply string formatting using `np.char.format()` to create a consistent structure across an array of strings.\n"
   ]
  },
  {
   "cell_type": "markdown",
   "id": "b27fb159",
   "metadata": {},
   "source": [
    "## Check String Properties"
   ]
  },
  {
   "cell_type": "code",
   "execution_count": null,
   "id": "4571e9f5",
   "metadata": {},
   "outputs": [],
   "source": [
    "#229. Use functions like `np.char.isalnum()`, `np.char.isdigit()`, `np.char.isupper()`, etc., to check different properties of strings.\n"
   ]
  },
  {
   "cell_type": "markdown",
   "id": "f1c74275",
   "metadata": {},
   "source": [
    "## Element-wise String Replacement"
   ]
  },
  {
   "cell_type": "code",
   "execution_count": null,
   "id": "3cd7d39e",
   "metadata": {},
   "outputs": [],
   "source": [
    "#230. Replace specific substrings within an array of strings using `np.char.replace()` for string manipulation.\n"
   ]
  },
  {
   "cell_type": "markdown",
   "id": "c1df2052",
   "metadata": {},
   "source": [
    "## Create and View Byte Arrays"
   ]
  },
  {
   "cell_type": "code",
   "execution_count": null,
   "id": "c8f5b459",
   "metadata": {},
   "outputs": [],
   "source": [
    "#231. Create an array of bytes using `np.array()` and perform basic slicing and indexing on the byte array.\n"
   ]
  },
  {
   "cell_type": "markdown",
   "id": "db81c32c",
   "metadata": {},
   "source": [
    "## Working with Raw Binary Data"
   ]
  },
  {
   "cell_type": "code",
   "execution_count": null,
   "id": "9f6a1c40",
   "metadata": {},
   "outputs": [],
   "source": [
    "#232. Read raw binary data into a NumPy array and manipulate the bytes directly, like extracting or modifying specific byte values.\n"
   ]
  },
  {
   "cell_type": "markdown",
   "id": "315036ca",
   "metadata": {},
   "source": [
    "## Decoding Byte Arrays to Strings"
   ]
  },
  {
   "cell_type": "code",
   "execution_count": null,
   "id": "4c623498",
   "metadata": {},
   "outputs": [],
   "source": [
    "#233. Decode a byte array to a string using `.decode()` and examine the decoded result.\n"
   ]
  },
  {
   "cell_type": "markdown",
   "id": "1d0fa605",
   "metadata": {},
   "source": [
    "## Encoding Strings into Bytes"
   ]
  },
  {
   "cell_type": "code",
   "execution_count": null,
   "id": "c84473dd",
   "metadata": {},
   "outputs": [],
   "source": [
    "#234. Convert strings into byte arrays by using the `.encode()` method and experiment with different encodings like UTF-8 or ASCII.\n"
   ]
  },
  {
   "cell_type": "markdown",
   "id": "1e5e2f0e",
   "metadata": {},
   "source": [
    "## Handling Different Byte Sizes"
   ]
  },
  {
   "cell_type": "code",
   "execution_count": null,
   "id": "d5cbfd55",
   "metadata": {},
   "outputs": [],
   "source": [
    "#235. Experiment with creating and manipulating byte arrays of different sizes, including adjusting array dimensions and reshaping.\n"
   ]
  },
  {
   "cell_type": "markdown",
   "id": "a5399bdc",
   "metadata": {},
   "source": [
    "## Converting Between String and Byte Arrays"
   ]
  },
  {
   "cell_type": "code",
   "execution_count": null,
   "id": "66f12cd5",
   "metadata": {},
   "outputs": [],
   "source": [
    "#236. Convert an array of strings to bytes using `.encode()` and vice versa using `.decode()`. Test the results.\n"
   ]
  },
  {
   "cell_type": "markdown",
   "id": "dcd7ca8d",
   "metadata": {},
   "source": [
    "## Efficiently Handling Byte Strings"
   ]
  },
  {
   "cell_type": "code",
   "execution_count": null,
   "id": "fc73139e",
   "metadata": {},
   "outputs": [],
   "source": [
    "#237. Create arrays of byte strings using `np.array()` and perform operations like slicing and converting them back to strings.\n"
   ]
  },
  {
   "cell_type": "markdown",
   "id": "6d382b29",
   "metadata": {},
   "source": [
    "## Unicode and ASCII String Handling"
   ]
  },
  {
   "cell_type": "code",
   "execution_count": null,
   "id": "2d24bca3",
   "metadata": {},
   "outputs": [],
   "source": [
    "#238. Create a Unicode array and an ASCII array, and perform comparisons or operations like concatenation.\n"
   ]
  },
  {
   "cell_type": "markdown",
   "id": "c515f1db",
   "metadata": {},
   "source": [
    "## Array with Mixed Byte Types"
   ]
  },
  {
   "cell_type": "code",
   "execution_count": null,
   "id": "a2c7e579",
   "metadata": {},
   "outputs": [],
   "source": [
    "#239. Create an array with both byte and string data types and perform operations such as indexing and concatenation.\n"
   ]
  },
  {
   "cell_type": "markdown",
   "id": "b5f4624f",
   "metadata": {},
   "source": [
    "## Working with Fixed-Length Byte Arrays"
   ]
  },
  {
   "cell_type": "code",
   "execution_count": null,
   "id": "1034a19a",
   "metadata": {},
   "outputs": [],
   "source": [
    "#240. Create a fixed-length byte array with a specified size and perform byte-level operations such as slicing or altering content.\n"
   ]
  },
  {
   "cell_type": "markdown",
   "id": "eb1b3269",
   "metadata": {},
   "source": [
    "## Mixed-Type Arrays of Strings and Numbers"
   ]
  },
  {
   "cell_type": "code",
   "execution_count": null,
   "id": "84f0be8c",
   "metadata": {},
   "outputs": [],
   "source": [
    "#241. Create an array with mixed types (e.g., strings and numbers) and perform operations like concatenation and mathematical computations.\n"
   ]
  },
  {
   "cell_type": "markdown",
   "id": "3e6c2a1d",
   "metadata": {},
   "source": [
    "## Handling Null Bytes in Arrays"
   ]
  },
  {
   "cell_type": "code",
   "execution_count": null,
   "id": "c8d873a9",
   "metadata": {},
   "outputs": [],
   "source": [
    "#242. Create an array with null byte elements and handle operations like searching for null bytes and replacing them.\n"
   ]
  },
  {
   "cell_type": "markdown",
   "id": "783248b6",
   "metadata": {},
   "source": [
    "## Operations on Structured Arrays"
   ]
  },
  {
   "cell_type": "code",
   "execution_count": null,
   "id": "357a39fd",
   "metadata": {},
   "outputs": [],
   "source": [
    "#243. Use structured arrays to combine text and numeric data, and access fields by name or index.\n"
   ]
  },
  {
   "cell_type": "markdown",
   "id": "28b35143",
   "metadata": {},
   "source": [
    "## Handling Special Characters in Strings"
   ]
  },
  {
   "cell_type": "code",
   "execution_count": null,
   "id": "7ab458de",
   "metadata": {},
   "outputs": [],
   "source": [
    "#244. Create an array with strings containing special characters (e.g., newline, tab, or escape sequences) and handle them correctly.\n"
   ]
  },
  {
   "cell_type": "markdown",
   "id": "211d0ac5",
   "metadata": {},
   "source": [
    "## Array Operations with String-Specific Functions"
   ]
  },
  {
   "cell_type": "code",
   "execution_count": null,
   "id": "b3d0b5ba",
   "metadata": {},
   "outputs": [],
   "source": [
    "#245. Use string-specific functions like `np.char.lower()`, `np.char.upper()` and `np.char.title()` to manipulate text data arrays.\n"
   ]
  },
  {
   "cell_type": "markdown",
   "id": "bdc9d7f3",
   "metadata": {},
   "source": [
    "## Manipulating String Arrays with Vectorized Functions"
   ]
  },
  {
   "cell_type": "code",
   "execution_count": null,
   "id": "f9b9301e",
   "metadata": {},
   "outputs": [],
   "source": [
    "#246. Use vectorized string functions from `np.char` to apply changes to each element in a string array without explicit loops.\n"
   ]
  },
  {
   "cell_type": "markdown",
   "id": "9069d4eb",
   "metadata": {},
   "source": [
    "## String Array Comparison"
   ]
  },
  {
   "cell_type": "code",
   "execution_count": null,
   "id": "d0bd0b05",
   "metadata": {},
   "outputs": [],
   "source": [
    "#247. Compare two arrays of strings element-wise using functions like `np.char.equal()` and `np.char.neq()` to check for equality and differences.\n"
   ]
  },
  {
   "cell_type": "markdown",
   "id": "2f01f42c",
   "metadata": {},
   "source": [
    "## Manipulating Byte Array Elements"
   ]
  },
  {
   "cell_type": "code",
   "execution_count": null,
   "id": "49a6910a",
   "metadata": {},
   "outputs": [],
   "source": [
    "#248. Perform element-wise operations on byte arrays, like slicing, replacement, or conversion to and from strings.\n"
   ]
  },
  {
   "cell_type": "markdown",
   "id": "b2dbf925",
   "metadata": {},
   "source": [
    "## Counting Byte Occurrences"
   ]
  },
  {
   "cell_type": "code",
   "execution_count": null,
   "id": "e19b4d08",
   "metadata": {},
   "outputs": [],
   "source": [
    "#249. Use `np.char.count()` to count the occurrences of a byte value or substring in a byte array.\n"
   ]
  },
  {
   "cell_type": "markdown",
   "id": "5d8ed26d",
   "metadata": {},
   "source": [
    "## Extracting Specific Bytes"
   ]
  },
  {
   "cell_type": "code",
   "execution_count": null,
   "id": "2e0ef6c3",
   "metadata": {},
   "outputs": [],
   "source": [
    "#250. Extract specific byte values from a byte array by using slicing and indexing methods.\n"
   ]
  },
  {
   "cell_type": "markdown",
   "id": "ba2b99e7",
   "metadata": {},
   "source": [
    "## Creating Arrays with Fixed Byte Size"
   ]
  },
  {
   "cell_type": "code",
   "execution_count": null,
   "id": "5fcdb097",
   "metadata": {},
   "outputs": [],
   "source": [
    "#251. Create an array of fixed-size byte strings and perform manipulations like checking lengths or comparing them.\n"
   ]
  },
  {
   "cell_type": "markdown",
   "id": "c7692bd8",
   "metadata": {},
   "source": [
    "## Handling Text and Binary Data in One Array"
   ]
  },
  {
   "cell_type": "code",
   "execution_count": null,
   "id": "17283b69",
   "metadata": {},
   "outputs": [],
   "source": [
    "#252. Create a NumPy array that holds both text and binary data, and manipulate them appropriately.\n"
   ]
  },
  {
   "cell_type": "markdown",
   "id": "ad771254",
   "metadata": {},
   "source": [
    "## Multi-field String Operations"
   ]
  },
  {
   "cell_type": "code",
   "execution_count": null,
   "id": "f37ec598",
   "metadata": {},
   "outputs": [],
   "source": [
    "#253. Create a structured array with multiple string fields and perform operations like splitting or joining across fields.\n"
   ]
  },
  {
   "cell_type": "markdown",
   "id": "0719350a",
   "metadata": {},
   "source": [
    "## Replacing Text in Structured Arrays"
   ]
  },
  {
   "cell_type": "code",
   "execution_count": null,
   "id": "c52f8396",
   "metadata": {},
   "outputs": [],
   "source": [
    "#254. Create a structured array with string fields and use `np.char.replace()` to replace text in specific fields.\n"
   ]
  },
  {
   "cell_type": "markdown",
   "id": "ed420579",
   "metadata": {},
   "source": [
    "## Concatenating Multiple Fields"
   ]
  },
  {
   "cell_type": "code",
   "execution_count": null,
   "id": "75b5aefe",
   "metadata": {},
   "outputs": [],
   "source": [
    "#255. Concatenate fields from structured arrays containing text data using `np.char.add()` and observe how the fields combine.\n"
   ]
  },
  {
   "cell_type": "markdown",
   "id": "fb112acd",
   "metadata": {},
   "source": [
    "## Text Manipulation in Structured Data"
   ]
  },
  {
   "cell_type": "code",
   "execution_count": null,
   "id": "f837941a",
   "metadata": {},
   "outputs": [],
   "source": [
    "#256. Manipulate text fields within structured arrays, such as extracting parts of text using `np.char.split()` and `np.char.find()`.\n"
   ]
  },
  {
   "cell_type": "markdown",
   "id": "014adcc3",
   "metadata": {},
   "source": [
    "## Joining Structured Array Fields"
   ]
  },
  {
   "cell_type": "code",
   "execution_count": null,
   "id": "1805dde5",
   "metadata": {},
   "outputs": [],
   "source": [
    "#257. Join string fields from structured arrays using `np.char.join()` and verify the resulting concatenated strings.\n"
   ]
  },
  {
   "cell_type": "markdown",
   "id": "da228c86",
   "metadata": {},
   "source": [
    "## Structured data"
   ]
  },
  {
   "cell_type": "code",
   "execution_count": null,
   "id": "3cd92df0",
   "metadata": {},
   "outputs": [],
   "source": [
    "#258. ..\n"
   ]
  },
  {
   "cell_type": "markdown",
   "id": "0cbcb94b",
   "metadata": {},
   "source": [
    "## Structured Data Types Introduction"
   ]
  },
  {
   "cell_type": "code",
   "execution_count": null,
   "id": "e18641d9",
   "metadata": {},
   "outputs": [],
   "source": [
    "#259. Understand what structured data types are in NumPy and how they can be used to represent heterogeneous data.\n"
   ]
  },
  {
   "cell_type": "markdown",
   "id": "49b858ed",
   "metadata": {},
   "source": [
    "## Creating a Structured Data Type"
   ]
  },
  {
   "cell_type": "code",
   "execution_count": null,
   "id": "9064f2c0",
   "metadata": {},
   "outputs": [],
   "source": [
    "#260. Create a NumPy structured array with different fields (e.g., integers, floats, and strings) using `np.dtype()`.\n"
   ]
  },
  {
   "cell_type": "markdown",
   "id": "397b7995",
   "metadata": {},
   "source": [
    "## Defining Structured Data Types with Named Fields"
   ]
  },
  {
   "cell_type": "code",
   "execution_count": null,
   "id": "0d9d9d83",
   "metadata": {},
   "outputs": [],
   "source": [
    "#261. Define structured arrays with multiple named fields and specify their types using `np.dtype()` for each field.\n"
   ]
  },
  {
   "cell_type": "markdown",
   "id": "48857178",
   "metadata": {},
   "source": [
    "## Defining Complex Structured Data Types"
   ]
  },
  {
   "cell_type": "code",
   "execution_count": null,
   "id": "9351ab92",
   "metadata": {},
   "outputs": [],
   "source": [
    "#262. Create a structured array that holds multiple nested structures, like arrays of structured fields, using `np.dtype()`.\n"
   ]
  },
  {
   "cell_type": "markdown",
   "id": "04e98930",
   "metadata": {},
   "source": [
    "## Accessing Data in Structured Arrays"
   ]
  },
  {
   "cell_type": "code",
   "execution_count": null,
   "id": "d7312113",
   "metadata": {},
   "outputs": [],
   "source": [
    "#263. Access specific fields within a structured array by field name or index.\n"
   ]
  },
  {
   "cell_type": "markdown",
   "id": "f9147e26",
   "metadata": {},
   "source": [
    "## Displaying a Structured Array"
   ]
  },
  {
   "cell_type": "code",
   "execution_count": null,
   "id": "46f1fa9a",
   "metadata": {},
   "outputs": [],
   "source": [
    "#264. Display the contents of a structured array and examine how NumPy presents structured data.\n"
   ]
  },
  {
   "cell_type": "markdown",
   "id": "b8708c75",
   "metadata": {},
   "source": [
    "## Modifying Fields in a Structured Array"
   ]
  },
  {
   "cell_type": "code",
   "execution_count": null,
   "id": "8fb42b9f",
   "metadata": {},
   "outputs": [],
   "source": [
    "#265. Modify a field within a structured array, either by field name or index, and view the changes.\n"
   ]
  },
  {
   "cell_type": "markdown",
   "id": "676fe937",
   "metadata": {},
   "source": [
    "## Byte Offsets in Structured Arrays"
   ]
  },
  {
   "cell_type": "code",
   "execution_count": null,
   "id": "9e058a7a",
   "metadata": {},
   "outputs": [],
   "source": [
    "#266. Understand and experiment with byte offsets in structured arrays by inspecting the structure's memory layout.\n"
   ]
  },
  {
   "cell_type": "markdown",
   "id": "c37aa5be",
   "metadata": {},
   "source": [
    "## Controlling Data Alignment in Structured Arrays"
   ]
  },
  {
   "cell_type": "code",
   "execution_count": null,
   "id": "d2777bbf",
   "metadata": {},
   "outputs": [],
   "source": [
    "#267. Create a structured array with different data types and observe how NumPy aligns data based on byte offsets.\n"
   ]
  },
  {
   "cell_type": "markdown",
   "id": "30bfa724",
   "metadata": {},
   "source": [
    "## Setting and Accessing Field Titles"
   ]
  },
  {
   "cell_type": "code",
   "execution_count": null,
   "id": "ced9f457",
   "metadata": {},
   "outputs": [],
   "source": [
    "#268. Create a structured array and access fields by their names or titles.\n"
   ]
  },
  {
   "cell_type": "markdown",
   "id": "9665f3d6",
   "metadata": {},
   "source": [
    "## Changing Field Titles"
   ]
  },
  {
   "cell_type": "code",
   "execution_count": null,
   "id": "a11292fc",
   "metadata": {},
   "outputs": [],
   "source": [
    "#269. Change the titles of the fields in a structured array and see how it affects indexing and access.\n"
   ]
  },
  {
   "cell_type": "markdown",
   "id": "a20948b0",
   "metadata": {},
   "source": [
    "## Working with Union Types in Structured Arrays"
   ]
  },
  {
   "cell_type": "code",
   "execution_count": null,
   "id": "9c8fb76d",
   "metadata": {},
   "outputs": [],
   "source": [
    "#270. Define and create structured arrays with union types, and access their fields.\n"
   ]
  },
  {
   "cell_type": "markdown",
   "id": "a024f108",
   "metadata": {},
   "source": [
    "## Accessing Union Fields"
   ]
  },
  {
   "cell_type": "code",
   "execution_count": null,
   "id": "75b042a4",
   "metadata": {},
   "outputs": [],
   "source": [
    "#271. Access and modify fields in a structured array that uses union types.\n"
   ]
  },
  {
   "cell_type": "markdown",
   "id": "cf85bcf9",
   "metadata": {},
   "source": [
    "## Assigning Data from Tuples"
   ]
  },
  {
   "cell_type": "code",
   "execution_count": null,
   "id": "31d1699a",
   "metadata": {},
   "outputs": [],
   "source": [
    "#272. Assign data from a tuple to a structured array with the same field names and data types.\n"
   ]
  },
  {
   "cell_type": "markdown",
   "id": "0ce0c478",
   "metadata": {},
   "source": [
    "## Assigning Data from Scalars"
   ]
  },
  {
   "cell_type": "code",
   "execution_count": null,
   "id": "24a544ac",
   "metadata": {},
   "outputs": [],
   "source": [
    "#273. Assign scalar values to structured arrays and see how they get assigned to individual fields.\n"
   ]
  },
  {
   "cell_type": "markdown",
   "id": "ad7cb908",
   "metadata": {},
   "source": [
    "## Assigning Data from Other Structured Arrays"
   ]
  },
  {
   "cell_type": "code",
   "execution_count": null,
   "id": "e1be1fcc",
   "metadata": {},
   "outputs": [],
   "source": [
    "#274. Copy data from one structured array to another, ensuring compatibility of field names and types.\n"
   ]
  },
  {
   "cell_type": "markdown",
   "id": "fddb9d73",
   "metadata": {},
   "source": [
    "## Assigning Data from Subarrays"
   ]
  },
  {
   "cell_type": "code",
   "execution_count": null,
   "id": "204272d1",
   "metadata": {},
   "outputs": [],
   "source": [
    "#275. Assign subarrays to fields in structured arrays and modify specific elements in those subarrays.\n"
   ]
  },
  {
   "cell_type": "markdown",
   "id": "464f5690",
   "metadata": {},
   "source": [
    "## Accessing Individual Fields by Name"
   ]
  },
  {
   "cell_type": "code",
   "execution_count": null,
   "id": "28eecdcd",
   "metadata": {},
   "outputs": [],
   "source": [
    "#276. Access a specific field by its name in a structured array and retrieve its data.\n"
   ]
  },
  {
   "cell_type": "markdown",
   "id": "dec81956",
   "metadata": {},
   "source": [
    "## Accessing Multiple Fields at Once"
   ]
  },
  {
   "cell_type": "code",
   "execution_count": null,
   "id": "2360cf7b",
   "metadata": {},
   "outputs": [],
   "source": [
    "#277. Access multiple fields of a structured array using a list of field names.\n"
   ]
  },
  {
   "cell_type": "markdown",
   "id": "af279aea",
   "metadata": {},
   "source": [
    "## Indexing with Integer to Get a Structured Scalar"
   ]
  },
  {
   "cell_type": "code",
   "execution_count": null,
   "id": "34a4ea47",
   "metadata": {},
   "outputs": [],
   "source": [
    "#278. Use integer indexing to extract individual structured scalars from a structured array.\n"
   ]
  },
  {
   "cell_type": "markdown",
   "id": "cbe74482",
   "metadata": {},
   "source": [
    "## Viewing Structured Arrays with Object Data"
   ]
  },
  {
   "cell_type": "code",
   "execution_count": null,
   "id": "aad28e00",
   "metadata": {},
   "outputs": [],
   "source": [
    "#279. Create and manipulate structured arrays containing objects as one of the fields, and view the data.\n"
   ]
  },
  {
   "cell_type": "markdown",
   "id": "66d0d2dd",
   "metadata": {},
   "source": [
    "## Accessing Object Fields in Structured Arrays"
   ]
  },
  {
   "cell_type": "code",
   "execution_count": null,
   "id": "10d1b1da",
   "metadata": {},
   "outputs": [],
   "source": [
    "#280. Access fields of structured arrays that contain objects and modify the object data.\n"
   ]
  },
  {
   "cell_type": "markdown",
   "id": "c0ef1682",
   "metadata": {},
   "source": [
    "## Comparing Structured Arrays"
   ]
  },
  {
   "cell_type": "code",
   "execution_count": null,
   "id": "8ae161d5",
   "metadata": {},
   "outputs": [],
   "source": [
    "#281. Compare two structured arrays for equality by checking field-by-field using `==` or `np.allclose()` for numerical fields.\n"
   ]
  },
  {
   "cell_type": "markdown",
   "id": "1504d2dd",
   "metadata": {},
   "source": [
    "## Structure Promotion in NumPy"
   ]
  },
  {
   "cell_type": "code",
   "execution_count": null,
   "id": "f4a0d400",
   "metadata": {},
   "outputs": [],
   "source": [
    "#282. Understand how NumPy promotes structured arrays to a higher precision or a more complex data type when combining them.\n"
   ]
  },
  {
   "cell_type": "markdown",
   "id": "874105c6",
   "metadata": {},
   "source": [
    "## Working with Record Arrays"
   ]
  },
  {
   "cell_type": "code",
   "execution_count": null,
   "id": "40f8c99e",
   "metadata": {},
   "outputs": [],
   "source": [
    "#283. Create record arrays using `np.recarray()` and access fields as attributes instead of dictionary keys.\n"
   ]
  },
  {
   "cell_type": "markdown",
   "id": "5b6ee7b5",
   "metadata": {},
   "source": [
    "## Manipulating Record Arrays"
   ]
  },
  {
   "cell_type": "code",
   "execution_count": null,
   "id": "4c77a13b",
   "metadata": {},
   "outputs": [],
   "source": [
    "#284. Manipulate record arrays and observe how accessing fields via attributes differs from structured arrays.\n"
   ]
  },
  {
   "cell_type": "markdown",
   "id": "cbd0bd0c",
   "metadata": {},
   "source": [
    "## Accessing Record Array Fields"
   ]
  },
  {
   "cell_type": "code",
   "execution_count": null,
   "id": "de341bd6",
   "metadata": {},
   "outputs": [],
   "source": [
    "#285. Access and modify fields in a record array using attribute syntax.\n"
   ]
  },
  {
   "cell_type": "markdown",
   "id": "181fc183",
   "metadata": {},
   "source": [
    "## Record Array Performance"
   ]
  },
  {
   "cell_type": "code",
   "execution_count": null,
   "id": "cfc441b9",
   "metadata": {},
   "outputs": [],
   "source": [
    "#286. Understand the performance implications of using record arrays versus structured arrays and experiment with different methods of accessing data.\n"
   ]
  },
  {
   "cell_type": "markdown",
   "id": "07486067",
   "metadata": {},
   "source": [
    "## #ufunc"
   ]
  },
  {
   "cell_type": "code",
   "execution_count": null,
   "id": "42372c4f",
   "metadata": {},
   "outputs": [],
   "source": [
    "#287. ..\n"
   ]
  },
  {
   "cell_type": "markdown",
   "id": "36b60006",
   "metadata": {},
   "source": [
    "## Creating a Universal Function (ufunc)"
   ]
  },
  {
   "cell_type": "code",
   "execution_count": null,
   "id": "0f95f19c",
   "metadata": {},
   "outputs": [],
   "source": [
    "#288. Create a simple universal function (ufunc) with NumPy that performs element-wise operations on arrays.\n"
   ]
  },
  {
   "cell_type": "markdown",
   "id": "f2663d08",
   "metadata": {},
   "source": [
    "## Using NumPy's Built-in Ufuncs"
   ]
  },
  {
   "cell_type": "code",
   "execution_count": null,
   "id": "f9f42717",
   "metadata": {},
   "outputs": [],
   "source": [
    "#289. Use built-in ufuncs like `np.add()`, `np.multiply()`, and `np.sin()` to perform operations on NumPy arrays.\n"
   ]
  },
  {
   "cell_type": "markdown",
   "id": "dc8fbaed",
   "metadata": {},
   "source": [
    "## Apply Ufunc to Arrays"
   ]
  },
  {
   "cell_type": "code",
   "execution_count": null,
   "id": "a19a1581",
   "metadata": {},
   "outputs": [],
   "source": [
    "#290. Apply a universal function to arrays to perform element-wise operations such as addition, multiplication, or trigonometric functions.\n"
   ]
  },
  {
   "cell_type": "markdown",
   "id": "538547ba",
   "metadata": {},
   "source": [
    "## Ufunc with Scalar Inputs"
   ]
  },
  {
   "cell_type": "code",
   "execution_count": null,
   "id": "434ad33f",
   "metadata": {},
   "outputs": [],
   "source": [
    "#291. Apply a ufunc to both a scalar and an array to observe the behavior and output of element-wise operations.\n"
   ]
  },
  {
   "cell_type": "markdown",
   "id": "9cc1e1db",
   "metadata": {},
   "source": [
    "## Using `np.vectorize` for Custom Ufuncs"
   ]
  },
  {
   "cell_type": "code",
   "execution_count": null,
   "id": "1c2e988d",
   "metadata": {},
   "outputs": [],
   "source": [
    "#292. Create a custom universal function using `np.vectorize()` and apply it to arrays to perform element-wise operations.\n"
   ]
  },
  {
   "cell_type": "markdown",
   "id": "c5325c4f",
   "metadata": {},
   "source": [
    "## Determining Output Type of a Ufunc"
   ]
  },
  {
   "cell_type": "code",
   "execution_count": null,
   "id": "ec030b16",
   "metadata": {},
   "outputs": [],
   "source": [
    "#293. Determine the output type of a ufunc operation using the `.dtype` attribute after performing an operation.\n"
   ]
  },
  {
   "cell_type": "markdown",
   "id": "14882f0e",
   "metadata": {},
   "source": [
    "## Setting Output Type Explicitly"
   ]
  },
  {
   "cell_type": "code",
   "execution_count": null,
   "id": "f5d730e1",
   "metadata": {},
   "outputs": [],
   "source": [
    "#294. Set the output type explicitly using the `dtype` argument in a ufunc to control the precision or type of the result.\n"
   ]
  },
  {
   "cell_type": "markdown",
   "id": "91ec045b",
   "metadata": {},
   "source": [
    "## Checking Output Type for Mixed Data Types"
   ]
  },
  {
   "cell_type": "code",
   "execution_count": null,
   "id": "33045a79",
   "metadata": {},
   "outputs": [],
   "source": [
    "#295. Perform a ufunc operation on arrays with mixed data types and observe how NumPy determines the output type.\n"
   ]
  },
  {
   "cell_type": "markdown",
   "id": "5236143c",
   "metadata": {},
   "source": [
    "## Output Type for Operations Between Integers and Floats"
   ]
  },
  {
   "cell_type": "code",
   "execution_count": null,
   "id": "8cfef771",
   "metadata": {},
   "outputs": [],
   "source": [
    "#296. Perform operations between integer and float arrays and observe how NumPy handles type promotion for the output.\n"
   ]
  },
  {
   "cell_type": "markdown",
   "id": "9ac77553",
   "metadata": {},
   "source": [
    "## Controlling Output Type in Complex Operations"
   ]
  },
  {
   "cell_type": "code",
   "execution_count": null,
   "id": "2d67268f",
   "metadata": {},
   "outputs": [],
   "source": [
    "#297. Perform complex operations on arrays with different data types and set the output type to control precision and behavior.\n"
   ]
  },
  {
   "cell_type": "markdown",
   "id": "014409d1",
   "metadata": {},
   "source": [
    "## Understanding Broadcasting Rules"
   ]
  },
  {
   "cell_type": "code",
   "execution_count": null,
   "id": "d5d4db2f",
   "metadata": {},
   "outputs": [],
   "source": [
    "#298. Create two arrays of different shapes and perform operations between them to observe how NumPy broadcasts arrays to compatible shapes.\n"
   ]
  },
  {
   "cell_type": "markdown",
   "id": "1ece14ea",
   "metadata": {},
   "source": [
    "## Broadcasting with 1D and 2D Arrays"
   ]
  },
  {
   "cell_type": "code",
   "execution_count": null,
   "id": "41c03ff0",
   "metadata": {},
   "outputs": [],
   "source": [
    "#299. Perform a ufunc operation between a 1D array and a 2D array to observe how broadcasting automatically adjusts the shapes.\n"
   ]
  },
  {
   "cell_type": "markdown",
   "id": "bd93887e",
   "metadata": {},
   "source": [
    "## Broadcasting with Higher-Dimensional Arrays"
   ]
  },
  {
   "cell_type": "code",
   "execution_count": null,
   "id": "6581af72",
   "metadata": {},
   "outputs": [],
   "source": [
    "#300. Use broadcasting to apply element-wise operations on arrays of different dimensions, such as 3D and 2D arrays.\n"
   ]
  },
  {
   "cell_type": "markdown",
   "id": "d475979d",
   "metadata": {},
   "source": [
    "## Broadcasting with Scalars"
   ]
  },
  {
   "cell_type": "code",
   "execution_count": null,
   "id": "1d939809",
   "metadata": {},
   "outputs": [],
   "source": [
    "#301. Apply a ufunc between a scalar and an array, and observe how the scalar is broadcast to the shape of the array.\n"
   ]
  },
  {
   "cell_type": "markdown",
   "id": "9df2aa86",
   "metadata": {},
   "source": [
    "## Handling Broadcasting with Mismatched Shapes"
   ]
  },
  {
   "cell_type": "code",
   "execution_count": null,
   "id": "e46315eb",
   "metadata": {},
   "outputs": [],
   "source": [
    "#302. Create arrays with incompatible shapes and attempt broadcasting to see how NumPy raises an error or adjusts shapes.\n"
   ]
  },
  {
   "cell_type": "markdown",
   "id": "92de824f",
   "metadata": {},
   "source": [
    "## Understanding Type Promotion in Ufuncs"
   ]
  },
  {
   "cell_type": "code",
   "execution_count": null,
   "id": "65700e06",
   "metadata": {},
   "outputs": [],
   "source": [
    "#303. Apply operations on arrays with different types (int, float, complex) and observe how NumPy promotes the data type.\n"
   ]
  },
  {
   "cell_type": "markdown",
   "id": "beab2e13",
   "metadata": {},
   "source": [
    "## Type Casting Between Integer and Float Arrays"
   ]
  },
  {
   "cell_type": "code",
   "execution_count": null,
   "id": "a1a44f64",
   "metadata": {},
   "outputs": [],
   "source": [
    "#304. Perform operations between integer and floating-point arrays and observe how NumPy casts the result to a higher precision.\n"
   ]
  },
  {
   "cell_type": "markdown",
   "id": "b33de909",
   "metadata": {},
   "source": [
    "## Type Casting During Mathematical Operations"
   ]
  },
  {
   "cell_type": "code",
   "execution_count": null,
   "id": "1fe7d2a9",
   "metadata": {},
   "outputs": [],
   "source": [
    "#305. Perform mathematical operations between arrays of different data types and determine how NumPy handles type casting.\n"
   ]
  },
  {
   "cell_type": "markdown",
   "id": "26c7eb84",
   "metadata": {},
   "source": [
    "## Cast Arrays to Specific Types"
   ]
  },
  {
   "cell_type": "code",
   "execution_count": null,
   "id": "dda2a955",
   "metadata": {},
   "outputs": [],
   "source": [
    "#306. Use `astype()` to cast a NumPy array to a specific data type (e.g., from float to integer) and check the result.\n"
   ]
  },
  {
   "cell_type": "markdown",
   "id": "fb98bf90",
   "metadata": {},
   "source": [
    "## Enforcing Type Consistency with Ufuncs"
   ]
  },
  {
   "cell_type": "code",
   "execution_count": null,
   "id": "364cfc99",
   "metadata": {},
   "outputs": [],
   "source": [
    "#307. Ensure that ufunc operations between arrays of different types result in the desired type, using explicit type casting if needed.\n"
   ]
  },
  {
   "cell_type": "markdown",
   "id": "45d0ce1d",
   "metadata": {},
   "source": [
    "## Exploring Internal Buffers in Ufuncs"
   ]
  },
  {
   "cell_type": "code",
   "execution_count": null,
   "id": "bcd04752",
   "metadata": {},
   "outputs": [],
   "source": [
    "#308. Understand how ufuncs work with internal buffers for efficient computation, and how NumPy handles memory allocation for large arrays.\n"
   ]
  },
  {
   "cell_type": "markdown",
   "id": "d9506a2f",
   "metadata": {},
   "source": [
    "## Buffer Management in Ufunc Operations"
   ]
  },
  {
   "cell_type": "code",
   "execution_count": null,
   "id": "164efa63",
   "metadata": {},
   "outputs": [],
   "source": [
    "#309. Create large arrays and perform ufunc operations to observe how NumPy uses internal buffers for optimized performance.\n"
   ]
  },
  {
   "cell_type": "markdown",
   "id": "a0f04209",
   "metadata": {},
   "source": [
    "## Modifying Internal Buffers for Custom Ufuncs"
   ]
  },
  {
   "cell_type": "code",
   "execution_count": null,
   "id": "13811253",
   "metadata": {},
   "outputs": [],
   "source": [
    "#310. Create a custom ufunc and examine how NumPy handles internal buffers during the execution of the function.\n"
   ]
  },
  {
   "cell_type": "markdown",
   "id": "476a7ec6",
   "metadata": {},
   "source": [
    "## Accessing the Buffer of a Ufunc"
   ]
  },
  {
   "cell_type": "code",
   "execution_count": null,
   "id": "f9601f63",
   "metadata": {},
   "outputs": [],
   "source": [
    "#311. Access the buffer of a ufunc using the `__array_interface__` attribute and observe its structure and contents.\n"
   ]
  },
  {
   "cell_type": "markdown",
   "id": "852569cd",
   "metadata": {},
   "source": [
    "## Optimizing Performance Using Internal Buffers"
   ]
  },
  {
   "cell_type": "code",
   "execution_count": null,
   "id": "2169fdc7",
   "metadata": {},
   "outputs": [],
   "source": [
    "#312. Optimize memory usage by understanding the role of internal buffers when performing ufunc operations on large datasets.\n"
   ]
  },
  {
   "cell_type": "markdown",
   "id": "9c904f0b",
   "metadata": {},
   "source": [
    "## Handling Errors in Ufuncs"
   ]
  },
  {
   "cell_type": "code",
   "execution_count": null,
   "id": "d45ec826",
   "metadata": {},
   "outputs": [],
   "source": [
    "#313. Use `np.errstate()` to catch errors such as divide by zero or invalid value while performing ufunc operations.\n"
   ]
  },
  {
   "cell_type": "markdown",
   "id": "31ec816a",
   "metadata": {},
   "source": [
    "## Controlling Warnings in Ufunc Operations"
   ]
  },
  {
   "cell_type": "code",
   "execution_count": null,
   "id": "1bf85c53",
   "metadata": {},
   "outputs": [],
   "source": [
    "#314. Control warnings using `np.seterr()` to suppress warnings like overflow or underflow during ufunc operations.\n"
   ]
  },
  {
   "cell_type": "markdown",
   "id": "0eca02d1",
   "metadata": {},
   "source": [
    "## Error Handling with `try-except` Block"
   ]
  },
  {
   "cell_type": "code",
   "execution_count": null,
   "id": "014fae90",
   "metadata": {},
   "outputs": [],
   "source": [
    "#315. Wrap ufunc operations in a `try-except` block to handle potential errors, such as invalid input or shape mismatches.\n"
   ]
  },
  {
   "cell_type": "markdown",
   "id": "f5fe3274",
   "metadata": {},
   "source": [
    "## Handle Division by Zero Error in Ufunc"
   ]
  },
  {
   "cell_type": "code",
   "execution_count": null,
   "id": "443eb0df",
   "metadata": {},
   "outputs": [],
   "source": [
    "#316. Perform a division operation with a potential zero denominator and handle the error gracefully using `np.seterr()`.\n"
   ]
  },
  {
   "cell_type": "markdown",
   "id": "2b2892ad",
   "metadata": {},
   "source": [
    "## Warning Suppression in Ufuncs"
   ]
  },
  {
   "cell_type": "code",
   "execution_count": null,
   "id": "1e520c98",
   "metadata": {},
   "outputs": [],
   "source": [
    "#317. Suppress specific warnings (e.g., divide by zero) when performing ufunc operations using `np.seterr()` and `np.errstate()`.\n"
   ]
  },
  {
   "cell_type": "markdown",
   "id": "37d9784a",
   "metadata": {},
   "source": [
    "## Overriding Ufuncs with Custom Functions"
   ]
  },
  {
   "cell_type": "code",
   "execution_count": null,
   "id": "6828b2f1",
   "metadata": {},
   "outputs": [],
   "source": [
    "#318. Override the behavior of standard ufuncs by creating custom ufuncs using `np.frompyfunc()` and applying them to arrays.\n"
   ]
  },
  {
   "cell_type": "markdown",
   "id": "8a981e97",
   "metadata": {},
   "source": [
    "## Modifying Ufunc Behavior with `out` Parameter"
   ]
  },
  {
   "cell_type": "code",
   "execution_count": null,
   "id": "0f38f2a8",
   "metadata": {},
   "outputs": [],
   "source": [
    "#319. Use the `out` parameter in a ufunc to modify the output array in-place, rather than creating a new array.\n"
   ]
  },
  {
   "cell_type": "markdown",
   "id": "61002834",
   "metadata": {},
   "source": [
    "## Changing Ufunc Behavior Using `dtype` Parameter"
   ]
  },
  {
   "cell_type": "code",
   "execution_count": null,
   "id": "4f41c0a1",
   "metadata": {},
   "outputs": [],
   "source": [
    "#320. Control the output type of a ufunc operation by overriding the `dtype` parameter during the function call.\n"
   ]
  },
  {
   "cell_type": "markdown",
   "id": "eceef6dd",
   "metadata": {},
   "source": [
    "## Implementing Custom Ufunc with `np.vectorize()`"
   ]
  },
  {
   "cell_type": "code",
   "execution_count": null,
   "id": "e1271150",
   "metadata": {},
   "outputs": [],
   "source": [
    "#321. Create a custom ufunc using `np.vectorize()` and apply it to arrays to perform customized element-wise operations.\n"
   ]
  },
  {
   "cell_type": "markdown",
   "id": "59037aef",
   "metadata": {},
   "source": [
    "## Modifying Ufunc Behavior with `signature`"
   ]
  },
  {
   "cell_type": "code",
   "execution_count": null,
   "id": "69f634ed",
   "metadata": {},
   "outputs": [],
   "source": [
    "#322. Use the `signature` parameter to define the expected input-output signature for a custom ufunc.\n"
   ]
  },
  {
   "cell_type": "markdown",
   "id": "65535c70",
   "metadata": {},
   "source": [
    "## Defining the `nargs` for Custom Ufuncs"
   ]
  },
  {
   "cell_type": "code",
   "execution_count": null,
   "id": "c3a24315",
   "metadata": {},
   "outputs": [],
   "source": [
    "#323. Define the number of arguments that a custom ufunc can accept using the `nargs` parameter when creating a ufunc.\n"
   ]
  },
  {
   "cell_type": "markdown",
   "id": "1ae1e3c8",
   "metadata": {},
   "source": [
    "## Ufuncs with Multiple Inputs and Outputs"
   ]
  },
  {
   "cell_type": "code",
   "execution_count": null,
   "id": "b56fe0b2",
   "metadata": {},
   "outputs": [],
   "source": [
    "#324. Create a custom ufunc that accepts multiple inputs and returns multiple outputs, and apply it to arrays.\n"
   ]
  },
  {
   "cell_type": "markdown",
   "id": "bf1d98ef",
   "metadata": {},
   "source": [
    "## Use of `ufunc.reduce`"
   ]
  },
  {
   "cell_type": "code",
   "execution_count": null,
   "id": "b715e1f7",
   "metadata": {},
   "outputs": [],
   "source": [
    "#325. Apply a reduction operation using `ufunc.reduce()` to perform cumulative operations across a specified axis of an array.\n"
   ]
  },
  {
   "cell_type": "markdown",
   "id": "4d23c113",
   "metadata": {},
   "source": [
    "## Use of `ufunc.accumulate`"
   ]
  },
  {
   "cell_type": "code",
   "execution_count": null,
   "id": "edfb78d8",
   "metadata": {},
   "outputs": [],
   "source": [
    "#326. Apply a cumulative operation across an array using `ufunc.accumulate()` to accumulate values along a specified axis.\n"
   ]
  },
  {
   "cell_type": "markdown",
   "id": "b24060e8",
   "metadata": {},
   "source": [
    "## Use of `ufunc.outer`"
   ]
  },
  {
   "cell_type": "code",
   "execution_count": null,
   "id": "76701442",
   "metadata": {},
   "outputs": [],
   "source": [
    "#327. Apply `ufunc.outer()` to compute the outer product between two arrays and observe the resulting array.\n"
   ]
  },
  {
   "cell_type": "markdown",
   "id": "0755af09",
   "metadata": {},
   "source": [
    "## Ufunc with `where` Clause"
   ]
  },
  {
   "cell_type": "code",
   "execution_count": null,
   "id": "1d24bef6",
   "metadata": {},
   "outputs": [],
   "source": [
    "#328. Use the `where` parameter in a ufunc to apply operations only where a given condition is met (e.g., element-wise condition).\n"
   ]
  },
  {
   "cell_type": "markdown",
   "id": "01dbb748",
   "metadata": {},
   "source": [
    "## Ufunc with Multiple Conditions"
   ]
  },
  {
   "cell_type": "code",
   "execution_count": null,
   "id": "aa540d0a",
   "metadata": {},
   "outputs": [],
   "source": [
    "#329. Use multiple conditions inside a ufunc's `where` parameter to control where the operation is performed on arrays.\n"
   ]
  },
  {
   "cell_type": "markdown",
   "id": "ccc98df5",
   "metadata": {},
   "source": [
    "## Optimizing Ufunc Performance with In-place Operations"
   ]
  },
  {
   "cell_type": "code",
   "execution_count": null,
   "id": "05931fc1",
   "metadata": {},
   "outputs": [],
   "source": [
    "#330. Perform in-place operations on arrays using ufuncs and optimize performance by reducing memory overhead.\n"
   ]
  },
  {
   "cell_type": "markdown",
   "id": "98a70c3e",
   "metadata": {},
   "source": [
    "## Benchmarking Ufunc Performance"
   ]
  },
  {
   "cell_type": "code",
   "execution_count": null,
   "id": "0d6a1f35",
   "metadata": {},
   "outputs": [],
   "source": [
    "#331. Benchmark the performance of different ufunc operations using `timeit` to identify the most efficient operations for large arrays.\n"
   ]
  },
  {
   "cell_type": "markdown",
   "id": "f19b42c5",
   "metadata": {},
   "source": [
    "## Using `np.add()` for Efficient Array Operations"
   ]
  },
  {
   "cell_type": "code",
   "execution_count": null,
   "id": "e3e9b015",
   "metadata": {},
   "outputs": [],
   "source": [
    "#332. Use `np.add()` for element-wise addition in large arrays and compare its performance to a loop-based addition approach.\n"
   ]
  },
  {
   "cell_type": "markdown",
   "id": "63950779",
   "metadata": {},
   "source": [
    "## Efficient Array Multiplication with Ufuncs"
   ]
  },
  {
   "cell_type": "code",
   "execution_count": null,
   "id": "d1175551",
   "metadata": {},
   "outputs": [],
   "source": [
    "#333. Use `np.multiply()` for efficient element-wise multiplication of large arrays and compare with manual loops.\n"
   ]
  },
  {
   "cell_type": "markdown",
   "id": "91c698e2",
   "metadata": {},
   "source": [
    "## Parallelizing Ufuncs with `np.vectorize()`"
   ]
  },
  {
   "cell_type": "code",
   "execution_count": null,
   "id": "f762bf0d",
   "metadata": {},
   "outputs": [],
   "source": [
    "#334. Use `np.vectorize()` to parallelize simple ufunc operations on large datasets and observe the speed improvements.\n"
   ]
  },
  {
   "cell_type": "markdown",
   "id": "2d6f640a",
   "metadata": {},
   "source": [
    "## Optimize Ufunc with `out` and `where` Parameters"
   ]
  },
  {
   "cell_type": "code",
   "execution_count": null,
   "id": "b2b6e9ca",
   "metadata": {},
   "outputs": [],
   "source": [
    "#335. Use the `out` and `where` parameters in ufunc operations to optimize memory usage and avoid unnecessary array creation.\n"
   ]
  }
 ],
 "metadata": {},
 "nbformat": 4,
 "nbformat_minor": 5
}
